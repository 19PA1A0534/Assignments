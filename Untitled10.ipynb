{
  "nbformat": 4,
  "nbformat_minor": 0,
  "metadata": {
    "colab": {
      "name": "Untitled10.ipynb",
      "provenance": [],
      "authorship_tag": "ABX9TyM0TUzdwEV8mBBK9gZsJ1PT",
      "include_colab_link": true
    },
    "kernelspec": {
      "name": "python3",
      "display_name": "Python 3"
    }
  },
  "cells": [
    {
      "cell_type": "markdown",
      "metadata": {
        "id": "view-in-github",
        "colab_type": "text"
      },
      "source": [
        "<a href=\"https://colab.research.google.com/github/19PA1A0534/VITBML-EDA3/blob/master/Untitled10.ipynb\" target=\"_parent\"><img src=\"https://colab.research.google.com/assets/colab-badge.svg\" alt=\"Open In Colab\"/></a>"
      ]
    },
    {
      "cell_type": "markdown",
      "metadata": {
        "id": "-HSoGW7YOvvs",
        "colab_type": "text"
      },
      "source": [
        "My Jupyter Notebook"
      ]
    },
    {
      "cell_type": "markdown",
      "metadata": {
        "id": "NNBVkCXeO-97",
        "colab_type": "text"
      },
      "source": [
        "**Mahesh**"
      ]
    },
    {
      "cell_type": "markdown",
      "metadata": {
        "id": "JRDn9UOaPFnn",
        "colab_type": "text"
      },
      "source": [
        "Student"
      ]
    },
    {
      "cell_type": "markdown",
      "metadata": {
        "id": "z4qBpxQGPbf0",
        "colab_type": "text"
      },
      "source": [
        "*italicized text*"
      ]
    },
    {
      "cell_type": "markdown",
      "metadata": {
        "id": "60rKjFHRPjQi",
        "colab_type": "text"
      },
      "source": [
        "The below code finds the sum of two numbers"
      ]
    },
    {
      "cell_type": "code",
      "metadata": {
        "id": "guKxcxw5Puw3",
        "colab_type": "code",
        "colab": {
          "base_uri": "https://localhost:8080/",
          "height": 34
        },
        "outputId": "a369ee31-74bc-40ef-937c-bb73d911f513"
      },
      "source": [
        "5+8"
      ],
      "execution_count": 1,
      "outputs": [
        {
          "output_type": "execute_result",
          "data": {
            "text/plain": [
              "13"
            ]
          },
          "metadata": {
            "tags": []
          },
          "execution_count": 1
        }
      ]
    },
    {
      "cell_type": "code",
      "metadata": {
        "id": "b1FoJF4gPzGe",
        "colab_type": "code",
        "colab": {
          "base_uri": "https://localhost:8080/",
          "height": 34
        },
        "outputId": "45b85786-b614-47b0-ef15-fc1f4fb629aa"
      },
      "source": [
        "10+16"
      ],
      "execution_count": 2,
      "outputs": [
        {
          "output_type": "execute_result",
          "data": {
            "text/plain": [
              "26"
            ]
          },
          "metadata": {
            "tags": []
          },
          "execution_count": 2
        }
      ]
    },
    {
      "cell_type": "markdown",
      "metadata": {
        "id": "51lPQpb1P2Ke",
        "colab_type": "text"
      },
      "source": [
        "\n",
        "\n",
        "> Indented block\n",
        "\n"
      ]
    },
    {
      "cell_type": "markdown",
      "metadata": {
        "id": "uK3G4WYcP48d",
        "colab_type": "text"
      },
      "source": [
        "\n",
        "\n",
        "1.   List item\n",
        "2.   List item\n",
        "\n"
      ]
    },
    {
      "cell_type": "markdown",
      "metadata": {
        "id": "fqGPQy2CP6YD",
        "colab_type": "text"
      },
      "source": [
        "\n",
        "\n",
        "*   List item\n",
        "*   List item\n",
        "\n"
      ]
    }
  ]
}