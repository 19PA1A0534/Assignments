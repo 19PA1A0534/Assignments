{
  "nbformat": 4,
  "nbformat_minor": 0,
  "metadata": {
    "colab": {
      "name": "Copy of Copy of Copy of Untitled5.ipynb",
      "provenance": [],
      "authorship_tag": "ABX9TyNySElRh0nyAScZ6j4cGjbd",
      "include_colab_link": true
    },
    "kernelspec": {
      "name": "python3",
      "display_name": "Python 3"
    }
  },
  "cells": [
    {
      "cell_type": "markdown",
      "metadata": {
        "id": "view-in-github",
        "colab_type": "text"
      },
      "source": [
        "<a href=\"https://colab.research.google.com/github/19PA1A0534/VITBML-EDA3/blob/master/Copy_of_Copy_of_Copy_of_Untitled5.ipynb\" target=\"_parent\"><img src=\"https://colab.research.google.com/assets/colab-badge.svg\" alt=\"Open In Colab\"/></a>"
      ]
    },
    {
      "cell_type": "markdown",
      "metadata": {
        "id": "qre69BLPCbmh",
        "colab_type": "text"
      },
      "source": [
        "# This data is about flipkart shopping and products "
      ]
    },
    {
      "cell_type": "markdown",
      "metadata": {
        "id": "SWdocM2JUu2Y",
        "colab_type": "text"
      },
      "source": [
        "Exploring Data:We took data from online sourcehttps://www.kaggle.com/PromptCloudHQ/flipkart-products This Dataset contains:20000 rows and 15 columns.\n",
        "\n",
        "A set which has rows and columns is known as Dataset."
      ]
    },
    {
      "cell_type": "markdown",
      "metadata": {
        "id": "aj5g9Dx-aWj-",
        "colab_type": "text"
      },
      "source": [
        "The variables in Dataset are:\n",
        "\n",
        "\n",
        "\n",
        "* uniq_id-This shows the product id.\n",
        "*   crawl_timestamp-It shows the date and time of purchased product.\n",
        "*   product_url-This shows the URL of the product.\n",
        "*  product_name-This shows the name of the product.\n",
        "*   product_category_tree-It shows the type of the product.\n",
        "*   pid-It shows the product number.\n",
        "*   retail_price-Shows the price of the product.\n",
        "*   discounted_price-Shows the discounted price of the product.\n",
        "\n",
        "*  image-This shows the image of the product.\n",
        "\n",
        "*  is_FK_Advantage_product-Shows whether the product is advantage or not.\n",
        "\n",
        "\n",
        "*   description-It describes about the given item.\n",
        "*   product_rating-Shows rating of the product.\n",
        "\n",
        "\n",
        "*   overall_rating-Shows overall rating of the product.\n",
        "*   brand-To which company this product belongs to.\n",
        "\n",
        "*   product_specifications-Shows the specifications of the product.\n",
        "\n",
        "\n",
        "\n",
        "\n",
        "\n",
        "\n",
        "\n",
        "\n",
        "\n",
        "\n",
        "\n",
        "\n",
        "\n",
        "\n",
        "\n",
        "\n",
        "\n",
        "\n",
        "\n",
        "\n"
      ]
    },
    {
      "cell_type": "markdown",
      "metadata": {
        "id": "HKB4wYkaeUiA",
        "colab_type": "text"
      },
      "source": [
        "Questions on dataset:\n",
        "\n",
        "\n",
        "1. on which flipkart product retail price is more?\n",
        "2. what is the maximum discounted price?\n",
        "3. which product has more rating?\n",
        "2. how many products are advantage?\n",
        "1. which product is more saled?\n",
        "2. which brand is mostly used?\n",
        "1.at what time more products are purchased?\n",
        "2.which brand has more product specifications?\n",
        "1.which product has minimum overall rating?   \n",
        "2.which product has more pid number?\n",
        "\n",
        "\n",
        "\n",
        "\n",
        "\n",
        "\n",
        "\n",
        "\n",
        "\n",
        "\n",
        "\n"
      ]
    },
    {
      "cell_type": "code",
      "metadata": {
        "id": "OKFuUYQgiWPO",
        "colab_type": "code",
        "outputId": "7512e8c0-654e-4f6a-c36a-9394f169ef14",
        "colab": {
          "base_uri": "https://localhost:8080/",
          "height": 255
        }
      },
      "source": [
        "import numpy as np\n",
        "import pandas as pd\n",
        "import matplotlib.pyplot as plt\n",
        "a=pd.read_csv('flipkart-products.zip')\n",
        "print(a)"
      ],
      "execution_count": 0,
      "outputs": [
        {
          "output_type": "stream",
          "text": [
            "                                uniq_id  ...                             product_specifications\n",
            "0      c2d766ca982eca8304150849735ffef9  ...  {\"product_specification\"=>[{\"key\"=>\"Number of ...\n",
            "1      7f7036a6d550aaa89d34c77bd39a5e48  ...  {\"product_specification\"=>[{\"key\"=>\"Installati...\n",
            "2      f449ec65dcbc041b6ae5e6a32717d01b  ...  {\"product_specification\"=>[{\"key\"=>\"Ideal For\"...\n",
            "3      0973b37acd0c664e3de26e97e5571454  ...  {\"product_specification\"=>[{\"key\"=>\"Number of ...\n",
            "4      bc940ea42ee6bef5ac7cea3fb5cfbee7  ...  {\"product_specification\"=>[{\"key\"=>\"Pet Type\",...\n",
            "...                                 ...  ...                                                ...\n",
            "19995  7179d2f6c4ad50a17d014ca1d2815156  ...  {\"product_specification\"=>[{\"key\"=>\"Number of ...\n",
            "19996  71ac419198359d37b8fe5e3fffdfee09  ...  {\"product_specification\"=>[{\"key\"=>\"Number of ...\n",
            "19997  93e9d343837400ce0d7980874ece471c  ...  {\"product_specification\"=>[{\"key\"=>\"Number of ...\n",
            "19998  669e79b8fa5d9ae020841c0c97d5e935  ...  {\"product_specification\"=>[{\"key\"=>\"Number of ...\n",
            "19999  cb4fa87a874f715fff567f7b7b3be79c  ...  {\"product_specification\"=>[{\"key\"=>\"Number of ...\n",
            "\n",
            "[20000 rows x 15 columns]\n"
          ],
          "name": "stdout"
        }
      ]
    },
    {
      "cell_type": "code",
      "metadata": {
        "id": "zHwnPGEbisEC",
        "colab_type": "code",
        "outputId": "ba4f75bb-3322-4af4-ab80-5fdaf5aa2105",
        "colab": {
          "base_uri": "https://localhost:8080/",
          "height": 34
        }
      },
      "source": [
        "a.shape#prints no.of rows and columns"
      ],
      "execution_count": 0,
      "outputs": [
        {
          "output_type": "execute_result",
          "data": {
            "text/plain": [
              "(20000, 15)"
            ]
          },
          "metadata": {
            "tags": []
          },
          "execution_count": 14
        }
      ]
    },
    {
      "cell_type": "code",
      "metadata": {
        "id": "0xA8aZRfi2kT",
        "colab_type": "code",
        "outputId": "555bfed8-fd56-400d-dac2-7bb566bd74c8",
        "colab": {
          "base_uri": "https://localhost:8080/",
          "height": 34
        }
      },
      "source": [
        "a.ndim#prints no.of dimensions"
      ],
      "execution_count": 0,
      "outputs": [
        {
          "output_type": "execute_result",
          "data": {
            "text/plain": [
              "2"
            ]
          },
          "metadata": {
            "tags": []
          },
          "execution_count": 15
        }
      ]
    },
    {
      "cell_type": "code",
      "metadata": {
        "id": "ACO3cio6i830",
        "colab_type": "code",
        "outputId": "ab2a701c-b529-4186-d003-3d123dab84a2",
        "colab": {
          "base_uri": "https://localhost:8080/",
          "height": 102
        }
      },
      "source": [
        "a.columns#prints columns in dataset"
      ],
      "execution_count": 0,
      "outputs": [
        {
          "output_type": "execute_result",
          "data": {
            "text/plain": [
              "Index(['uniq_id', 'crawl_timestamp', 'product_url', 'product_name',\n",
              "       'product_category_tree', 'pid', 'retail_price', 'discounted_price',\n",
              "       'image', 'is_FK_Advantage_product', 'description', 'product_rating',\n",
              "       'overall_rating', 'brand', 'product_specifications'],\n",
              "      dtype='object')"
            ]
          },
          "metadata": {
            "tags": []
          },
          "execution_count": 16
        }
      ]
    },
    {
      "cell_type": "code",
      "metadata": {
        "id": "e-E3o1l6jDfi",
        "colab_type": "code",
        "outputId": "7beb533b-1361-4cc2-be95-d7f7d6ca2dfa",
        "colab": {
          "base_uri": "https://localhost:8080/",
          "height": 34
        }
      },
      "source": [
        "type(a)#prints dataset is series or dataframe"
      ],
      "execution_count": 0,
      "outputs": [
        {
          "output_type": "execute_result",
          "data": {
            "text/plain": [
              "pandas.core.frame.DataFrame"
            ]
          },
          "metadata": {
            "tags": []
          },
          "execution_count": 17
        }
      ]
    },
    {
      "cell_type": "code",
      "metadata": {
        "id": "QQeYGwINjXMx",
        "colab_type": "code",
        "outputId": "c7b697dd-01b2-41fc-d04f-eea962e6eb25",
        "colab": {
          "base_uri": "https://localhost:8080/",
          "height": 289
        }
      },
      "source": [
        "a.dtypes#prints data types in the data set"
      ],
      "execution_count": 0,
      "outputs": [
        {
          "output_type": "execute_result",
          "data": {
            "text/plain": [
              "uniq_id                     object\n",
              "crawl_timestamp             object\n",
              "product_url                 object\n",
              "product_name                object\n",
              "product_category_tree       object\n",
              "pid                         object\n",
              "retail_price               float64\n",
              "discounted_price           float64\n",
              "image                       object\n",
              "is_FK_Advantage_product       bool\n",
              "description                 object\n",
              "product_rating              object\n",
              "overall_rating              object\n",
              "brand                       object\n",
              "product_specifications      object\n",
              "dtype: object"
            ]
          },
          "metadata": {
            "tags": []
          },
          "execution_count": 18
        }
      ]
    },
    {
      "cell_type": "code",
      "metadata": {
        "id": "_ZR7WAtjjjRz",
        "colab_type": "code",
        "outputId": "62247652-9761-466f-b297-a09d9595a14f",
        "colab": {
          "base_uri": "https://localhost:8080/",
          "height": 153
        }
      },
      "source": [
        "print(a.head())#prints rows from starting of data"
      ],
      "execution_count": 0,
      "outputs": [
        {
          "output_type": "stream",
          "text": [
            "                            uniq_id  ...                             product_specifications\n",
            "0  c2d766ca982eca8304150849735ffef9  ...  {\"product_specification\"=>[{\"key\"=>\"Number of ...\n",
            "1  7f7036a6d550aaa89d34c77bd39a5e48  ...  {\"product_specification\"=>[{\"key\"=>\"Installati...\n",
            "2  f449ec65dcbc041b6ae5e6a32717d01b  ...  {\"product_specification\"=>[{\"key\"=>\"Ideal For\"...\n",
            "3  0973b37acd0c664e3de26e97e5571454  ...  {\"product_specification\"=>[{\"key\"=>\"Number of ...\n",
            "4  bc940ea42ee6bef5ac7cea3fb5cfbee7  ...  {\"product_specification\"=>[{\"key\"=>\"Pet Type\",...\n",
            "\n",
            "[5 rows x 15 columns]\n"
          ],
          "name": "stdout"
        }
      ]
    },
    {
      "cell_type": "code",
      "metadata": {
        "id": "mgsDvmFoivPJ",
        "colab_type": "code",
        "outputId": "b066c475-a5be-47f3-ead2-21fb3ec6a699",
        "colab": {
          "base_uri": "https://localhost:8080/",
          "height": 153
        }
      },
      "source": [
        "print(a.tail())#prints rows from ending of data"
      ],
      "execution_count": 0,
      "outputs": [
        {
          "output_type": "stream",
          "text": [
            "                                uniq_id  ...                             product_specifications\n",
            "19995  7179d2f6c4ad50a17d014ca1d2815156  ...  {\"product_specification\"=>[{\"key\"=>\"Number of ...\n",
            "19996  71ac419198359d37b8fe5e3fffdfee09  ...  {\"product_specification\"=>[{\"key\"=>\"Number of ...\n",
            "19997  93e9d343837400ce0d7980874ece471c  ...  {\"product_specification\"=>[{\"key\"=>\"Number of ...\n",
            "19998  669e79b8fa5d9ae020841c0c97d5e935  ...  {\"product_specification\"=>[{\"key\"=>\"Number of ...\n",
            "19999  cb4fa87a874f715fff567f7b7b3be79c  ...  {\"product_specification\"=>[{\"key\"=>\"Number of ...\n",
            "\n",
            "[5 rows x 15 columns]\n"
          ],
          "name": "stdout"
        }
      ]
    },
    {
      "cell_type": "code",
      "metadata": {
        "id": "jjAMTBp4kPAC",
        "colab_type": "code",
        "outputId": "463fd797-f900-46a9-8482-35de7db6be68",
        "colab": {
          "base_uri": "https://localhost:8080/",
          "height": 238
        }
      },
      "source": [
        "print(a.head(10))#prints first 10 rows"
      ],
      "execution_count": 0,
      "outputs": [
        {
          "output_type": "stream",
          "text": [
            "                            uniq_id  ...                             product_specifications\n",
            "0  c2d766ca982eca8304150849735ffef9  ...  {\"product_specification\"=>[{\"key\"=>\"Number of ...\n",
            "1  7f7036a6d550aaa89d34c77bd39a5e48  ...  {\"product_specification\"=>[{\"key\"=>\"Installati...\n",
            "2  f449ec65dcbc041b6ae5e6a32717d01b  ...  {\"product_specification\"=>[{\"key\"=>\"Ideal For\"...\n",
            "3  0973b37acd0c664e3de26e97e5571454  ...  {\"product_specification\"=>[{\"key\"=>\"Number of ...\n",
            "4  bc940ea42ee6bef5ac7cea3fb5cfbee7  ...  {\"product_specification\"=>[{\"key\"=>\"Pet Type\",...\n",
            "5  c2a17313954882c1dba461863e98adf2  ...  {\"product_specification\"=>[{\"key\"=>\"Model Name...\n",
            "6  ce5a6818f7707e2cb61fdcdbba61f5ad  ...  {\"product_specification\"=>[{\"key\"=>\"Number of ...\n",
            "7  8542703ca9e6ebdf6d742638dfb1f2ca  ...  {\"product_specification\"=>[{\"key\"=>\"Installati...\n",
            "8  29c8d290caa451f97b1c32df64477a2c  ...  {\"product_specification\"=>[{\"key\"=>\"Occasion\",...\n",
            "9  4044c0ac52c1ee4b28777417651faf42  ...  {\"product_specification\"=>[{\"key\"=>\"Number of ...\n",
            "\n",
            "[10 rows x 15 columns]\n"
          ],
          "name": "stdout"
        }
      ]
    },
    {
      "cell_type": "code",
      "metadata": {
        "id": "gf7wpoK0kTJu",
        "colab_type": "code",
        "outputId": "1fa40384-63f2-4dca-b0da-780f7fdc155a",
        "colab": {
          "base_uri": "https://localhost:8080/",
          "height": 238
        }
      },
      "source": [
        "print(a.tail(10))#prints last 10 rows"
      ],
      "execution_count": 0,
      "outputs": [
        {
          "output_type": "stream",
          "text": [
            "                                uniq_id  ...                             product_specifications\n",
            "19990  5847c8e9547dd50843f9d89886848ab9  ...  {\"product_specification\"=>[{\"key\"=>\"Number of ...\n",
            "19991  4b4714b5f0c9971d1145efe8d16c458b  ...  {\"product_specification\"=>[{\"key\"=>\"Number of ...\n",
            "19992  a68293dfd7b022e03cbf57e9bb002496  ...  {\"product_specification\"=>[{\"key\"=>\"Sales Pack...\n",
            "19993  a38fc11b1f6dc2d38bf38fae03ab6743  ...  {\"product_specification\"=>[{\"key\"=>\"Number of ...\n",
            "19994  7415e1a421fb468d25a5ea56350f44be  ...  {\"product_specification\"=>[{\"key\"=>\"Number of ...\n",
            "19995  7179d2f6c4ad50a17d014ca1d2815156  ...  {\"product_specification\"=>[{\"key\"=>\"Number of ...\n",
            "19996  71ac419198359d37b8fe5e3fffdfee09  ...  {\"product_specification\"=>[{\"key\"=>\"Number of ...\n",
            "19997  93e9d343837400ce0d7980874ece471c  ...  {\"product_specification\"=>[{\"key\"=>\"Number of ...\n",
            "19998  669e79b8fa5d9ae020841c0c97d5e935  ...  {\"product_specification\"=>[{\"key\"=>\"Number of ...\n",
            "19999  cb4fa87a874f715fff567f7b7b3be79c  ...  {\"product_specification\"=>[{\"key\"=>\"Number of ...\n",
            "\n",
            "[10 rows x 15 columns]\n"
          ],
          "name": "stdout"
        }
      ]
    },
    {
      "cell_type": "code",
      "metadata": {
        "id": "lQT-i61FrbMS",
        "colab_type": "code",
        "outputId": "8bb72c39-ab81-4bcd-b3c2-e0db8dc34325",
        "colab": {
          "base_uri": "https://localhost:8080/",
          "height": 170
        }
      },
      "source": [
        "print(a.describe())#prints central tendencies in data"
      ],
      "execution_count": 0,
      "outputs": [
        {
          "output_type": "stream",
          "text": [
            "        retail_price  discounted_price\n",
            "count   19922.000000      19922.000000\n",
            "mean     2979.206104       1973.401767\n",
            "std      9009.639341       7333.586040\n",
            "min        35.000000         35.000000\n",
            "25%       666.000000        350.000000\n",
            "50%      1040.000000        550.000000\n",
            "75%      1999.000000        999.000000\n",
            "max    571230.000000     571230.000000\n"
          ],
          "name": "stdout"
        }
      ]
    },
    {
      "cell_type": "code",
      "metadata": {
        "id": "ti19T5lArmER",
        "colab_type": "code",
        "outputId": "5f69cb9e-6cbd-4303-9b5c-ca3cdaaacbcc",
        "colab": {
          "base_uri": "https://localhost:8080/",
          "height": 255
        }
      },
      "source": [
        "print(a.describe(include='all'))"
      ],
      "execution_count": 0,
      "outputs": [
        {
          "output_type": "stream",
          "text": [
            "                                 uniq_id  ...                             product_specifications\n",
            "count                              20000  ...                                              19986\n",
            "unique                             20000  ...                                              18825\n",
            "top     2e53759dd447b93fffef97d30ad2d65d  ...  {\"product_specification\"=>[{\"key\"=>\"Type\", \"va...\n",
            "freq                                   1  ...                                                 71\n",
            "mean                                 NaN  ...                                                NaN\n",
            "std                                  NaN  ...                                                NaN\n",
            "min                                  NaN  ...                                                NaN\n",
            "25%                                  NaN  ...                                                NaN\n",
            "50%                                  NaN  ...                                                NaN\n",
            "75%                                  NaN  ...                                                NaN\n",
            "max                                  NaN  ...                                                NaN\n",
            "\n",
            "[11 rows x 15 columns]\n"
          ],
          "name": "stdout"
        }
      ]
    },
    {
      "cell_type": "code",
      "metadata": {
        "id": "Us0ACo18re7H",
        "colab_type": "code",
        "outputId": "663d2a19-8b9e-4798-9f5a-47b011b87ca0",
        "colab": {
          "base_uri": "https://localhost:8080/",
          "height": 357
        }
      },
      "source": [
        "a.info()"
      ],
      "execution_count": 0,
      "outputs": [
        {
          "output_type": "stream",
          "text": [
            "<class 'pandas.core.frame.DataFrame'>\n",
            "RangeIndex: 20000 entries, 0 to 19999\n",
            "Data columns (total 15 columns):\n",
            "uniq_id                    20000 non-null object\n",
            "crawl_timestamp            20000 non-null object\n",
            "product_url                20000 non-null object\n",
            "product_name               20000 non-null object\n",
            "product_category_tree      20000 non-null object\n",
            "pid                        20000 non-null object\n",
            "retail_price               19922 non-null float64\n",
            "discounted_price           19922 non-null float64\n",
            "image                      19997 non-null object\n",
            "is_FK_Advantage_product    20000 non-null bool\n",
            "description                19998 non-null object\n",
            "product_rating             20000 non-null object\n",
            "overall_rating             20000 non-null object\n",
            "brand                      14136 non-null object\n",
            "product_specifications     19986 non-null object\n",
            "dtypes: bool(1), float64(2), object(12)\n",
            "memory usage: 2.2+ MB\n"
          ],
          "name": "stdout"
        }
      ]
    },
    {
      "cell_type": "code",
      "metadata": {
        "id": "FVxilJnL08Le",
        "colab_type": "code",
        "outputId": "80b62bb4-af60-400c-e3f6-5f6d759f08a6",
        "colab": {
          "base_uri": "https://localhost:8080/",
          "height": 289
        }
      },
      "source": [
        "a.count()#prints no.of products in all rows"
      ],
      "execution_count": 0,
      "outputs": [
        {
          "output_type": "execute_result",
          "data": {
            "text/plain": [
              "uniq_id                    20000\n",
              "crawl_timestamp            20000\n",
              "product_url                20000\n",
              "product_name               20000\n",
              "product_category_tree      20000\n",
              "pid                        20000\n",
              "retail_price               19922\n",
              "discounted_price           19922\n",
              "image                      19997\n",
              "is_FK_Advantage_product    20000\n",
              "description                19998\n",
              "product_rating             20000\n",
              "overall_rating             20000\n",
              "brand                      14136\n",
              "product_specifications     19986\n",
              "dtype: int64"
            ]
          },
          "metadata": {
            "tags": []
          },
          "execution_count": 55
        }
      ]
    },
    {
      "cell_type": "code",
      "metadata": {
        "id": "L5eiFP_v0_jo",
        "colab_type": "code",
        "outputId": "5f7e7d05-c0ba-40d4-b2ed-b44ec24d1286",
        "colab": {
          "base_uri": "https://localhost:8080/",
          "height": 85
        }
      },
      "source": [
        "a.std()#prints standard deviation"
      ],
      "execution_count": 0,
      "outputs": [
        {
          "output_type": "execute_result",
          "data": {
            "text/plain": [
              "retail_price               9009.639341\n",
              "discounted_price           7333.586040\n",
              "is_FK_Advantage_product       0.194194\n",
              "dtype: float64"
            ]
          },
          "metadata": {
            "tags": []
          },
          "execution_count": 56
        }
      ]
    },
    {
      "cell_type": "code",
      "metadata": {
        "id": "LL4b1k6b-XOO",
        "colab_type": "code",
        "outputId": "a11fe16f-2ce8-4506-a584-25b7333e275e",
        "colab": {
          "base_uri": "https://localhost:8080/",
          "height": 255
        }
      },
      "source": [
        "print(a.dropna())#prints no.of rows which has empty values"
      ],
      "execution_count": 0,
      "outputs": [
        {
          "output_type": "stream",
          "text": [
            "                                uniq_id  ...                             product_specifications\n",
            "0      c2d766ca982eca8304150849735ffef9  ...  {\"product_specification\"=>[{\"key\"=>\"Number of ...\n",
            "1      7f7036a6d550aaa89d34c77bd39a5e48  ...  {\"product_specification\"=>[{\"key\"=>\"Installati...\n",
            "2      f449ec65dcbc041b6ae5e6a32717d01b  ...  {\"product_specification\"=>[{\"key\"=>\"Ideal For\"...\n",
            "3      0973b37acd0c664e3de26e97e5571454  ...  {\"product_specification\"=>[{\"key\"=>\"Number of ...\n",
            "4      bc940ea42ee6bef5ac7cea3fb5cfbee7  ...  {\"product_specification\"=>[{\"key\"=>\"Pet Type\",...\n",
            "...                                 ...  ...                                                ...\n",
            "19995  7179d2f6c4ad50a17d014ca1d2815156  ...  {\"product_specification\"=>[{\"key\"=>\"Number of ...\n",
            "19996  71ac419198359d37b8fe5e3fffdfee09  ...  {\"product_specification\"=>[{\"key\"=>\"Number of ...\n",
            "19997  93e9d343837400ce0d7980874ece471c  ...  {\"product_specification\"=>[{\"key\"=>\"Number of ...\n",
            "19998  669e79b8fa5d9ae020841c0c97d5e935  ...  {\"product_specification\"=>[{\"key\"=>\"Number of ...\n",
            "19999  cb4fa87a874f715fff567f7b7b3be79c  ...  {\"product_specification\"=>[{\"key\"=>\"Number of ...\n",
            "\n",
            "[14058 rows x 15 columns]\n"
          ],
          "name": "stdout"
        }
      ]
    },
    {
      "cell_type": "code",
      "metadata": {
        "id": "Z_DoLI1N-jw9",
        "colab_type": "code",
        "outputId": "46df76a6-b279-4514-88b8-02a31e879021",
        "colab": {
          "base_uri": "https://localhost:8080/",
          "height": 255
        }
      },
      "source": [
        "print(a.fillna('method=pad'))#fills the empty values"
      ],
      "execution_count": 0,
      "outputs": [
        {
          "output_type": "stream",
          "text": [
            "                                uniq_id  ...                             product_specifications\n",
            "0      c2d766ca982eca8304150849735ffef9  ...  {\"product_specification\"=>[{\"key\"=>\"Number of ...\n",
            "1      7f7036a6d550aaa89d34c77bd39a5e48  ...  {\"product_specification\"=>[{\"key\"=>\"Installati...\n",
            "2      f449ec65dcbc041b6ae5e6a32717d01b  ...  {\"product_specification\"=>[{\"key\"=>\"Ideal For\"...\n",
            "3      0973b37acd0c664e3de26e97e5571454  ...  {\"product_specification\"=>[{\"key\"=>\"Number of ...\n",
            "4      bc940ea42ee6bef5ac7cea3fb5cfbee7  ...  {\"product_specification\"=>[{\"key\"=>\"Pet Type\",...\n",
            "...                                 ...  ...                                                ...\n",
            "19995  7179d2f6c4ad50a17d014ca1d2815156  ...  {\"product_specification\"=>[{\"key\"=>\"Number of ...\n",
            "19996  71ac419198359d37b8fe5e3fffdfee09  ...  {\"product_specification\"=>[{\"key\"=>\"Number of ...\n",
            "19997  93e9d343837400ce0d7980874ece471c  ...  {\"product_specification\"=>[{\"key\"=>\"Number of ...\n",
            "19998  669e79b8fa5d9ae020841c0c97d5e935  ...  {\"product_specification\"=>[{\"key\"=>\"Number of ...\n",
            "19999  cb4fa87a874f715fff567f7b7b3be79c  ...  {\"product_specification\"=>[{\"key\"=>\"Number of ...\n",
            "\n",
            "[20000 rows x 15 columns]\n"
          ],
          "name": "stdout"
        }
      ]
    },
    {
      "cell_type": "code",
      "metadata": {
        "id": "CbfpFOh03-VS",
        "colab_type": "code",
        "outputId": "fc3ae2ea-c783-4c9b-f2ae-f62653016038",
        "colab": {
          "base_uri": "https://localhost:8080/",
          "height": 34
        }
      },
      "source": [
        "a['discounted_price'].sum()#prints sum of the given row"
      ],
      "execution_count": 0,
      "outputs": [
        {
          "output_type": "execute_result",
          "data": {
            "text/plain": [
              "39314110.0"
            ]
          },
          "metadata": {
            "tags": []
          },
          "execution_count": 71
        }
      ]
    },
    {
      "cell_type": "code",
      "metadata": {
        "id": "eGTTC9ru4DVR",
        "colab_type": "code",
        "outputId": "fccf1df8-4b54-4cb0-f4b0-0fedc7f21362",
        "colab": {
          "base_uri": "https://localhost:8080/",
          "height": 34
        }
      },
      "source": [
        "a['is_FK_Advantage_product'].sum()"
      ],
      "execution_count": 0,
      "outputs": [
        {
          "output_type": "execute_result",
          "data": {
            "text/plain": [
              "785"
            ]
          },
          "metadata": {
            "tags": []
          },
          "execution_count": 72
        }
      ]
    },
    {
      "cell_type": "code",
      "metadata": {
        "id": "4LZHkP8H4fSC",
        "colab_type": "code",
        "outputId": "58672790-ab95-4fb2-9965-391efb20050f",
        "colab": {
          "base_uri": "https://localhost:8080/",
          "height": 34
        }
      },
      "source": [
        "a['retail_price'].sum()"
      ],
      "execution_count": 0,
      "outputs": [
        {
          "output_type": "execute_result",
          "data": {
            "text/plain": [
              "59351744.0"
            ]
          },
          "metadata": {
            "tags": []
          },
          "execution_count": 74
        }
      ]
    },
    {
      "cell_type": "code",
      "metadata": {
        "id": "B1DzP2-O4H1P",
        "colab_type": "code",
        "outputId": "ab7ec285-b920-4c0e-8531-ee1bb8c93d44",
        "colab": {
          "base_uri": "https://localhost:8080/",
          "height": 221
        }
      },
      "source": [
        "a['retail_price']#prints the row"
      ],
      "execution_count": 0,
      "outputs": [
        {
          "output_type": "execute_result",
          "data": {
            "text/plain": [
              "0          999.0\n",
              "1        32157.0\n",
              "2          999.0\n",
              "3          699.0\n",
              "4          220.0\n",
              "          ...   \n",
              "19995     1500.0\n",
              "19996     1429.0\n",
              "19997     1299.0\n",
              "19998     1499.0\n",
              "19999     1499.0\n",
              "Name: retail_price, Length: 20000, dtype: float64"
            ]
          },
          "metadata": {
            "tags": []
          },
          "execution_count": 73
        }
      ]
    },
    {
      "cell_type": "code",
      "metadata": {
        "id": "rZTF1JJORYFy",
        "colab_type": "code",
        "outputId": "11d30f15-212e-4ab4-ca15-04f90052f179",
        "colab": {
          "base_uri": "https://localhost:8080/",
          "height": 221
        }
      },
      "source": [
        "a['discounted_price']"
      ],
      "execution_count": 0,
      "outputs": [
        {
          "output_type": "execute_result",
          "data": {
            "text/plain": [
              "0          379.0\n",
              "1        22646.0\n",
              "2          499.0\n",
              "3          267.0\n",
              "4          210.0\n",
              "          ...   \n",
              "19995      730.0\n",
              "19996     1143.0\n",
              "19997      999.0\n",
              "19998     1199.0\n",
              "19999      999.0\n",
              "Name: discounted_price, Length: 20000, dtype: float64"
            ]
          },
          "metadata": {
            "tags": []
          },
          "execution_count": 10
        }
      ]
    },
    {
      "cell_type": "code",
      "metadata": {
        "id": "KfHwAcUWTHWT",
        "colab_type": "code",
        "outputId": "d2bde4c2-57d9-4717-9760-0d0636f0a896",
        "colab": {
          "base_uri": "https://localhost:8080/",
          "height": 255
        }
      },
      "source": [
        "print(a[1:100])#prints first 100 rows"
      ],
      "execution_count": 0,
      "outputs": [
        {
          "output_type": "stream",
          "text": [
            "                             uniq_id  ...                             product_specifications\n",
            "1   7f7036a6d550aaa89d34c77bd39a5e48  ...  {\"product_specification\"=>[{\"key\"=>\"Installati...\n",
            "2   f449ec65dcbc041b6ae5e6a32717d01b  ...  {\"product_specification\"=>[{\"key\"=>\"Ideal For\"...\n",
            "3   0973b37acd0c664e3de26e97e5571454  ...  {\"product_specification\"=>[{\"key\"=>\"Number of ...\n",
            "4   bc940ea42ee6bef5ac7cea3fb5cfbee7  ...  {\"product_specification\"=>[{\"key\"=>\"Pet Type\",...\n",
            "5   c2a17313954882c1dba461863e98adf2  ...  {\"product_specification\"=>[{\"key\"=>\"Model Name...\n",
            "..                               ...  ...                                                ...\n",
            "95  f80ba21b9e77fe3a4d0e944f86305f8d  ...  {\"product_specification\"=>[{\"key\"=>\"Number of ...\n",
            "96  41aa2d73a19f0c3438b3c77134696830  ...  {\"product_specification\"=>[{\"key\"=>\"Occasion\",...\n",
            "97  c0824c9e7ee6b79006ce698a2a7a413c  ...  {\"product_specification\"=>[{\"key\"=>\"Altimeter\"...\n",
            "98  15f03b13b010db0a355ae094fddc9e86  ...  {\"product_specification\"=>[{\"key\"=>\"Occasion\",...\n",
            "99  0c7a6176e932cc20399a890433186ab5  ...  {\"product_specification\"=>[{\"key\"=>\"Type\", \"va...\n",
            "\n",
            "[99 rows x 15 columns]\n"
          ],
          "name": "stdout"
        }
      ]
    },
    {
      "cell_type": "code",
      "metadata": {
        "id": "WEupXqNJTbTB",
        "colab_type": "code",
        "outputId": "2c9bcb66-226a-490c-bdb0-8d337eaff7c6",
        "colab": {
          "base_uri": "https://localhost:8080/",
          "height": 255
        }
      },
      "source": [
        "print(a[-100:-1])#supports negative indexing"
      ],
      "execution_count": 0,
      "outputs": [
        {
          "output_type": "stream",
          "text": [
            "                                uniq_id  ...                             product_specifications\n",
            "19900  5912e037d12774bb73a2048f35a00009  ...  {\"product_specification\"=>[{\"key\"=>\"Number of ...\n",
            "19901  3e34fc6b0984b26f3f36cd167918441e  ...  {\"product_specification\"=>[{\"key\"=>\"Ideal For\"...\n",
            "19902  c3edc504d1b4f0ba6224fa53a43a7ad6  ...  {\"product_specification\"=>[{\"key\"=>\"Number of ...\n",
            "19903  6f6733c30d3989b6dd93890007f5e47d  ...  {\"product_specification\"=>[{\"key\"=>\"Sales Pack...\n",
            "19904  575b6a101ccb86e5df3bb42f4bd2ad63  ...  {\"product_specification\"=>[{\"key\"=>\"Number of ...\n",
            "...                                 ...  ...                                                ...\n",
            "19994  7415e1a421fb468d25a5ea56350f44be  ...  {\"product_specification\"=>[{\"key\"=>\"Number of ...\n",
            "19995  7179d2f6c4ad50a17d014ca1d2815156  ...  {\"product_specification\"=>[{\"key\"=>\"Number of ...\n",
            "19996  71ac419198359d37b8fe5e3fffdfee09  ...  {\"product_specification\"=>[{\"key\"=>\"Number of ...\n",
            "19997  93e9d343837400ce0d7980874ece471c  ...  {\"product_specification\"=>[{\"key\"=>\"Number of ...\n",
            "19998  669e79b8fa5d9ae020841c0c97d5e935  ...  {\"product_specification\"=>[{\"key\"=>\"Number of ...\n",
            "\n",
            "[99 rows x 15 columns]\n"
          ],
          "name": "stdout"
        }
      ]
    },
    {
      "cell_type": "code",
      "metadata": {
        "id": "mccGl3xLT0ep",
        "colab_type": "code",
        "outputId": "dedac73f-8ff1-46c1-eead-8e832355c272",
        "colab": {
          "base_uri": "https://localhost:8080/",
          "height": 289
        }
      },
      "source": [
        "print(a.loc[1])#2 nd row is selected"
      ],
      "execution_count": 0,
      "outputs": [
        {
          "output_type": "stream",
          "text": [
            "uniq_id                                     7f7036a6d550aaa89d34c77bd39a5e48\n",
            "crawl_timestamp                                    2016-03-25 22:59:23 +0000\n",
            "product_url                http://www.flipkart.com/fabhomedecor-fabric-do...\n",
            "product_name                             FabHomeDecor Fabric Double Sofa Bed\n",
            "product_category_tree      [\"Furniture >> Living Room Furniture >> Sofa B...\n",
            "pid                                                         SBEEH3QGU7MFYJFY\n",
            "retail_price                                                           32157\n",
            "discounted_price                                                       22646\n",
            "image                      [\"http://img6a.flixcart.com/image/sofa-bed/j/f...\n",
            "is_FK_Advantage_product                                                False\n",
            "description                FabHomeDecor Fabric Double Sofa Bed (Finish Co...\n",
            "product_rating                                           No rating available\n",
            "overall_rating                                           No rating available\n",
            "brand                                                           FabHomeDecor\n",
            "product_specifications     {\"product_specification\"=>[{\"key\"=>\"Installati...\n",
            "Name: 1, dtype: object\n"
          ],
          "name": "stdout"
        }
      ]
    },
    {
      "cell_type": "code",
      "metadata": {
        "id": "F0DcXGjGUNQB",
        "colab_type": "code",
        "outputId": "154ddaf9-a90b-48ce-cebc-452ec71fe0bb",
        "colab": {
          "base_uri": "https://localhost:8080/",
          "height": 119
        }
      },
      "source": [
        "print(a.loc[0:2])#selects first 3 rows and gives corresponding column values"
      ],
      "execution_count": 0,
      "outputs": [
        {
          "output_type": "stream",
          "text": [
            "                            uniq_id  ...                             product_specifications\n",
            "0  c2d766ca982eca8304150849735ffef9  ...  {\"product_specification\"=>[{\"key\"=>\"Number of ...\n",
            "1  7f7036a6d550aaa89d34c77bd39a5e48  ...  {\"product_specification\"=>[{\"key\"=>\"Installati...\n",
            "2  f449ec65dcbc041b6ae5e6a32717d01b  ...  {\"product_specification\"=>[{\"key\"=>\"Ideal For\"...\n",
            "\n",
            "[3 rows x 15 columns]\n"
          ],
          "name": "stdout"
        }
      ]
    },
    {
      "cell_type": "code",
      "metadata": {
        "id": "X7fYtZA0UfcY",
        "colab_type": "code",
        "outputId": "95341691-dc6d-4279-9977-7b237d1e895c",
        "colab": {
          "base_uri": "https://localhost:8080/",
          "height": 343
        }
      },
      "source": [
        "print(a.T)#The data is transposed rows and columns are exchanged"
      ],
      "execution_count": 0,
      "outputs": [
        {
          "output_type": "stream",
          "text": [
            "                                                                         0  ...                                              19999\n",
            "uniq_id                                   c2d766ca982eca8304150849735ffef9  ...                   cb4fa87a874f715fff567f7b7b3be79c\n",
            "crawl_timestamp                                  2016-03-25 22:59:23 +0000  ...                          2015-12-01 10:15:43 +0000\n",
            "product_url              http://www.flipkart.com/alisha-solid-women-s-c...  ...  http://www.flipkart.com/elite-collection-mediu...\n",
            "product_name                           Alisha Solid Women's Cycling Shorts  ...            Elite Collection Medium Acrylic Sticker\n",
            "product_category_tree    [\"Clothing >> Women's Clothing >> Lingerie, Sl...  ...  [\"Baby Care >> Baby & Kids Gifts >> Stickers >...\n",
            "pid                                                       SRTEH2FF9KEDEFGF  ...                                   STIE88KN9ZDSGZKY\n",
            "retail_price                                                           999  ...                                               1499\n",
            "discounted_price                                                       379  ...                                                999\n",
            "image                    [\"http://img5a.flixcart.com/image/short/u/4/a/...  ...  [\"http://img6a.flixcart.com/image/sticker/z/k/...\n",
            "is_FK_Advantage_product                                              False  ...                                              False\n",
            "description              Key Features of Alisha Solid Women's Cycling S...  ...  Buy Elite Collection Medium Acrylic Sticker fo...\n",
            "product_rating                                         No rating available  ...                                No rating available\n",
            "overall_rating                                         No rating available  ...                                No rating available\n",
            "brand                                                               Alisha  ...                                   Elite Collection\n",
            "product_specifications   {\"product_specification\"=>[{\"key\"=>\"Number of ...  ...  {\"product_specification\"=>[{\"key\"=>\"Number of ...\n",
            "\n",
            "[15 rows x 20000 columns]\n"
          ],
          "name": "stdout"
        }
      ]
    },
    {
      "cell_type": "code",
      "metadata": {
        "id": "k6QZOCJNVGCS",
        "colab_type": "code",
        "outputId": "0d9d43bf-315e-43ca-9319-da5e64383908",
        "colab": {
          "base_uri": "https://localhost:8080/",
          "height": 102
        }
      },
      "source": [
        "print(a.axes)"
      ],
      "execution_count": 0,
      "outputs": [
        {
          "output_type": "stream",
          "text": [
            "[RangeIndex(start=0, stop=20000, step=1), Index(['uniq_id', 'crawl_timestamp', 'product_url', 'product_name',\n",
            "       'product_category_tree', 'pid', 'retail_price', 'discounted_price',\n",
            "       'image', 'is_FK_Advantage_product', 'description', 'product_rating',\n",
            "       'overall_rating', 'brand', 'product_specifications'],\n",
            "      dtype='object')]\n"
          ],
          "name": "stdout"
        }
      ]
    },
    {
      "cell_type": "code",
      "metadata": {
        "id": "VFz43np7VT_x",
        "colab_type": "code",
        "outputId": "201f8217-bdd6-4504-ff4b-9cff127a10f5",
        "colab": {
          "base_uri": "https://localhost:8080/",
          "height": 34
        }
      },
      "source": [
        "print(a.size)"
      ],
      "execution_count": 0,
      "outputs": [
        {
          "output_type": "stream",
          "text": [
            "300000\n"
          ],
          "name": "stdout"
        }
      ]
    },
    {
      "cell_type": "code",
      "metadata": {
        "id": "N8ZbWlFfVlK5",
        "colab_type": "code",
        "outputId": "cfb1317a-d89c-451b-ea50-fcb47a91858c",
        "colab": {
          "base_uri": "https://localhost:8080/",
          "height": 462
        }
      },
      "source": [
        "print(a.values)#prints all the values in the columns"
      ],
      "execution_count": 0,
      "outputs": [
        {
          "output_type": "stream",
          "text": [
            "[['c2d766ca982eca8304150849735ffef9' '2016-03-25 22:59:23 +0000'\n",
            "  'http://www.flipkart.com/alisha-solid-women-s-cycling-shorts/p/itmeh2ffvzetthbb?pid=SRTEH2FF9KEDEFGF'\n",
            "  ... 'No rating available' 'Alisha'\n",
            "  '{\"product_specification\"=>[{\"key\"=>\"Number of Contents in Sales Package\", \"value\"=>\"Pack of 3\"}, {\"key\"=>\"Fabric\", \"value\"=>\"Cotton Lycra\"}, {\"key\"=>\"Type\", \"value\"=>\"Cycling Shorts\"}, {\"key\"=>\"Pattern\", \"value\"=>\"Solid\"}, {\"key\"=>\"Ideal For\", \"value\"=>\"Women\\'s\"}, {\"value\"=>\"Gentle Machine Wash in Lukewarm Water, Do Not Bleach\"}, {\"key\"=>\"Style Code\", \"value\"=>\"ALTHT_3P_21\"}, {\"value\"=>\"3 shorts\"}]}']\n",
            " ['7f7036a6d550aaa89d34c77bd39a5e48' '2016-03-25 22:59:23 +0000'\n",
            "  'http://www.flipkart.com/fabhomedecor-fabric-double-sofa-bed/p/itmeh3qgfamccfpy?pid=SBEEH3QGU7MFYJFY'\n",
            "  ... 'No rating available' 'FabHomeDecor'\n",
            "  '{\"product_specification\"=>[{\"key\"=>\"Installation & Demo Details\", \"value\"=>\"Installation and demo for this product is done free of cost as part of this purchase. Our service partner will visit your location within 72 business hours from the delivery of the product.\"}, {\"value\"=>\"1 Sofa Bed\"}, {\"key\"=>\"Brand\", \"value\"=>\"FabHomeDecor\"}, {\"key\"=>\"Mattress Included\", \"value\"=>\"No\"}, {\"key\"=>\"Delivery Condition\", \"value\"=>\"Knock Down\"}, {\"key\"=>\"Storage Included\", \"value\"=>\"No\"}, {\"key\"=>\"Mechanism Type\", \"value\"=>\"Pull Out\"}, {\"key\"=>\"Type\", \"value\"=>\"Sofa Bed\"}, {\"key\"=>\"Style\", \"value\"=>\"Contemporary and Modern\"}, {\"key\"=>\"Filling Material\", \"value\"=>\"Microfiber\"}, {\"key\"=>\"Seating Capacity\", \"value\"=>\"3 Seater\"}, {\"key\"=>\"Upholstery Type\", \"value\"=>\"NA\"}, {\"key\"=>\"Upholstery Included\", \"value\"=>\"No\"}, {\"key\"=>\"Bed Size\", \"value\"=>\"Double\"}, {\"key\"=>\"Shape\", \"value\"=>\"Square\"}, {\"key\"=>\"Suitable For\", \"value\"=>\"Living Room\"}, {\"key\"=>\"Model Number\", \"value\"=>\"FHD112\"}, {\"key\"=>\"Care Instructions\", \"value\"=>\"Avoid outdoor use and exposure to water or prolonged moisture, Avoid exposure to direct heat or sunlight as this can cause the sofa colour to fade, Keep sharp objects away from your sofa, A little tear on the fabric cover may be hard to repair, Vacuum your sofas periodically with a soft bristled bru...View More Avoid outdoor use and exposure to water or prolonged moisture, Avoid exposure to direct heat or sunlight as this can cause the sofa colour to fade, Keep sharp objects away from your sofa, A little tear on the fabric cover may be hard to repair, Vacuum your sofas periodically with a soft bristled brush attachment or lightly brush them to keep general dirt and dust off the sofa and prevent any embedding between the fibres, Try to avoid food and drink spillage of any kind, If spills occur, do not leave unattended, In case of a stain, a water-free fabric cleaner can be used, However, avoid applying the cleaner directly on the stain as this can cause damage to the fabric and fade colour, Pour the cleaner onto a clean cloth and test its effect on a hidden area of the sofa before cleaning the stain with the cloth, A professional scotchguard treatment is one of the easiest and most effective options to protect against spills or stains and keep pet hair at bay, Getting your sofa professionally cleaned once every 6-8 months will not only take care of the nooks and corners that you can\\'t reach, it will also make it more durable\"}, {\"key\"=>\"Finish Type\", \"value\"=>\"Matte\"}, {\"value\"=>\"Cancellation NOT allowed for this product after 24 hrs of order booking.\"}, {\"value\"=>\"- The color of the product may vary slightly compared to the picture displayed on your screen. This is due to lighting, pixel quality and color settings - Please check the product\\'s dimensions to ensure the product will fit in the desired location. Also, check if the product will fit through...View More - The color of the product may vary slightly compared to the picture displayed on your screen. This is due to lighting, pixel quality and color settings - Please check the product\\'s dimensions to ensure the product will fit in the desired location. Also, check if the product will fit through the entrance(s) and door(s) of the premises - Please expect an unevenness of up to 5 mm in the product due to differences in surfaces and floor levels - Flipkart, or the Seller delivering the product, will not take up any type of civil work, such as drilling holes in the wall to mount the product. The product will only be assembled in case carpentry assembly is required - In case the product appears to lack shine, wiping the surface with a cloth will help clear the surface of dust particles\"}, {\"key\"=>\"Covered in Warranty\", \"value\"=>\"Warranty covers all kind of manufacturing defects. Concerned product will either be repaired or replaced based on discretion.\"}, {\"key\"=>\"Service Type\", \"value\"=>\"Manufacturer Warranty\"}, {\"key\"=>\"Warranty Summary\", \"value\"=>\"6 Months Domestic Warranty\"}, {\"key\"=>\"Not Covered in Warranty\", \"value\"=>\"Warranty does not cover for Improper Handling\"}, {\"key\"=>\"Weight\", \"value\"=>\"40 kg\"}, {\"key\"=>\"Height\", \"value\"=>\"838 mm\"}, {\"key\"=>\"Width\", \"value\"=>\"1905 mm\"}, {\"key\"=>\"Depth\", \"value\"=>\"939 mm\"}, {\"key\"=>\"Upholstery Color\", \"value\"=>\"Leatherette Black\"}, {\"key\"=>\"Primary Color\", \"value\"=>\"Black\"}, {\"key\"=>\"Primary Material\", \"value\"=>\"Fabric\"}, {\"key\"=>\"Secondary Material Subtype\", \"value\"=>\"Mango Wood\"}, {\"key\"=>\"Secondary Material\", \"value\"=>\"Foam\"}, {\"key\"=>\"Finish Color\", \"value\"=>\"Leatherette Black\"}, {\"key\"=>\"Primary Material Subtype\", \"value\"=>\"Foam\"}]}']\n",
            " ['f449ec65dcbc041b6ae5e6a32717d01b' '2016-03-25 22:59:23 +0000'\n",
            "  'http://www.flipkart.com/aw-bellies/p/itmeh4grgfbkexnt?pid=SHOEH4GRSUBJGZXE'\n",
            "  ... 'No rating available' 'AW'\n",
            "  '{\"product_specification\"=>[{\"key\"=>\"Ideal For\", \"value\"=>\"Women\"}, {\"key\"=>\"Occasion\", \"value\"=>\"Casual\"}, {\"key\"=>\"Color\", \"value\"=>\"Red\"}, {\"key\"=>\"Outer Material\", \"value\"=>\"Patent Leather\"}, {\"key\"=>\"Heel Height\", \"value\"=>\"1 inch\"}, {\"key\"=>\"Number of Contents in Sales Package\", \"value\"=>\"Pack of 1\"}, {\"value\"=>\"One Pair Of Shoes\"}]}']\n",
            " ...\n",
            " ['93e9d343837400ce0d7980874ece471c' '2015-12-01 10:15:43 +0000'\n",
            "  'http://www.flipkart.com/elite-collection-medium-acrylic-sticker/p/itme7vayjzekyybt?pid=STIE7VAYDKQZEBSD'\n",
            "  ... 'No rating available' 'Elite Collection'\n",
            "  '{\"product_specification\"=>[{\"key\"=>\"Number of Contents in Sales Package\", \"value\"=>\"Pack of 1\"}, {\"key\"=>\"Sales Package\", \"value\"=>\"3D Acrylic Wall Decor Decal, Self Adhesive Tape\"}, {\"key\"=>\"Ideal Use\", \"value\"=>\"Wall\"}, {\"key\"=>\"Scratch-resistant\", \"value\"=>\"No\"}, {\"key\"=>\"Shape\", \"value\"=>\"Fish\"}, {\"key\"=>\"Brand\", \"value\"=>\"Elite Collection\"}, {\"key\"=>\"Type\", \"value\"=>\"Acrylic\"}, {\"key\"=>\"Size in Number\", \"value\"=>\"0.2 cm\"}, {\"key\"=>\"Number of Stickers\", \"value\"=>\"5\"}, {\"key\"=>\"Size\", \"value\"=>\"Medium\"}, {\"key\"=>\"Weight\", \"value\"=>\"200 g\"}, {\"key\"=>\"Thickness\", \"value\"=>\"0.2 cm\"}]}']\n",
            " ['669e79b8fa5d9ae020841c0c97d5e935' '2015-12-01 10:15:43 +0000'\n",
            "  'http://www.flipkart.com/elite-collection-medium-acrylic-sticker/p/itme8ysvxzhqadmw?pid=STIE8YSVEPPCZ42Y'\n",
            "  ... 'No rating available' 'Elite Collection'\n",
            "  '{\"product_specification\"=>[{\"key\"=>\"Number of Contents in Sales Package\", \"value\"=>\"Pack of 1\"}, {\"key\"=>\"Sales Package\", \"value\"=>\"3D Acrylic Wall Decor Decal, Self Adhesive Tape\"}, {\"key\"=>\"Ideal Use\", \"value\"=>\"Wall\"}, {\"key\"=>\"Scratch-resistant\", \"value\"=>\"No\"}, {\"key\"=>\"Brand\", \"value\"=>\"Elite Collection\"}, {\"key\"=>\"Type\", \"value\"=>\"Acrylic\"}, {\"key\"=>\"Size in Number\", \"value\"=>\"0.2 cm\"}, {\"key\"=>\"Number of Stickers\", \"value\"=>\"8\"}, {\"key\"=>\"Size\", \"value\"=>\"Medium\"}, {\"key\"=>\"Weight\", \"value\"=>\"500 g\"}, {\"key\"=>\"Thickness\", \"value\"=>\"0.2 cm\"}]}']\n",
            " ['cb4fa87a874f715fff567f7b7b3be79c' '2015-12-01 10:15:43 +0000'\n",
            "  'http://www.flipkart.com/elite-collection-medium-acrylic-sticker/p/itme88knfk6p45ea?pid=STIE88KN9ZDSGZKY'\n",
            "  ... 'No rating available' 'Elite Collection'\n",
            "  '{\"product_specification\"=>[{\"key\"=>\"Number of Contents in Sales Package\", \"value\"=>\"Pack of 3\"}, {\"key\"=>\"Sales Package\", \"value\"=>\"3D Acrylic Wall Decor Decal, Self Adhesive Tape, Installation Guide\"}, {\"key\"=>\"Ideal Use\", \"value\"=>\"Wall\"}, {\"key\"=>\"Brand\", \"value\"=>\"Elite Collection\"}, {\"key\"=>\"Scratch-resistant\", \"value\"=>\"No\"}, {\"key\"=>\"Type\", \"value\"=>\"Acrylic\"}, {\"key\"=>\"Number of Stickers\", \"value\"=>\"3\"}, {\"key\"=>\"Size in Number\", \"value\"=>\"0.2 cm\"}, {\"key\"=>\"Size\", \"value\"=>\"Medium\"}, {\"key\"=>\"Weight\", \"value\"=>\"500 g\"}, {\"key\"=>\"Thickness\", \"value\"=>\"0.2 cm\"}]}']]\n"
          ],
          "name": "stdout"
        }
      ]
    },
    {
      "cell_type": "code",
      "metadata": {
        "id": "lyw14ijYVuJB",
        "colab_type": "code",
        "outputId": "9b7705f1-807e-4ee9-f01b-ea1e84783e81",
        "colab": {
          "base_uri": "https://localhost:8080/",
          "height": 221
        }
      },
      "source": [
        "print(a['discounted_price'].cumsum())#prints the cumulative sum of the column"
      ],
      "execution_count": 0,
      "outputs": [
        {
          "output_type": "stream",
          "text": [
            "0             379.0\n",
            "1           23025.0\n",
            "2           23524.0\n",
            "3           23791.0\n",
            "4           24001.0\n",
            "            ...    \n",
            "19995    39309770.0\n",
            "19996    39310913.0\n",
            "19997    39311912.0\n",
            "19998    39313111.0\n",
            "19999    39314110.0\n",
            "Name: discounted_price, Length: 20000, dtype: float64\n"
          ],
          "name": "stdout"
        }
      ]
    },
    {
      "cell_type": "code",
      "metadata": {
        "id": "K2z4qUrQWLPY",
        "colab_type": "code",
        "outputId": "4e1f97fd-1dfe-4847-9826-7065372aef86",
        "colab": {
          "base_uri": "https://localhost:8080/",
          "height": 221
        }
      },
      "source": [
        "print(a['retail_price'].cumprod())#prints the cumulative product of the column"
      ],
      "execution_count": 0,
      "outputs": [
        {
          "output_type": "execute_result",
          "data": {
            "text/plain": [
              "0        9.990000e+02\n",
              "1        3.212484e+07\n",
              "2        3.209272e+10\n",
              "3        2.243281e+13\n",
              "4        4.935218e+15\n",
              "             ...     \n",
              "19995             inf\n",
              "19996             inf\n",
              "19997             inf\n",
              "19998             inf\n",
              "19999             inf\n",
              "Name: retail_price, Length: 20000, dtype: float64"
            ]
          },
          "metadata": {
            "tags": []
          },
          "execution_count": 28
        }
      ]
    },
    {
      "cell_type": "code",
      "metadata": {
        "id": "Mss0KhGLWnTZ",
        "colab_type": "code",
        "outputId": "5fb6c906-0d43-4a82-929a-ddd9fb950751",
        "colab": {
          "base_uri": "https://localhost:8080/",
          "height": 272
        }
      },
      "source": [
        "#prints all the columns in the data set\n",
        "for i in a:\n",
        "  print(i)"
      ],
      "execution_count": 0,
      "outputs": [
        {
          "output_type": "stream",
          "text": [
            "uniq_id\n",
            "crawl_timestamp\n",
            "product_url\n",
            "product_name\n",
            "product_category_tree\n",
            "pid\n",
            "retail_price\n",
            "discounted_price\n",
            "image\n",
            "is_FK_Advantage_product\n",
            "description\n",
            "product_rating\n",
            "overall_rating\n",
            "brand\n",
            "product_specifications\n"
          ],
          "name": "stdout"
        }
      ]
    },
    {
      "cell_type": "code",
      "metadata": {
        "id": "kNPxNyp4WzGr",
        "colab_type": "code",
        "outputId": "819a60d0-0cbb-40d9-e4bb-99b22ee44416",
        "colab": {
          "base_uri": "https://localhost:8080/",
          "height": 85
        }
      },
      "source": [
        "#prints variance of the data\n",
        "a.var(ddof=0)"
      ],
      "execution_count": 0,
      "outputs": [
        {
          "output_type": "execute_result",
          "data": {
            "text/plain": [
              "retail_price               8.116953e+07\n",
              "discounted_price           5.377878e+07\n",
              "is_FK_Advantage_product    3.770944e-02\n",
              "dtype: float64"
            ]
          },
          "metadata": {
            "tags": []
          },
          "execution_count": 2
        }
      ]
    },
    {
      "cell_type": "code",
      "metadata": {
        "id": "FxJh6OXV9Lkx",
        "colab_type": "code",
        "outputId": "4885bf6d-d2f6-4b91-d648-21aa23247435",
        "colab": {
          "base_uri": "https://localhost:8080/",
          "height": 85
        }
      },
      "source": [
        "a.var(ddof=1)"
      ],
      "execution_count": 0,
      "outputs": [
        {
          "output_type": "execute_result",
          "data": {
            "text/plain": [
              "retail_price               8.117360e+07\n",
              "discounted_price           5.378148e+07\n",
              "is_FK_Advantage_product    3.771132e-02\n",
              "dtype: float64"
            ]
          },
          "metadata": {
            "tags": []
          },
          "execution_count": 3
        }
      ]
    },
    {
      "cell_type": "code",
      "metadata": {
        "id": "0cmjcTAz9VrM",
        "colab_type": "code",
        "outputId": "08afa6b7-ce31-4125-d08f-1c5428d43e0f",
        "colab": {
          "base_uri": "https://localhost:8080/",
          "height": 1000
        }
      },
      "source": [
        "#groups the data\n",
        "a.groupby(by='retail_price').groups"
      ],
      "execution_count": 0,
      "outputs": [
        {
          "output_type": "execute_result",
          "data": {
            "text/plain": [
              "{35.0: Int64Index([10554], dtype='int64'),\n",
              " 36.0: Int64Index([7412], dtype='int64'),\n",
              " 49.0: Int64Index([1336], dtype='int64'),\n",
              " 55.0: Int64Index([19245], dtype='int64'),\n",
              " 59.0: Int64Index([5708, 6682, 7236], dtype='int64'),\n",
              " 63.0: Int64Index([7313], dtype='int64'),\n",
              " 69.0: Int64Index([5749, 5922], dtype='int64'),\n",
              " 70.0: Int64Index([8091], dtype='int64'),\n",
              " 78.0: Int64Index([4711], dtype='int64'),\n",
              " 79.0: Int64Index([1794, 6417], dtype='int64'),\n",
              " 80.0: Int64Index([8215, 8315, 8503, 8633, 8682, 8694], dtype='int64'),\n",
              " 85.0: Int64Index([19173, 19188], dtype='int64'),\n",
              " 99.0: Int64Index([5706, 5730, 5836, 6033, 6079, 6276, 6395, 6648, 7280, 7467], dtype='int64'),\n",
              " 100.0: Int64Index([6969, 8225, 8313, 8506], dtype='int64'),\n",
              " 102.0: Int64Index([15890, 15892, 15897, 15985, 16008], dtype='int64'),\n",
              " 109.0: Int64Index([6283, 7273], dtype='int64'),\n",
              " 110.0: Int64Index([20, 8300, 8692], dtype='int64'),\n",
              " 115.0: Int64Index([10436, 10437, 10441, 10442], dtype='int64'),\n",
              " 120.0: Int64Index([1470, 10045, 11552, 11736, 15261, 19249], dtype='int64'),\n",
              " 125.0: Int64Index([6092, 6162], dtype='int64'),\n",
              " 129.0: Int64Index([901, 5903, 6057, 6210, 6241, 6684, 6774, 7355, 7377, 7408], dtype='int64'),\n",
              " 130.0: Int64Index([6811], dtype='int64'),\n",
              " 139.0: Int64Index([3243], dtype='int64'),\n",
              " 140.0: Int64Index([1946], dtype='int64'),\n",
              " 142.0: Int64Index([7373], dtype='int64'),\n",
              " 145.0: Int64Index([11729, 11767], dtype='int64'),\n",
              " 149.0: Int64Index([1593, 6029, 6035, 6187, 6194, 6426, 6560, 7383, 10633, 14999,\n",
              "             18153],\n",
              "            dtype='int64'),\n",
              " 150.0: Int64Index([ 5795,  6633,  8195,  8398,  8630, 10256, 10818, 11723, 15259,\n",
              "             15557, 15823, 15859, 15869, 15891, 15966, 16044, 16127, 18533,\n",
              "             18547, 18555, 18814],\n",
              "            dtype='int64'),\n",
              " 154.0: Int64Index([6468], dtype='int64'),\n",
              " 155.0: Int64Index([14314], dtype='int64'),\n",
              " 158.0: Int64Index([7473, 7815, 17732], dtype='int64'),\n",
              " 160.0: Int64Index([8846], dtype='int64'),\n",
              " 164.0: Int64Index([10367], dtype='int64'),\n",
              " 165.0: Int64Index([8834], dtype='int64'),\n",
              " 169.0: Int64Index([3102, 3146, 5229, 6178, 6639, 6724, 6992, 10449, 16291, 18268], dtype='int64'),\n",
              " 170.0: Int64Index([4319, 13640, 13717], dtype='int64'),\n",
              " 174.0: Int64Index([7120], dtype='int64'),\n",
              " 175.0: Int64Index([4877, 7500, 7509, 16238], dtype='int64'),\n",
              " 176.0: Int64Index([6733], dtype='int64'),\n",
              " 179.0: Int64Index([5694, 5722, 6012, 6434, 6746, 6757, 7336, 10029, 11680], dtype='int64'),\n",
              " 180.0: Int64Index([ 3189,  3349,  4650,  5869,  6440,  6567,  6627,  6823,  6844,\n",
              "              7033,  7166,  7289,  7449, 11541],\n",
              "            dtype='int64'),\n",
              " 184.0: Int64Index([7816], dtype='int64'),\n",
              " 185.0: Int64Index([1547, 14672], dtype='int64'),\n",
              " 189.0: Int64Index([2176, 6341], dtype='int64'),\n",
              " 190.0: Int64Index([24, 4302, 6409, 6782, 7102, 7139, 7262, 10069, 19344], dtype='int64'),\n",
              " 191.0: Int64Index([6851], dtype='int64'),\n",
              " 195.0: Int64Index([5635, 6649, 9891, 11549], dtype='int64'),\n",
              " 197.0: Int64Index([17736], dtype='int64'),\n",
              " 198.0: Int64Index([15718, 15905, 16004], dtype='int64'),\n",
              " 199.0: Int64Index([  323,  1082,  1262,  1573,  1582,  3786,  3920,  4023,  4274,\n",
              "              4368,  4644,  4676,  4738,  4771,  4932,  4936,  4966,  5086,\n",
              "              5111,  5122,  5171,  5240,  5972,  6561,  6690,  6754,  6885,\n",
              "              7182,  7213,  7253,  7286,  7497,  8316,  8339,  8386,  8819,\n",
              "              8865,  9944, 10448, 14979, 15083, 15184, 15634, 15830, 16112,\n",
              "             16269, 17456, 17982, 18707, 18984],\n",
              "            dtype='int64'),\n",
              " 200.0: Int64Index([ 1377,  1586,  2036,  2465,  2689,  5763,  6094,  6234,  6587,\n",
              "              7291,  9305, 10467, 12316, 19105, 19425],\n",
              "            dtype='int64'),\n",
              " 205.0: Int64Index([7057], dtype='int64'),\n",
              " 206.0: Int64Index([14947, 14955], dtype='int64'),\n",
              " 207.0: Int64Index([15906, 16073], dtype='int64'),\n",
              " 210.0: Int64Index([1972, 2451, 4047, 4530, 5376, 18067], dtype='int64'),\n",
              " 213.0: Int64Index([1182], dtype='int64'),\n",
              " 214.0: Int64Index([7090], dtype='int64'),\n",
              " 215.0: Int64Index([11703, 16135, 18286], dtype='int64'),\n",
              " 216.0: Int64Index([15715, 16132], dtype='int64'),\n",
              " 220.0: Int64Index([4, 3185, 9335], dtype='int64'),\n",
              " 224.0: Int64Index([5037, 17759], dtype='int64'),\n",
              " 225.0: Int64Index([2708, 4577, 5040, 6504, 7217, 9435, 9979, 17958, 18094, 18135], dtype='int64'),\n",
              " 230.0: Int64Index([2167, 2513, 2886, 4428, 4611, 5668, 6433, 9343, 14588, 15189,\n",
              "             15457],\n",
              "            dtype='int64'),\n",
              " 234.0: Int64Index([5594, 7389], dtype='int64'),\n",
              " 235.0: Int64Index([172, 4778], dtype='int64'),\n",
              " 236.0: Int64Index([5907, 9337], dtype='int64'),\n",
              " 237.0: Int64Index([5806], dtype='int64'),\n",
              " 238.0: Int64Index([4151, 6333], dtype='int64'),\n",
              " 239.0: Int64Index([1186, 15267, 15875, 15932, 15933, 15963, 15998, 16032, 16070,\n",
              "             18060],\n",
              "            dtype='int64'),\n",
              " 240.0: Int64Index([1769, 4164, 6086, 8520, 13512], dtype='int64'),\n",
              " 244.0: Int64Index([6496], dtype='int64'),\n",
              " 245.0: Int64Index([1792, 6646, 10509, 11712, 17184], dtype='int64'),\n",
              " 247.0: Int64Index([5740], dtype='int64'),\n",
              " 249.0: Int64Index([  767,  1219,  1230,  1347,  3166,  4320,  4683,  5009,  5053,\n",
              "              5089,  5771,  5833,  5865,  5929,  6233,  6275,  6386,  6494,\n",
              "              6588,  6608,  6695,  6787,  6838,  6955,  7024,  7202,  8855,\n",
              "              9228,  9364, 10094, 10579, 13280, 14975, 15079, 15236, 15396,\n",
              "             15649, 15860, 15877, 16002, 16024, 16464, 16598, 17727, 17787,\n",
              "             18040, 18209, 18911],\n",
              "            dtype='int64'),\n",
              " 250.0: Int64Index([   73,  1433,  2976,  3361,  3765,  3949,  4734,  5802,  5986,\n",
              "              6047,  6254,  6306,  6323,  6525,  6967,  7083,  7318,  8204,\n",
              "              8208,  8563,  8690, 10000, 10079, 12425, 16341, 17128, 17768,\n",
              "             18003, 18019, 18306, 18309, 18313, 18336, 19301],\n",
              "            dtype='int64'),\n",
              " 252.0: Int64Index([5237, 6190], dtype='int64'),\n",
              " 255.0: Int64Index([1529, 1821, 10434, 17995, 19288], dtype='int64'),\n",
              " 257.0: Int64Index([5704], dtype='int64'),\n",
              " 259.0: Int64Index([3116, 11807, 15644, 16151], dtype='int64'),\n",
              " 260.0: Int64Index([15163, 18771, 18816, 19198], dtype='int64'),\n",
              " 265.0: Int64Index([4375, 5401, 6038], dtype='int64'),\n",
              " 269.0: Int64Index([5102, 5970, 16178], dtype='int64'),\n",
              " 270.0: Int64Index([4215, 5048, 5288, 6705, 9995, 13091], dtype='int64'),\n",
              " 272.0: Int64Index([5116], dtype='int64'),\n",
              " 275.0: Int64Index([5216, 6594, 6714, 6927, 7178, 10151, 11584, 14963, 15088], dtype='int64'),\n",
              " 277.0: Int64Index([7817, 15870], dtype='int64'),\n",
              " 279.0: Int64Index([ 5276,  5663,  5888,  5982,  5987,  6370,  6558,  6959,  7385,\n",
              "              9207,  9244, 17849, 18101, 18121, 18287, 18769],\n",
              "            dtype='int64'),\n",
              " 280.0: Int64Index([   69,  2161,  2277,  2723,  2832,  2839,  3218,  3325,  4542,\n",
              "              5736,  6550,  6571,  6638,  7227,  7260,  7876,  8617, 10072,\n",
              "             11177, 17288, 17290, 18314, 18317, 18319, 18324, 18592, 18685,\n",
              "             18723],\n",
              "            dtype='int64'),\n",
              " 285.0: Int64Index([ 5120, 14756, 14913, 14914, 14919, 14926, 15059, 15235, 15237,\n",
              "             15241, 15243, 15282, 15489, 18628],\n",
              "            dtype='int64'),\n",
              " 288.0: Int64Index([7685, 15242], dtype='int64'),\n",
              " 289.0: Int64Index([1910, 3197, 4340, 4396, 7849, 15239, 15245, 18339, 18749], dtype='int64'),\n",
              " 290.0: Int64Index([ 4162,  4524,  4532,  4721,  6769,  6795,  6815,  7091,  7125,\n",
              "             10737, 11626, 14917, 15240],\n",
              "            dtype='int64'),\n",
              " 292.0: Int64Index([6216], dtype='int64'),\n",
              " 294.0: Int64Index([7852, 18594], dtype='int64'),\n",
              " 295.0: Int64Index([ 4029,  7311, 11573, 11661, 14753, 14757, 14911, 14912, 14915,\n",
              "             14920, 14922, 14930, 14931, 15238, 15244, 15246, 15430, 15956,\n",
              "             16009],\n",
              "            dtype='int64'),\n",
              " 296.0: Int64Index([17044], dtype='int64'),\n",
              " 297.0: Int64Index([16091], dtype='int64'),\n",
              " 298.0: Int64Index([3389], dtype='int64'),\n",
              " 299.0: Int64Index([  266,   331,  1090,  1091,  1098,  1099,  1205,  1239,  1352,\n",
              "              1507,\n",
              "             ...\n",
              "             18715, 18733, 18851, 18866, 18879, 18885, 18892, 18893, 18913,\n",
              "             19094],\n",
              "            dtype='int64', length=190),\n",
              " 300.0: Int64Index([ 1694,  1811,  1817,  2577,  2816,  4106,  4326,  4677,  4814,\n",
              "              5537,  5549,  5856,  5910,  6120,  6202,  6406,  6883,  6993,\n",
              "              7246,  7556,  7868,  7873,  7875,  7964,  8100,  8145,  8343,\n",
              "              8449,  8474,  8505,  8594, 10439, 10460, 10632, 11164, 11313,\n",
              "             11388, 11402, 14916, 16062, 16157, 16326, 17088, 17098, 17874,\n",
              "             18010, 18045, 18464, 18790, 18869, 18875],\n",
              "            dtype='int64'),\n",
              " 301.0: Int64Index([11231, 11271, 11318, 11384, 11394, 11461, 11581, 11640, 11649,\n",
              "             11667, 11740],\n",
              "            dtype='int64'),\n",
              " 309.0: Int64Index([2305, 2541, 2607, 2648, 4163, 4699, 5234, 5640], dtype='int64'),\n",
              " 310.0: Int64Index([477, 4255, 5141, 11746, 18328], dtype='int64'),\n",
              " 312.0: Int64Index([6056, 7080], dtype='int64'),\n",
              " 313.0: Int64Index([6728, 8048], dtype='int64'),\n",
              " 314.0: Int64Index([1232], dtype='int64'),\n",
              " 315.0: Int64Index([4131, 4219, 4435, 6201, 7616], dtype='int64'),\n",
              " 316.0: Int64Index([6987], dtype='int64'),\n",
              " 319.0: Int64Index([3716, 4353, 4405, 4636, 4656, 4706, 4747, 5105, 7826, 17140], dtype='int64'),\n",
              " 320.0: Int64Index([1304, 5711, 5765, 6559, 6749, 7056, 7290, 9291, 10626, 15061], dtype='int64'),\n",
              " 321.0: Int64Index([7898], dtype='int64'),\n",
              " 324.0: Int64Index([17746], dtype='int64'),\n",
              " 325.0: Int64Index([ 2820,  2842,  5589,  5666,  5979,  6199,  6346,  6481,  6602,\n",
              "              6677,  6691,  6814,  6950,  7006,  7127,  7327, 10647, 10663,\n",
              "             10727, 17210, 18035, 18912, 19030],\n",
              "            dtype='int64'),\n",
              " 326.0: Int64Index([1837], dtype='int64'),\n",
              " 329.0: Int64Index([4178, 4201, 6359, 7387, 11059, 16049, 16216, 16263, 16292], dtype='int64'),\n",
              " 330.0: Int64Index([ 1899,  5692,  5880,  5916,  5959,  6164,  6367,  6583,  7089,\n",
              "              7157,  7371,  7443, 11608, 15949],\n",
              "            dtype='int64'),\n",
              " 331.0: Int64Index([4632], dtype='int64'),\n",
              " 332.0: Int64Index([5702], dtype='int64'),\n",
              " 335.0: Int64Index([1061, 5729, 10077], dtype='int64'),\n",
              " 338.0: Int64Index([7147], dtype='int64'),\n",
              " 339.0: Int64Index([7487, 17977, 18022, 18076, 18084, 18127, 18133, 18140, 18152,\n",
              "             18167, 18183],\n",
              "            dtype='int64'),\n",
              " 340.0: Int64Index([1384, 4439, 5214, 6025, 6326, 6421, 6719, 6876, 6898, 7041], dtype='int64'),\n",
              " 343.0: Int64Index([16088], dtype='int64'),\n",
              " 345.0: Int64Index([5874, 6123, 6134, 7185, 15010, 17792, 18247], dtype='int64'),\n",
              " 348.0: Int64Index([13966, 14025, 14306, 14330, 14353, 14393, 18498], dtype='int64'),\n",
              " 349.0: Int64Index([  195,   838,   842,   843,  1078,  1079,  1080,  1338,  1350,\n",
              "              2070,  3167,  3292,  3298,  3842,  4251,  4254,  4350,  4438,\n",
              "              4456,  4503,  4545,  4547,  4648,  5208,  5738,  5816,  5908,\n",
              "              5945,  6249,  6292,  6309,  6400,  6529,  6532,  6556,  6564,\n",
              "              6662,  6762,  6895,  6978,  7023,  7112,  7194,  7204,  7985,\n",
              "              8092,  8115,  8374,  9275,  9350,  9984, 10002, 10082, 10089,\n",
              "             10104, 10108, 10131, 11062, 11406, 11812, 11821, 12123, 12128,\n",
              "             12141, 12494, 13313, 13792, 14565, 15179, 15232, 16561, 17145,\n",
              "             17162, 17283, 17650, 17684, 17829, 17843, 17870, 18663, 18669,\n",
              "             18675, 18720],\n",
              "            dtype='int64'),\n",
              " 350.0: Int64Index([   36,   132,   899,   907,   930,  1620,  3031,  3075,  3467,\n",
              "              3509,  3566,  3579,  3625,  3627,  4197,  4295,  4436,  4452,\n",
              "              4594,  5075,  5100,  5163,  5228,  5662,  5744,  5819,  5857,\n",
              "              5999,  6006,  6036,  6071,  6204,  6225,  6336,  6349,  6467,\n",
              "              6478,  6631,  6640,  6679,  6812,  6818,  6842,  7045,  7135,\n",
              "              7136,  7163,  7234,  7453,  7908,  8006,  8144,  8146,  8149,\n",
              "              8155,  8156,  8157,  8160,  8164,  8165,  8291,  8519,  8627,\n",
              "              8790,  9203, 10603, 10670, 10685, 10691, 10697, 10713, 11149,\n",
              "             11699, 11976, 12388, 12521, 12973, 13708, 14603, 14764, 15062,\n",
              "             15065, 15923, 16093, 16776, 17496, 17500, 18087, 18285, 18321,\n",
              "             18393, 18421, 18431, 18456, 18467, 18471, 18522],\n",
              "            dtype='int64'),\n",
              " 351.0: Int64Index([11238, 11322, 11681, 15171], dtype='int64'),\n",
              " 355.0: Int64Index([3192, 6322, 6585, 6856, 6924, 7211], dtype='int64'),\n",
              " 356.0: Int64Index([19122, 19150], dtype='int64'),\n",
              " 358.0: Int64Index([1460], dtype='int64'),\n",
              " 359.0: Int64Index([1982, 2037, 2650, 2808, 2873, 2880, 2903, 5924, 5981, 6024, 6182,\n",
              "             6335, 6429, 6452, 6537, 6666, 6866, 7128, 7278, 7301],\n",
              "            dtype='int64'),\n",
              " 360.0: Int64Index([ 1306,  3161,  4093,  4263,  4381,  4508,  4580,  4703,  4898,\n",
              "              5742,  5769,  5783,  5791,  5793,  5864,  5887,  5891,  5964,\n",
              "              6001,  6027,  6070,  6076,  6095,  6107,  6115,  6130,  6142,\n",
              "              6157,  6192,  6214,  6300,  6318,  6357,  6371,  6375,  6432,\n",
              "              6445,  6503,  6513,  6522,  6540,  6595,  6610,  6637,  6647,\n",
              "              6678,  6729,  6745,  6756,  6767,  6813,  6843,  6865,  6887,\n",
              "              6966,  6980,  6982,  7027,  7115,  7168,  7181,  7215,  7225,\n",
              "              7247,  7271,  7305,  7330,  7359,  7388,  7448,  7456,  7462,\n",
              "              7471, 10751, 14891],\n",
              "            dtype='int64'),\n",
              " 364.0: Int64Index([10372], dtype='int64'),\n",
              " 365.0: Int64Index([4297, 6374, 10015, 17384], dtype='int64'),\n",
              " 367.0: Int64Index([1997, 2059, 2442, 2485], dtype='int64'),\n",
              " 368.0: Int64Index([15931], dtype='int64'),\n",
              " 369.0: Int64Index([2189, 17606], dtype='int64'),\n",
              " 370.0: Int64Index([ 1397,  4475,  4571,  5949,  6415,  6573,  6807,  6827,  6894,\n",
              "              7101,  7153,  7188,  7191,  7418,  7440, 11115, 11315, 13860,\n",
              "             13991, 14211, 14548],\n",
              "            dtype='int64'),\n",
              " 371.0: Int64Index([15695, 15798, 15851], dtype='int64'),\n",
              " 372.0: Int64Index([6528], dtype='int64'),\n",
              " 374.0: Int64Index([15889], dtype='int64'),\n",
              " 375.0: Int64Index([  143,  2428,  5714,  5734,  5821,  5832,  6010,  6113,  6205,\n",
              "              6212,  6332,  6458,  6462,  6669,  6676,  6945,  6994,  7005,\n",
              "              7031,  7049,  7172,  7219,  7420,  7625,  8132, 11270, 11429,\n",
              "             14594, 14887, 15785, 18079, 18327],\n",
              "            dtype='int64'),\n",
              " 378.0: Int64Index([5067, 7390], dtype='int64'),\n",
              " 379.0: Int64Index([4050, 4341, 4472, 5207, 5223, 5678, 5847, 6177, 6544, 6614, 6704,\n",
              "             6775, 6852, 6868, 6988, 7013, 7096, 7131, 7140, 7340],\n",
              "            dtype='int64'),\n",
              " 380.0: Int64Index([ 4081,  5719,  5804,  5834,  5939,  5966,  5990,  6110,  6143,\n",
              "              6152,  6170,  6175,  6236,  6266,  6285,  6314,  6327,  6491,\n",
              "              6581,  6616,  6697,  6786,  6848,  6908,  7029,  7043,  7079,\n",
              "              7105,  7149,  7224,  7326,  7338,  7437,  7829,  8472, 14751,\n",
              "             17693, 18595],\n",
              "            dtype='int64'),\n",
              " 385.0: Int64Index([3225, 5757, 6565, 7351, 10100, 10112, 11400, 12202], dtype='int64'),\n",
              " 389.0: Int64Index([5147, 5753, 5862, 5960, 5998, 6381, 7170], dtype='int64'),\n",
              " 390.0: Int64Index([ 2102,  2349,  2660,  3729,  4087,  4103,  4228,  4233,  4261,\n",
              "              4293,  4388,  4502,  4613,  4714,  4758,  4776,  4981,  5077,\n",
              "              5166,  5221,  5767,  5788,  5812,  5827,  5858,  5897,  5914,\n",
              "              6015,  6060,  6078,  6112,  6137,  6245,  6286,  6294,  6520,\n",
              "              6547,  6548,  6622,  6643,  6720,  6737,  6739,  6759,  6804,\n",
              "              6933,  7021,  7141,  7176,  7404,  7426,  7451,  8240,  9230,\n",
              "              9398, 10027, 17717, 17730, 18513],\n",
              "            dtype='int64'),\n",
              " 391.0: Int64Index([17777], dtype='int64'),\n",
              " 392.0: Int64Index([18525], dtype='int64'),\n",
              " 393.0: Int64Index([9368, 15806, 16045, 16113, 16122], dtype='int64'),\n",
              " 394.0: Int64Index([6074, 6083, 6188, 7424], dtype='int64'),\n",
              " 395.0: Int64Index([ 1602,  4128,  6416,  6718,  6758,  6771,  6983,  7060,  7322,\n",
              "              7400, 10074, 10350, 10662, 11537, 11587, 13247, 13826, 14004,\n",
              "             14335, 17605, 18266],\n",
              "            dtype='int64'),\n",
              " 396.0: Int64Index([15268], dtype='int64'),\n",
              " 398.0: Int64Index([ 5724,  5775,  5797,  5810,  5912,  5991,  6160,  6203,  6337,\n",
              "              6363,  6403,  6436,  6553,  6612,  6680,  6686,  6907,  6919,\n",
              "              6940,  6941,  6957,  6976,  7059,  7111,  7122,  7183,  7244,\n",
              "              7297,  7345,  7361,  7482, 10763, 13889, 14284, 14355, 16406],\n",
              "            dtype='int64'),\n",
              " 399.0: Int64Index([  148,   190,   368,   370,   679,  1022,  1093,  1189,  1490,\n",
              "              1511,\n",
              "             ...\n",
              "             19217, 19239, 19248, 19252, 19260, 19262, 19269, 19325, 19345,\n",
              "             19346],\n",
              "            dtype='int64', length=343),\n",
              " 400.0: Int64Index([ 1303,  1805,  1905,  2057,  2153,  2290,  2353,  2769,  2786,\n",
              "              2818,  3443,  3692,  4042,  4183,  4239,  4246,  4289,  4336,\n",
              "              4345,  4409,  4520,  4569,  4593,  4624,  4642,  4651,  4731,\n",
              "              4845,  4897,  4903,  5003,  5198,  5650,  5905,  5996,  6051,\n",
              "              6141,  6150,  6568,  6661,  6673,  6761,  6805,  6875,  6893,\n",
              "              6921,  7073,  7132,  7392,  7884,  8166,  8243,  8403,  8507,\n",
              "              8544,  8580,  8661,  8734,  8762,  8789,  9941, 10055, 10594,\n",
              "             10629, 10703, 10902, 11080, 11225, 11346, 17235, 17240, 17390,\n",
              "             17669, 17815, 17887, 18222, 18308, 18799, 19145],\n",
              "            dtype='int64'),\n",
              " 401.0: Int64Index([17232], dtype='int64'),\n",
              " 405.0: Int64Index([3097, 7524], dtype='int64'),\n",
              " 408.0: Int64Index([17752], dtype='int64'),\n",
              " 409.0: Int64Index([4854, 4922, 6466, 6515, 6726, 6727, 6831, 9976], dtype='int64'),\n",
              " 410.0: Int64Index([4030, 4153, 4378, 5192, 5279, 5896, 6069, 6707, 7144, 7353, 10471,\n",
              "             17890],\n",
              "            dtype='int64'),\n",
              " 415.0: Int64Index([1956, 5686, 7365, 7630, 10062], dtype='int64'),\n",
              " 416.0: Int64Index([17853], dtype='int64'),\n",
              " 418.0: Int64Index([5814, 5841, 6502, 6505, 6780, 6873, 7459], dtype='int64'),\n",
              " 419.0: Int64Index([4166, 7935], dtype='int64'),\n",
              " 420.0: Int64Index([2178, 2376, 2980, 4221, 4534, 4543, 4884, 5801, 6482, 6590, 7118], dtype='int64'),\n",
              " 422.0: Int64Index([17233, 17238], dtype='int64'),\n",
              " 425.0: Int64Index([ 1765,  3038,  3111,  3151,  5230,  6075,  6096,  6220,  6793,\n",
              "              8126, 10085, 10105, 11185, 14580, 14944, 17613, 18230, 18242,\n",
              "             18272, 18300, 18711],\n",
              "            dtype='int64'),\n",
              " 428.0: Int64Index([7069], dtype='int64'),\n",
              " 429.0: Int64Index([1949, 4205, 4909, 5018, 5160, 7738], dtype='int64'),\n",
              " 430.0: Int64Index([    5,  2326,  2482,  5013,  6947,  8323,  8874, 10092, 10096,\n",
              "             10113, 11334, 11339, 16085, 19336, 19387],\n",
              "            dtype='int64'),\n",
              " 433.0: Int64Index([6413, 6731, 16120], dtype='int64'),\n",
              " 435.0: Int64Index([6252, 10452, 11109, 15219, 18284], dtype='int64'),\n",
              " 439.0: Int64Index([4063, 4363, 4411, 4924, 5015, 16830], dtype='int64'),\n",
              " 440.0: Int64Index([67, 75, 4526, 4686, 4793, 4808, 5532, 5606, 18818], dtype='int64'),\n",
              " 441.0: Int64Index([5162], dtype='int64'),\n",
              " 445.0: Int64Index([5664, 6351, 9892, 10658, 10932, 17700, 18229], dtype='int64'),\n",
              " 448.0: Int64Index([13892, 14227], dtype='int64'),\n",
              " 449.0: Int64Index([ 1075,  1076,  1077,  1110,  1187,  1188,  1190,  1541,  1636,\n",
              "              3306,  3433,  4052,  4096,  4882,  4990,  5139,  5282,  5940,\n",
              "              6044,  6068,  6270,  6347,  6422,  6489,  6507,  6996,  7007,\n",
              "              7245,  7384,  7422,  7546,  7865,  9876, 10063, 10129, 10133,\n",
              "             10263, 10369, 10414, 10487, 10491, 10568, 10576, 10871, 10891,\n",
              "             10923, 11028, 11094, 12056, 14230, 14404, 14585, 14767, 15016,\n",
              "             15027, 15118, 16611, 17166, 17334, 17338, 17600, 18730, 18739,\n",
              "             18931],\n",
              "            dtype='int64'),\n",
              " 450.0: Int64Index([ 1148,  1999,  2050,  2526,  2698,  2743,  2744,  3069,  3883,\n",
              "              4067,  4117,  4139,  4156,  4179,  4193,  4212,  4234,  4309,\n",
              "              4416,  4418,  4560,  4579,  4596,  4709,  4751,  4830,  4894,\n",
              "              4913,  5785,  5815,  5892,  5955,  6028,  6219,  6222,  6280,\n",
              "              6338,  6361,  6387,  6442,  6443,  6605,  6607,  6609,  6817,\n",
              "              6854,  6879,  7066,  7315,  7334,  7433,  7554,  7872,  8130,\n",
              "              8222,  8292,  8426,  8565,  8569,  8607,  8935,  9133,  9169,\n",
              "              9223,  9449,  9460,  9462, 10081, 10102, 10110, 10282, 10344,\n",
              "             10495, 10525, 10676, 11325, 11612, 11676, 11762, 11785, 12887,\n",
              "             13750, 13754, 13822, 13967, 14218, 14319, 14338, 15409, 15973,\n",
              "             16243, 16823, 17888, 17920, 18332, 18365, 19359, 19396],\n",
              "            dtype='int64'),\n",
              " 451.0: Int64Index([11199, 11204, 11206, 11267, 11363, 11591], dtype='int64'),\n",
              " 452.0: Int64Index([18500], dtype='int64'),\n",
              " 453.0: Int64Index([18629], dtype='int64'),\n",
              " 455.0: Int64Index([14229, 15406], dtype='int64'),\n",
              " 458.0: Int64Index([ 3446,  3450,  3456,  3468,  3489,  3502,  3504,  3548,  3561,\n",
              "              3568,  3601,  3621,  3626,  3631,  3652,  3669,  3678,  3684,\n",
              "              3685, 17242],\n",
              "            dtype='int64'),\n",
              " 459.0: Int64Index([4071, 4342, 4606, 4618, 4735, 5095, 5178, 5984, 6439, 6863, 7047,\n",
              "             7143, 7465, 9122, 9136, 9137, 9149, 9158, 9194, 9212, 9243, 9252,\n",
              "             9256, 9263, 9284, 9295, 9301, 9306, 9318, 9324, 9328, 9342, 9356,\n",
              "             9361, 9363, 9369, 9377, 9386, 9388, 9411, 9417, 9420, 9424, 9432,\n",
              "             9438, 9442, 9443],\n",
              "            dtype='int64'),\n",
              " 460.0: Int64Index([4114, 4195, 4288, 5028, 9389, 13789, 16283, 18297, 18335], dtype='int64'),\n",
              " 465.0: Int64Index([6000, 6942, 6963, 7401, 14136, 14267, 14416], dtype='int64'),\n",
              " 466.0: Int64Index([15109], dtype='int64'),\n",
              " 469.0: Int64Index([4053, 4104, 4168, 4184, 4361, 4371, 4392, 4420, 4427, 4551, 4597,\n",
              "             4673, 4719, 4727, 4837, 4919, 5051, 5107, 5212, 5884, 6596, 7356],\n",
              "            dtype='int64'),\n",
              " 470.0: Int64Index([4134, 4248, 4312, 4562, 5215, 11040, 11530, 11776, 15231, 16968], dtype='int64'),\n",
              " 475.0: Int64Index([146, 4348, 6535, 6625, 6984, 8095, 8437, 9750, 18288, 18416,\n",
              "             18470],\n",
              "            dtype='int64'),\n",
              " 478.0: Int64Index([336, 1639], dtype='int64'),\n",
              " 479.0: Int64Index([11049, 11356], dtype='int64'),\n",
              " 480.0: Int64Index([ 2163,  2347,  2392,  2589,  2695,  4384,  5181,  5273,  5470,\n",
              "              6043,  6320,  7368,  8899, 14735, 15197, 17865],\n",
              "            dtype='int64'),\n",
              " 481.0: Int64Index([7645], dtype='int64'),\n",
              " 484.0: Int64Index([7878], dtype='int64'),\n",
              " 485.0: Int64Index([18366, 18745, 19177], dtype='int64'),\n",
              " 489.0: Int64Index([2123, 2269, 2384, 2846, 4666, 6518, 10247, 10249, 10254, 10285,\n",
              "             18351, 18941],\n",
              "            dtype='int64'),\n",
              " 490.0: Int64Index([ 4069,  4307,  4429,  4476,  4494,  4717,  5080,  5099,  5283,\n",
              "              5287,  5731,  8270,  9123,  9963, 14977, 15206, 15223, 15228,\n",
              "             15762, 17041, 17446, 18249, 18318, 19226],\n",
              "            dtype='int64'),\n",
              " 492.0: Int64Index([6735], dtype='int64'),\n",
              " 495.0: Int64Index([ 5629,  5661,  6077,  6093,  6183,  6209,  6360,  6517,  6619,\n",
              "              6630,  7425,  8251,  8428,  8441,  9945, 10018, 10044, 10047,\n",
              "             10260, 11609, 14055, 15266, 16052, 17501],\n",
              "            dtype='int64'),\n",
              " 496.0: Int64Index([4937], dtype='int64'),\n",
              " 497.0: Int64Index([10360], dtype='int64'),\n",
              " 498.0: Int64Index([5699, 6833, 7097, 9898, 17704, 18381, 18654, 18666, 18667, 18673], dtype='int64'),\n",
              " 499.0: Int64Index([   27,    32,    33,   180,   316,   449,   500,   522,   598,\n",
              "               805,\n",
              "             ...\n",
              "             18976, 18988, 19025, 19067, 19123, 19166, 19399, 19423, 19429,\n",
              "             19435],\n",
              "            dtype='int64', length=697),\n",
              " 500.0: Int64Index([  300,   304,   929,   938,   940,   946,   947,   949,   950,\n",
              "               951,\n",
              "             ...\n",
              "             17925, 18403, 18444, 18621, 18767, 18829, 18835, 18841, 18847,\n",
              "             19033],\n",
              "            dtype='int64', length=201),\n",
              " 501.0: Int64Index([11163, 11194, 11209, 11265, 11274, 11289, 11365, 11378, 11440,\n",
              "             11443, 11448, 11572, 11696],\n",
              "            dtype='int64'),\n",
              " 504.0: Int64Index([17931], dtype='int64'),\n",
              " 509.0: Int64Index([4374], dtype='int64'),\n",
              " 510.0: Int64Index([3416, 4273, 4627, 4899, 4900, 6316, 6492, 7834, 12747, 18900], dtype='int64'),\n",
              " 515.0: Int64Index([5665, 13978], dtype='int64'),\n",
              " 516.0: Int64Index([19108], dtype='int64'),\n",
              " 518.0: Int64Index([18677], dtype='int64'),\n",
              " 519.0: Int64Index([4172, 4426], dtype='int64'),\n",
              " 520.0: Int64Index([1563, 4187, 5021, 7177, 8891, 16169], dtype='int64'),\n",
              " 521.0: Int64Index([18980], dtype='int64'),\n",
              " 523.0: Int64Index([17115], dtype='int64'),\n",
              " 524.0: Int64Index([4893, 7541], dtype='int64'),\n",
              " 525.0: Int64Index([ 4615,  5854,  6154,  6184,  6348,  6411,  6741,  6750,  7098,\n",
              "              7206,  8431,  8432,  8433,  8435,  8439,  8804,  8922,  8923,\n",
              "              9642,  9746,  9747,  9748,  9749,  9751,  9752,  9844,  9845,\n",
              "              9846,  9854, 10124, 15009, 15080, 17791],\n",
              "            dtype='int64'),\n",
              " 527.0: Int64Index([2645, 4265, 5129, 5202], dtype='int64'),\n",
              " 529.0: Int64Index([ 1292,  1297,  1299,  1493,  4314,  4399,  4960,  5238,  5281,\n",
              "             10600, 10651, 10666, 10671, 10674, 10681, 10688, 10701, 10714,\n",
              "             16170, 16959, 16963, 17706],\n",
              "            dtype='int64'),\n",
              " 530.0: Int64Index([4376, 4482, 4933, 4951, 5866, 5954, 13025, 17583], dtype='int64'),\n",
              " 532.0: Int64Index([15391], dtype='int64'),\n",
              " 535.0: Int64Index([7349], dtype='int64'),\n",
              " 539.0: Int64Index([4181, 4365, 4389, 4993, 5110, 6430, 17993, 18014, 18023, 18054,\n",
              "             18157, 18342],\n",
              "            dtype='int64'),\n",
              " 540.0: Int64Index([ 2097,  2512,  2911,  4330,  4352,  5697,  5781,  6117,  6277,\n",
              "              6377,  6905,  7055,  7103,  7110,  7265,  8232,  9404, 10111,\n",
              "             10578, 15178, 17742, 18978],\n",
              "            dtype='int64'),\n",
              " 545.0: Int64Index([3198, 5511, 9641, 15258, 17866], dtype='int64'),\n",
              " 547.0: Int64Index([16961, 17010], dtype='int64'),\n",
              " 548.0: Int64Index([14568], dtype='int64'),\n",
              " 549.0: Int64Index([ 1281,  1301,  1440,  1514,  2210,  2432,  2865,  2933,  2944,\n",
              "              4056,  4291,  5754,  5759,  5860,  5931,  6122,  6146,  6293,\n",
              "              6427,  6493,  6510,  7268,  7528,  8600,  8785,  8876,  8953,\n",
              "              9006,  9507,  9655, 10115, 10375, 10428, 10542, 10545, 11760,\n",
              "             12025, 12085, 12248, 12617, 12727, 14972, 15070, 15072, 15073,\n",
              "             15075, 15626, 15853, 16116, 16568, 16770, 17260, 17533, 17831,\n",
              "             17879, 17889, 18642, 18672, 19218, 19243],\n",
              "            dtype='int64'),\n",
              " 550.0: Int64Index([ 1109,  4037,  4040,  4111,  4548,  4574,  4622,  4930,  4944,\n",
              "              4977,  5054,  5213,  5257,  5286,  6296,  6692,  6748,  6847,\n",
              "              8427,  8858,  8969,  9048,  9076,  9479, 10604, 10605, 10704,\n",
              "             10719, 10890, 11075, 12543, 13306, 14024, 14348, 14526, 16340,\n",
              "             16652, 16857, 17023, 17526, 17597, 17927, 17944, 18105, 18226,\n",
              "             18239, 18601, 18602, 18701, 19201, 19299],\n",
              "            dtype='int64'),\n",
              " 551.0: Int64Index([13030], dtype='int64'),\n",
              " 555.0: Int64Index([3214, 6053, 6066, 6088, 6896, 8821, 10008, 15173, 15255, 15260,\n",
              "             15269],\n",
              "            dtype='int64'),\n",
              " 558.0: Int64Index([9281, 9453, 14841], dtype='int64'),\n",
              " 559.0: Int64Index([6554, 12150], dtype='int64'),\n",
              " 560.0: Int64Index([ 2184,  2435,  4158,  4599,  4670,  5144, 10456, 11044, 11131,\n",
              "             17097, 18772, 18780, 18817, 18864],\n",
              "            dtype='int64'),\n",
              " 569.0: Int64Index([4573, 6569, 7300, 12601, 16182], dtype='int64'),\n",
              " 570.0: Int64Index([ 4802,  5726,  6176,  6539,  6917,  7882,  9577,  9578,  9579,\n",
              "              9580,  9581,  9582,  9583,  9584,  9585,  9586,  9587,  9588,\n",
              "              9589,  9590,  9591,  9592,  9593, 10296, 10993, 11090, 11660,\n",
              "             14789, 19184],\n",
              "            dtype='int64'),\n",
              " 575.0: Int64Index([ 1803,  3848,  5186,  7793,  8740,  8777,  8813,  8829,  8980,\n",
              "             10610, 10717, 11948, 13710, 16978, 16981, 17474, 18868],\n",
              "            dtype='int64'),\n",
              " 576.0: Int64Index([2192, 2316, 2644], dtype='int64'),\n",
              " 578.0: Int64Index([17728], dtype='int64'),\n",
              " 579.0: Int64Index([4317, 4451, 4538, 4607, 17810], dtype='int64'),\n",
              " 580.0: Int64Index([3386, 4498, 4601, 4645, 8216, 16051], dtype='int64'),\n",
              " 584.0: Int64Index([18680], dtype='int64'),\n",
              " 585.0: Int64Index([164, 14848, 15138, 19051], dtype='int64'),\n",
              " 586.0: Int64Index([9959], dtype='int64'),\n",
              " 587.0: Int64Index([6500], dtype='int64'),\n",
              " 588.0: Int64Index([10648], dtype='int64'),\n",
              " 589.0: Int64Index([4335, 5994, 8324], dtype='int64'),\n",
              " 590.0: Int64Index([ 2948,  5712,  6313,  8816,  9274,  9735, 10698, 11202, 11283,\n",
              "             11488, 11674, 11711, 11719, 12682, 14067, 14257],\n",
              "            dtype='int64'),\n",
              " 592.0: Int64Index([4756], dtype='int64'),\n",
              " 594.0: Int64Index([1534, 12673, 13783, 19419], dtype='int64'),\n",
              " 595.0: Int64Index([ 1630,  3875,  3995,  7008,  8586,  8597,  8733,  8818,  8826,\n",
              "              8894,  8926,  9030,  9039, 10571, 10661, 12374, 13336, 18756,\n",
              "             19317],\n",
              "            dtype='int64'),\n",
              " 597.0: Int64Index([5947, 11236, 19092, 19101, 19132, 19136], dtype='int64'),\n",
              " 598.0: Int64Index([ 1556,  6180,  6480,  6486,  6710,  6770,  7439,  9251,  9987,\n",
              "             10869, 10870, 10872, 10881, 10886, 10888, 10895, 10909, 10913,\n",
              "             10921, 10926, 10929, 10931, 10949, 10957, 10965, 10967, 10971,\n",
              "             10980, 10994, 11020, 11053, 11058, 11066, 11068, 11085, 11092,\n",
              "             11098, 11099, 11108, 13886, 13890, 13898, 13903, 13950, 13956,\n",
              "             13995, 14011, 14019, 14053, 14099, 14146, 14175, 14176, 14195,\n",
              "             14281, 14316, 14359, 14458, 14460, 14540, 14549, 14567, 15642,\n",
              "             15880, 15887, 15993, 16015, 16017, 17688, 17737, 17838],\n",
              "            dtype='int64'),\n",
              " 599.0: Int64Index([  408,   409,   536,   537,   538,   539,   631,   764,   765,\n",
              "               766,\n",
              "             ...\n",
              "             19369, 19370, 19371, 19373, 19378, 19380, 19391, 19392, 19395,\n",
              "             19398],\n",
              "            dtype='int64', length=639),\n",
              " 600.0: Int64Index([   74,   203,   450,   493,   991,  1012,  1017,  1024,  1057,\n",
              "              1059,\n",
              "             ...\n",
              "             18311, 18419, 18461, 18537, 18539, 18549, 18550, 18777, 18839,\n",
              "             19204],\n",
              "            dtype='int64', length=135),\n",
              " 602.0: Int64Index([4207, 4372], dtype='int64'),\n",
              " 609.0: Int64Index([6453], dtype='int64'),\n",
              " 610.0: Int64Index([4788, 18688], dtype='int64'),\n",
              " 615.0: Int64Index([2954, 9476], dtype='int64'),\n",
              " 616.0: Int64Index([5909], dtype='int64'),\n",
              " 618.0: Int64Index([8175, 15174], dtype='int64'),\n",
              " 619.0: Int64Index([4407, 5025, 17573, 17575, 17581, 17582], dtype='int64'),\n",
              " 620.0: Int64Index([1538, 6260, 8363, 8411, 18261, 18748], dtype='int64'),\n",
              " 624.0: Int64Index([4603], dtype='int64'),\n",
              " 625.0: Int64Index([ 3884,  6922,  8754,  8795, 10512, 12024, 12652, 12687, 14111,\n",
              "             14254, 14292, 14373, 14459, 17767],\n",
              "            dtype='int64'),\n",
              " 629.0: Int64Index([338, 4490, 4701, 5794, 7717, 7719, 7724, 7726, 7727, 7729, 7742], dtype='int64'),\n",
              " 630.0: Int64Index([ 2343,  2604,  2606,  2859,  4256,  4806,  8798,  9950, 10859,\n",
              "             13954, 15142, 18655, 18660, 19120, 19137],\n",
              "            dtype='int64'),\n",
              " 635.0: Int64Index([5284, 17312], dtype='int64'),\n",
              " 638.0: Int64Index([14996], dtype='int64'),\n",
              " 639.0: Int64Index([4333, 9962], dtype='int64'),\n",
              " 640.0: Int64Index([4039, 4807, 5551, 5614, 5890, 6230, 7094, 8276, 8436, 11019,\n",
              "             14645],\n",
              "            dtype='int64'),\n",
              " 645.0: Int64Index([188, 5627, 6461, 17848, 18736], dtype='int64'),\n",
              " 646.0: Int64Index([17818], dtype='int64'),\n",
              " 647.0: Int64Index([2171, 2209, 2483, 2684, 2797], dtype='int64'),\n",
              " 648.0: Int64Index([8200, 8203, 17761, 19267], dtype='int64'),\n",
              " 649.0: Int64Index([ 1267,  1552,  1995,  2002,  2015,  2018,  2056,  2092,  2096,\n",
              "              2098,  2134,  2139,  2151,  2173,  2186,  2191,  2229,  2235,\n",
              "              2254,  2426,  2456,  2471,  2619,  2656,  2662,  2687,  2717,\n",
              "              2754,  2764,  2871,  2890,  2916,  4235,  4367,  5397,  5750,\n",
              "              6444,  6903,  8086,  8118,  8424,  8687,  8998,  9603,  9646,\n",
              "              9663, 10527, 11012, 11079, 11506, 11829, 11899, 11909, 11951,\n",
              "             12030, 12068, 12069, 12076, 12089, 12132, 12158, 12175, 12186,\n",
              "             12191, 12249, 12291, 12333, 12355, 12443, 12450, 12465, 12480,\n",
              "             12483, 12529, 12539, 12605, 12621, 12642, 12711, 12724, 14003,\n",
              "             14167, 14551, 14982, 15957, 16339, 16594, 16653, 16832, 17419,\n",
              "             17421, 17425, 19121],\n",
              "            dtype='int64'),\n",
              " 650.0: Int64Index([  294,   740,  1063,  1442,  1719,  2620,  2630,  2686,  2761,\n",
              "              2796,\n",
              "             ...\n",
              "             17557, 17616, 17701, 18011, 18162, 18227, 18527, 18706, 18830,\n",
              "             19329],\n",
              "            dtype='int64', length=140),\n",
              " 651.0: Int64Index([8035, 11281], dtype='int64'),\n",
              " 653.0: Int64Index([1264, 3099, 15974], dtype='int64'),\n",
              " 655.0: Int64Index([4708, 8726, 15170], dtype='int64'),\n",
              " 656.0: Int64Index([12590, 18402], dtype='int64'),\n",
              " 657.0: Int64Index([2460], dtype='int64'),\n",
              " 659.0: Int64Index([6211, 7288, 11158, 18108], dtype='int64'),\n",
              " 660.0: Int64Index([4589, 4989, 5082, 7714, 8321, 9576, 9620, 17502, 17570, 17897], dtype='int64'),\n",
              " 663.0: Int64Index([6543], dtype='int64'),\n",
              " 665.0: Int64Index([320, 322, 325, 326, 9917, 9921, 11657, 14086, 15636], dtype='int64'),\n",
              " 666.0: Int64Index([ 4700,  4750,  4782,  4783,  4799,  4821,  4847,  4853,  4879,\n",
              "              4889,  4965,  5031,  5055,  5060,  5066,  5070,  5109,  5128,\n",
              "              5158,  5177,  5211,  5218,  5245,  5270,  8927, 11320, 17126],\n",
              "            dtype='int64'),\n",
              " 669.0: Int64Index([4986, 12528, 19750], dtype='int64'),\n",
              " 670.0: Int64Index([866, 7264], dtype='int64'),\n",
              " 672.0: Int64Index([8107], dtype='int64'),\n",
              " 674.0: Int64Index([17939], dtype='int64'),\n",
              " 675.0: Int64Index([1561, 3347, 8695, 9114, 9753, 9853, 10705, 12090, 13697], dtype='int64'),\n",
              " 677.0: Int64Index([10947, 17946], dtype='int64'),\n",
              " 678.0: Int64Index([5123], dtype='int64'),\n",
              " 679.0: Int64Index([3874, 4506], dtype='int64'),\n",
              " 680.0: Int64Index([4863, 6628, 7358, 8780, 8849, 12072, 19109], dtype='int64'),\n",
              " 681.0: Int64Index([17937], dtype='int64'),\n",
              " 682.0: Int64Index([18070], dtype='int64'),\n",
              " 683.0: Int64Index([9964], dtype='int64'),\n",
              " 684.0: Int64Index([4484], dtype='int64'),\n",
              " 685.0: Int64Index([7866, 12684], dtype='int64'),\n",
              " 687.0: Int64Index([17941], dtype='int64'),\n",
              " 688.0: Int64Index([12184], dtype='int64'),\n",
              " 689.0: Int64Index([4074, 4269, 4938, 13462, 17050], dtype='int64'),\n",
              " 690.0: Int64Index([1567, 4433, 5020, 5106, 9354, 10627, 10684, 11797, 14367, 16576], dtype='int64'),\n",
              " 695.0: Int64Index([ 1233,  3359,  4259,  4565,  4968,  5446,  5651,  5671,  5684,\n",
              "              5723,  5965,  6129,  6384,  6582,  6592,  6598,  6700,  8539,\n",
              "              8618,  8659,  8736,  8772,  8809,  8844,  8989,  9046,  9096,\n",
              "              9111,  9822,  9949,  9983,  9991,  9992, 10209, 10419, 12389,\n",
              "             12426, 13755, 14855, 15190, 15445, 17095, 17461, 17464],\n",
              "            dtype='int64'),\n",
              " 696.0: Int64Index([18969, 18979], dtype='int64'),\n",
              " 697.0: Int64Index([1197, 1238], dtype='int64'),\n",
              " 698.0: Int64Index([  416, 10098, 10295, 13647, 13803, 13920, 13999, 14069, 14088,\n",
              "             14110, 14231, 14440, 14481, 17834],\n",
              "            dtype='int64'),\n",
              " 699.0: Int64Index([    3,     8,    14,    28,   397,   403,   407,   511,   512,\n",
              "               532,\n",
              "             ...\n",
              "             19230, 19247, 19296, 19313, 19353, 19402, 19413, 19518, 19524,\n",
              "             19712],\n",
              "            dtype='int64', length=536),\n",
              " 700.0: Int64Index([  453,   763,  1989,  2020,  2032,  2074,  2086,  2190,  2239,\n",
              "              2420,  2494,  2547,  2675,  2701,  2802,  2823,  2833,  2878,\n",
              "              3130,  3240,  4257,  4752,  4967,  5071,  5117,  5573,  5853,\n",
              "              5894,  6127,  6753,  6784,  7184,  7364,  7382,  8050,  8158,\n",
              "              8162,  8353,  8359,  8440,  8484,  8584,  8614,  8768,  9200,\n",
              "             10475, 10497, 10755, 10864, 11501, 11793, 12086, 12183, 12260,\n",
              "             12337, 12438, 12511, 14419, 14581, 14642, 14773, 15008, 15092,\n",
              "             15230, 15233, 15250, 15277, 15300, 16067, 16645, 16863, 17155,\n",
              "             17277, 17984, 18462, 18652, 18664, 18775, 18823, 18896, 18906],\n",
              "            dtype='int64'),\n",
              " 705.0: Int64Index([4975, 8675, 11904], dtype='int64'),\n",
              " 710.0: Int64Index([419, 2658, 3155, 15262], dtype='int64'),\n",
              " 712.0: Int64Index([1084, 1088, 1089, 1092, 1095, 1097, 1101, 1115, 1116, 14936], dtype='int64'),\n",
              " 714.0: Int64Index([17566], dtype='int64'),\n",
              " 715.0: Int64Index([4279, 4563, 5062, 5586, 12667, 15004, 15257], dtype='int64'),\n",
              " 720.0: Int64Index([622, 626, 2170, 2360, 2627, 2666, 2748, 9408, 9948, 15196, 15210,\n",
              "             15453, 16907],\n",
              "            dtype='int64'),\n",
              " 722.0: Int64Index([6226], dtype='int64'),\n",
              " 725.0: Int64Index([ 2971,  6611,  7150,  8102,  8620,  8628,  8887,  8917,  8936,\n",
              "              8975,  8979, 10574, 11248, 12105, 12112, 12710, 15862, 15996,\n",
              "             15997, 17921, 18276],\n",
              "            dtype='int64'),\n",
              " 726.0: Int64Index([19274], dtype='int64'),\n",
              " 727.0: Int64Index([19815, 19829, 19870, 19920, 19932, 19954, 19994], dtype='int64'),\n",
              " 729.0: Int64Index([1217, 1231, 1243, 2072, 2401, 6562, 8495], dtype='int64'),\n",
              " 730.0: Int64Index([1001, 6100, 7813, 7818, 7820, 8528, 13094, 18415, 19756], dtype='int64'),\n",
              " 735.0: Int64Index([4540, 11338, 14040, 14137, 16901, 16904], dtype='int64'),\n",
              " 738.0: Int64Index([7035], dtype='int64'),\n",
              " 739.0: Int64Index([17956, 17976, 17997, 18091, 18150, 18198], dtype='int64'),\n",
              " 740.0: Int64Index([623, 624, 625, 5209, 6477, 10938, 11786, 12795, 18034, 19099,\n",
              "             19115, 19135],\n",
              "            dtype='int64'),\n",
              " 744.0: Int64Index([3807], dtype='int64'),\n",
              " 745.0: Int64Index([5768, 6084, 8793, 9057, 9997, 13962, 14106, 15006, 15193, 16887,\n",
              "             18530],\n",
              "            dtype='int64'),\n",
              " 748.0: Int64Index([8046, 16918, 17655], dtype='int64'),\n",
              " 749.0: Int64Index([  621,   627,   931,   932,   933,  1959,  2027,  2044,  2208,\n",
              "              2226,\n",
              "             ...\n",
              "             15538, 15539, 15540, 17036, 17164, 17536, 17770, 17871, 18114,\n",
              "             19063],\n",
              "            dtype='int64', length=114),\n",
              " 750.0: Int64Index([   86,   280,   744,   802,  1553,  2555,  3273,  3369,  4055,\n",
              "              4115,  4586,  4725,  4848,  5024,  5131,  5196,  5776,  5782,\n",
              "              6151,  6207,  7310,  7442,  7466,  7828,  7948,  8214,  8238,\n",
              "              8268,  8294,  8328,  8347,  8387,  8466,  8483,  8531,  8533,\n",
              "              8545,  8579,  8669,  8732,  8802,  8832,  8854,  8871,  8965,\n",
              "              8966,  9018,  9019,  9021,  9038,  9052,  9065,  9078,  9081,\n",
              "              9084,  9091,  9092,  9094,  9095,  9106,  9273,  9570, 10143,\n",
              "             10160, 10641, 10800, 11031, 11298, 11341, 11463, 11857, 11993,\n",
              "             12079, 12224, 12383, 12437, 12557, 12613, 13190, 13452, 14584,\n",
              "             14697, 14710, 16579, 16826, 17125, 17131, 17332, 17336, 17483,\n",
              "             17530, 17836, 18033, 18072, 18845, 18848, 18859, 18894],\n",
              "            dtype='int64'),\n",
              " 755.0: Int64Index([8859, 14918, 14924, 18809], dtype='int64'),\n",
              " 756.0: Int64Index([10294], dtype='int64'),\n",
              " 759.0: Int64Index([1515, 4744, 4876, 5143], dtype='int64'),\n",
              " 760.0: Int64Index([4403, 14094, 14138, 14343, 14527], dtype='int64'),\n",
              " 765.0: Int64Index([5530, 9079, 13739], dtype='int64'),\n",
              " 766.0: Int64Index([5227, 5544], dtype='int64'),\n",
              " 769.0: Int64Index([4558, 5150, 10073, 10431, 12295, 13683], dtype='int64'),\n",
              " 770.0: Int64Index([4241, 4733, 7014, 8723], dtype='int64'),\n",
              " 774.0: Int64Index([4726], dtype='int64'),\n",
              " 775.0: Int64Index([4092, 8663, 13983, 14073, 15019, 16098, 16583, 18355, 18881], dtype='int64'),\n",
              " 777.0: Int64Index([7369], dtype='int64'),\n",
              " 778.0: Int64Index([10311], dtype='int64'),\n",
              " 779.0: Int64Index([2187, 2245, 2655, 5583, 7548, 19858, 19878, 19896, 19914, 19915,\n",
              "             19961, 19971],\n",
              "            dtype='int64'),\n",
              " 780.0: Int64Index([ 2040,  2158,  2715,  4301,  4892,  5536,  6487,  7329,  8591,\n",
              "              8972, 10301, 12275, 17545, 18290],\n",
              "            dtype='int64'),\n",
              " 781.0: Int64Index([4781, 5034, 10477], dtype='int64'),\n",
              " 785.0: Int64Index([4707], dtype='int64'),\n",
              " 788.0: Int64Index([11262, 11275, 11409], dtype='int64'),\n",
              " 789.0: Int64Index([9323, 15222, 16654, 19405, 19417], dtype='int64'),\n",
              " 790.0: Int64Index([839, 840, 841, 1478, 2270, 4473, 6730, 6890, 8504, 11732, 13798,\n",
              "             15355],\n",
              "            dtype='int64'),\n",
              " 794.0: Int64Index([10335], dtype='int64'),\n",
              " 795.0: Int64Index([   70,   263,   540,  1435,  4736,  5313,  5377,  5434,  5452,\n",
              "              5512,  6420,  7474,  7588,  8568,  8588,  8592,  8638,  8660,\n",
              "              8722,  8778,  8782,  8784,  8847,  8919,  8932,  8960,  8988,\n",
              "              9044,  9045,  9050,  9064,  9100,  9967,  9977, 11964, 12265,\n",
              "             12331, 12354, 13736, 14294, 14659, 16693, 19056],\n",
              "            dtype='int64'),\n",
              " 798.0: Int64Index([ 1073,  1155,  3068,  6929,  7414,  7863,  7864,  9132,  9181,\n",
              "              9214, 11123, 11792, 16767, 16861, 16909, 16935, 17034, 18534],\n",
              "            dtype='int64'),\n",
              " 799.0: Int64Index([   30,   162,   225,   315,   374,   398,   399,   406,   421,\n",
              "               491,\n",
              "             ...\n",
              "             19223, 19241, 19270, 19315, 19382, 19388, 19573, 19574, 19621,\n",
              "             19760],\n",
              "            dtype='int64', length=583),\n",
              " 800.0: Int64Index([  388,   905,  1010,  1313,  1393,  1975,  1986,  2105,  2115,\n",
              "              2145,\n",
              "             ...\n",
              "             18177, 18382, 18690, 18755, 18802, 18836, 19050, 19052, 19054,\n",
              "             19406],\n",
              "            dtype='int64', length=110),\n",
              " 803.0: Int64Index([10469], dtype='int64'),\n",
              " 805.0: Int64Index([14844, 15195], dtype='int64'),\n",
              " 809.0: Int64Index([4127, 4963, 8910, 12340], dtype='int64'),\n",
              " 810.0: Int64Index([3168, 4404, 4612, 5503, 6972, 7095, 8822, 10758, 12534, 13829,\n",
              "             15273, 17134],\n",
              "            dtype='int64'),\n",
              " 815.0: Int64Index([597, 6577], dtype='int64'),\n",
              " 818.0: Int64Index([17142], dtype='int64'),\n",
              " 819.0: Int64Index([11233], dtype='int64'),\n",
              " 820.0: Int64Index([1521, 5989, 10785, 10794, 13621, 17537, 18778], dtype='int64'),\n",
              " 822.0: Int64Index([5917], dtype='int64'),\n",
              " 825.0: Int64Index([641, 4504, 5469, 6828, 8742, 8831, 8875, 9010, 9016, 9085, 16314,\n",
              "             16578, 19028],\n",
              "            dtype='int64'),\n",
              " 827.0: Int64Index([7648, 7662, 7994, 11796], dtype='int64'),\n",
              " 829.0: Int64Index([5224, 19700], dtype='int64'),\n",
              " 830.0: Int64Index([1454, 6281, 6576, 6615, 7415, 9073, 9572, 11410], dtype='int64'),\n",
              " 832.0: Int64Index([13235], dtype='int64'),\n",
              " 834.0: Int64Index([17773], dtype='int64'),\n",
              " 835.0: Int64Index([6888, 7457, 14725, 14727, 14728, 19229], dtype='int64'),\n",
              " 840.0: Int64Index([1497, 1501, 4890, 5652, 5822, 7164, 8557, 11663, 19696], dtype='int64'),\n",
              " 844.0: Int64Index([7545], dtype='int64'),\n",
              " 845.0: Int64Index([  543,   594,   781,  8004,  8820,  9574, 10723, 12487, 13841,\n",
              "             14085, 14117, 14266, 17796],\n",
              "            dtype='int64'),\n",
              " 846.0: Int64Index([15977], dtype='int64'),\n",
              " 849.0: Int64Index([  391,  1419,  1422,  1430,  1977,  1994,  2058,  2076,  2101,\n",
              "              2110,\n",
              "             ...\n",
              "             14374, 14448, 14476, 14497, 14544, 15071, 15225, 16388, 16685,\n",
              "             19555],\n",
              "            dtype='int64', length=103),\n",
              " 850.0: Int64Index([  728,   760,  1322,  1459,  1463,  1979,  2093,  2193,  2257,\n",
              "              2258,  2338,  2340,  2545,  2664,  2955,  3081,  3785,  4383,\n",
              "              4432,  4789,  5191,  5562,  5715,  5953,  6061,  6065,  6111,\n",
              "              6299,  6301,  6402,  7044,  7160,  7193,  7774,  8218,  8278,\n",
              "              8314,  8344,  8482,  8575,  8667,  8696,  8737,  8748,  8781,\n",
              "              9060, 10319, 11876, 11924, 11928, 12002, 12351, 12423, 12440,\n",
              "             12468, 12565, 12609, 12733, 13705, 14888, 14892, 15909, 15964,\n",
              "             16079, 16476, 17024, 17133, 17206, 17961, 17999, 18038, 18243,\n",
              "             18384, 18397, 18400, 18405, 18406, 18409, 18412, 18413, 18417,\n",
              "             18420, 18422, 18427, 18433, 18434, 18439, 18440, 18441, 18446,\n",
              "             18472, 18598, 18603, 18880, 18882, 19562],\n",
              "            dtype='int64'),\n",
              " 852.0: Int64Index([7680], dtype='int64'),\n",
              " 855.0: Int64Index([ 1932,  1934,  8567,  8583,  8657,  8747,  8898,  8948,  9022,\n",
              "              9029,  9037,  9063,  9077,  9093,  9098,  9115, 17612],\n",
              "            dtype='int64'),\n",
              " 856.0: Int64Index([10422], dtype='int64'),\n",
              " 859.0: Int64Index([6250, 16394], dtype='int64'),\n",
              " 860.0: Int64Index([5154, 5956, 9393], dtype='int64'),\n",
              " 865.0: Int64Index([4964, 13176], dtype='int64'),\n",
              " 868.0: Int64Index([17090], dtype='int64'),\n",
              " 869.0: Int64Index([1505, 1944, 18744], dtype='int64'),\n",
              " 870.0: Int64Index([4394, 13220, 17472], dtype='int64'),\n",
              " 875.0: Int64Index([  544,   777,  2358,  2676,  2921,  2951,  3108,  3117,  3177,\n",
              "             10496, 10638, 11042, 15738, 16582, 16702, 18856],\n",
              "            dtype='int64'),\n",
              " 878.0: Int64Index([7932], dtype='int64'),\n",
              " 879.0: Int64Index([6790, 18213], dtype='int64'),\n",
              " 880.0: Int64Index([5745, 6446, 7421, 9245, 10740], dtype='int64'),\n",
              " 885.0: Int64Index([15029, 15201], dtype='int64'),\n",
              " 889.0: Int64Index([3975, 4200, 4753, 4896, 11006], dtype='int64'),\n",
              " 890.0: Int64Index([803, 7378, 8016, 8233, 9296, 11173, 13704, 14752, 14755, 14758], dtype='int64'),\n",
              " 891.0: Int64Index([7912], dtype='int64'),\n",
              " 894.0: Int64Index([10242], dtype='int64'),\n",
              " 895.0: Int64Index([  434,   761,  1652,  3300,  3302,  3421,  5002,  5151,  5346,\n",
              "              7106,  8616,  8674,  8753,  9000,  9024,  9080,  9598,  9617,\n",
              "             10308, 11145, 11987, 12255, 12566, 12592, 12645, 12692, 16164,\n",
              "             18059, 18373, 19666],\n",
              "            dtype='int64'),\n",
              " 896.0: Int64Index([8929, 8942], dtype='int64'),\n",
              " 897.0: Int64Index([10078, 10114, 11386, 11603, 17842], dtype='int64'),\n",
              " 898.0: Int64Index([345, 1305, 4280, 5348, 6626, 8356, 9014, 9102, 11744, 14842, 18975,\n",
              "             19117],\n",
              "            dtype='int64'),\n",
              " 899.0: Int64Index([   17,    37,    39,    45,    50,    53,    55,    56,    63,\n",
              "                64,\n",
              "             ...\n",
              "             19482, 19604, 19660, 19703, 19706, 19707, 19713, 19742, 19906,\n",
              "             19958],\n",
              "            dtype='int64', length=554),\n",
              " 900.0: Int64Index([   81,   738,   749,   750,  1203,  1310,  2266,  2327,  2345,\n",
              "              2356,\n",
              "             ...\n",
              "             17208, 18025, 18538, 18782, 18858, 18883, 18958, 19129, 19161,\n",
              "             19162],\n",
              "            dtype='int64', length=101),\n",
              " 902.0: Int64Index([6546, 16080], dtype='int64'),\n",
              " 908.0: Int64Index([7649, 7650, 7651, 7652, 7653, 7654, 7655, 7656, 7657, 7659, 7660,\n",
              "             7661, 7663, 7664, 7665, 7667, 7668, 7669, 7993],\n",
              "            dtype='int64'),\n",
              " 909.0: Int64Index([17543], dtype='int64'),\n",
              " 910.0: Int64Index([5849, 19468], dtype='int64'),\n",
              " 913.0: Int64Index([12731], dtype='int64'),\n",
              " 915.0: Int64Index([8924, 15218], dtype='int64'),\n",
              " 917.0: Int64Index([12035], dtype='int64'),\n",
              " 919.0: Int64Index([1499, 4271], dtype='int64'),\n",
              " 920.0: Int64Index([3336, 5044, 8262, 9088, 11540, 12945], dtype='int64'),\n",
              " 923.0: Int64Index([10474], dtype='int64'),\n",
              " 925.0: Int64Index([8841, 8872, 8974, 8978, 9070, 9075, 9731, 18196], dtype='int64'),\n",
              " 929.0: Int64Index([16684], dtype='int64'),\n",
              " 930.0: Int64Index([5180, 7302, 13050, 19582], dtype='int64'),\n",
              " 931.0: Int64Index([11150], dtype='int64'),\n",
              " 935.0: Int64Index([4979, 5855, 7423, 14851], dtype='int64'),\n",
              " 939.0: Int64Index([10302, 18622], dtype='int64'),\n",
              " 940.0: Int64Index([3912, 5643, 5659, 6124, 6634, 6783, 17577], dtype='int64'),\n",
              " 945.0: Int64Index([ 1067,  5222,  5322,  5325,  5368,  5380,  8051, 14724, 14726,\n",
              "             14847, 15211, 15596, 17839],\n",
              "            dtype='int64'),\n",
              " 946.0: Int64Index([8925, 8937], dtype='int64'),\n",
              " 949.0: Int64Index([ 1298,  1659,  1973,  1987,  1993,  2053,  2084,  2087,  2107,\n",
              "              2129,  2136,  2140,  2144,  2146,  2148,  2180,  2211,  2227,\n",
              "              2248,  2259,  2279,  2282,  2291,  2302,  2303,  2312,  2314,\n",
              "              2324,  2334,  2387,  2397,  2406,  2412,  2414,  2419,  2425,\n",
              "              2444,  2463,  2514,  2518,  2563,  2564,  2570,  2608,  2631,\n",
              "              2661,  2677,  2691,  2699,  2729,  2735,  2795,  2831,  2838,\n",
              "              2853,  2868,  8712,  9807,  9859, 10875, 11076, 11538, 12147,\n",
              "             12203, 12250, 12341, 12451, 12556, 12558, 12624, 12654, 13100,\n",
              "             13839, 13855, 13871, 14021, 14074, 14121, 14210, 14510, 14780,\n",
              "             16466],\n",
              "            dtype='int64'),\n",
              " 950.0: Int64Index([  390,  1029,  2055,  2690,  2726,  2789,  3709,  5548,  6020,\n",
              "              6135,  6312,  6331,  6396,  6740,  6832,  7062,  7076,  7081,\n",
              "              7376,  7647,  8188,  8237,  8451,  8543,  8574,  8602,  8605,\n",
              "              8684,  8706,  8749,  8763,  8801,  8805,  8812,  8848,  8915,\n",
              "              8982,  9008,  9083,  9108,  9510,  9783,  9916, 10840, 11137,\n",
              "             11559, 11895, 12138, 12153, 12270, 12360, 14762, 14763, 14765,\n",
              "             14766, 15037, 15149, 15908, 18115, 18289, 18684, 18784, 18786,\n",
              "             18819, 18822, 18827, 18828, 18860],\n",
              "            dtype='int64'),\n",
              " 955.0: Int64Index([804, 9087, 16173], dtype='int64'),\n",
              " 957.0: Int64Index([8720], dtype='int64'),\n",
              " 958.0: Int64Index([17401, 19032], dtype='int64'),\n",
              " 959.0: Int64Index([8676, 9139, 9367, 17547], dtype='int64'),\n",
              " 960.0: Int64Index([3080, 6282, 6600, 11846, 12278, 12292, 14843, 15185, 15194, 15203,\n",
              "             17981, 19474],\n",
              "            dtype='int64'),\n",
              " 963.0: Int64Index([4266], dtype='int64'),\n",
              " 965.0: Int64Index([5851, 7261], dtype='int64'),\n",
              " 968.0: Int64Index([8645], dtype='int64'),\n",
              " 969.0: Int64Index([8044, 13056], dtype='int64'),\n",
              " 970.0: Int64Index([11102], dtype='int64'),\n",
              " 974.0: Int64Index([7540], dtype='int64'),\n",
              " 975.0: Int64Index([1326, 8698, 10607, 12458, 18887, 18895], dtype='int64'),\n",
              " 979.0: Int64Index([2064, 2137, 2778, 13555, 16391, 16392], dtype='int64'),\n",
              " 980.0: Int64Index([3746, 5182, 6435, 7890, 7980, 8908, 12533, 12878, 13224, 18661,\n",
              "             19651],\n",
              "            dtype='int64'),\n",
              " 981.0: Int64Index([18293], dtype='int64'),\n",
              " 985.0: Int64Index([551, 4698, 11116, 11642, 15011, 15025], dtype='int64'),\n",
              " 987.0: Int64Index([5598, 5680, 5906, 6958, 7138, 7267, 17029], dtype='int64'),\n",
              " 989.0: Int64Index([6388, 7523, 10080, 17154], dtype='int64'),\n",
              " 990.0: Int64Index([  310,   318,   832,   996,  1103,  1468,  1469,  1471,  1472,\n",
              "              1473,  1474,  1475,  1476,  1477,  1479,  1480,  1606,  2028,\n",
              "              2104,  2733,  2840,  3062,  4659,  5259,  8522,  9803, 10756,\n",
              "             11557, 11560, 12514, 12912, 13673, 14718, 14748, 14750, 14895,\n",
              "             15256, 15639, 16331, 17523, 18000, 18052],\n",
              "            dtype='int64'),\n",
              " 995.0: Int64Index([  836,  3303,  3735,  4888,  7496,  7763,  7853,  7923,  8612,\n",
              "              8654,  8655,  8673,  8679,  8683,  8691,  8811,  8913,  8946,\n",
              "              8962,  8970,  8976,  8995,  9002,  9023,  9033,  9062,  9067,\n",
              "              9072,  9551, 10878, 11570, 11659, 11872, 11873, 11935, 11990,\n",
              "             11995, 12151, 12190, 12309, 12373, 12403, 12461, 12554, 12607,\n",
              "             12689, 12693, 12725, 12858, 13733, 13740, 13747, 13873, 14157,\n",
              "             14295, 14350, 14837, 15180, 15181, 15375, 15450, 15578, 15580,\n",
              "             15903, 16743, 17722, 18189, 19426, 19605],\n",
              "            dtype='int64'),\n",
              " 996.0: Int64Index([12095, 12320, 12330, 12732], dtype='int64'),\n",
              " 998.0: Int64Index([ 1960,  1984,  2216,  2354,  2534,  2566,  2659,  2685,  2692,\n",
              "              3330,  5390,  5569,  5572,  6186,  7317,  7379,  7434,  7612,\n",
              "              7704,  7713,  8566,  8701,  8779,  9480, 10855, 10905, 10934,\n",
              "             10942, 10943, 10991, 10999, 11013, 11016, 11032, 11038, 11041,\n",
              "             11064, 11088, 11162, 11252, 11779, 11781, 12007, 15214, 15289,\n",
              "             16864, 17033, 17039, 17068, 18280, 18282],\n",
              "            dtype='int64'),\n",
              " 999.0: Int64Index([    0,     2,    13,    15,    31,    38,    44,    60,    66,\n",
              "                83,\n",
              "             ...\n",
              "             19912, 19913, 19928, 19937, 19951, 19965, 19983, 19985, 19989,\n",
              "             19992],\n",
              "            dtype='int64', length=1286),\n",
              " 1000.0: Int64Index([   34,   186,   366,  1200,  1210,  1254,  1564,  1992,  1996,\n",
              "              2011,\n",
              "             ...\n",
              "             17339, 17431, 17433, 17932, 17980, 18568, 18689, 18907, 19143,\n",
              "             19546],\n",
              "            dtype='int64', length=194),\n",
              " 1001.0: Int64Index([13241], dtype='int64'),\n",
              " 1005.0: Int64Index([6949], dtype='int64'),\n",
              " 1006.0: Int64Index([17554], dtype='int64'),\n",
              " 1008.0: Int64Index([16769, 17064], dtype='int64'),\n",
              " 1009.0: Int64Index([1399, 15024], dtype='int64'),\n",
              " 1010.0: Int64Index([1597, 4881, 7233, 9500], dtype='int64'),\n",
              " 1013.0: Int64Index([7936], dtype='int64'),\n",
              " 1016.0: Int64Index([6659], dtype='int64'),\n",
              " 1017.0: Int64Index([5534, 5778, 5911], dtype='int64'),\n",
              " 1018.0: Int64Index([4422, 4457], dtype='int64'),\n",
              " 1019.0: Int64Index([9482, 15017, 15188], dtype='int64'),\n",
              " 1020.0: Int64Index([1450, 5919, 7039, 17026], dtype='int64'),\n",
              " 1025.0: Int64Index([85, 2993, 5124, 9928, 15263, 16656, 16688, 18812, 18871], dtype='int64'),\n",
              " 1026.0: Int64Index([11980], dtype='int64'),\n",
              " 1029.0: Int64Index([8943, 14228], dtype='int64'),\n",
              " 1035.0: Int64Index([15014, 15205], dtype='int64'),\n",
              " 1038.0: Int64Index([15848], dtype='int64'),\n",
              " 1039.0: Int64Index([14641], dtype='int64'),\n",
              " 1040.0: Int64Index([1125, 9842, 11134, 12148, 19841, 19866, 19908, 19919, 19942,\n",
              "             19979],\n",
              "            dtype='int64'),\n",
              " 1044.0: Int64Index([11731, 18455, 18700], dtype='int64'),\n",
              " 1045.0: Int64Index([845, 848, 3299, 3310, 9053, 11036, 11621, 15467], dtype='int64'),\n",
              " 1046.0: Int64Index([12436], dtype='int64'),\n",
              " 1048.0: Int64Index([16898], dtype='int64'),\n",
              " 1049.0: Int64Index([  118,   876,  1980,  1990,  2069,  2114,  2121,  2185,  2207,\n",
              "              2222,  2373,  2418,  2431,  2479,  2502,  2517,  2543,  2568,\n",
              "              2572,  2578,  2617,  2638,  2668,  2713,  2716,  2725,  2776,\n",
              "              2804,  2830,  2852,  2882,  2915,  4754, 10299, 10385, 10897,\n",
              "             10998, 11091, 11844, 11875, 12119, 12205, 12219, 12321, 12456,\n",
              "             12625, 12740, 13485, 13833, 14017, 14068, 14100, 14305, 14309,\n",
              "             14391, 14546, 18933, 18934, 19788],\n",
              "            dtype='int64'),\n",
              " 1050.0: Int64Index([  229,  2950,  3180,  3783,  3829,  5675,  5728,  7067,  8128,\n",
              "              8210,  8345,  8576,  9614, 10147, 10149, 10152, 10154, 10162,\n",
              "             10163, 10166, 10167, 10168, 10176, 10183, 10184, 10186, 10187,\n",
              "             10193, 10196, 10197, 10200, 10203, 10212, 10214, 10220, 10224,\n",
              "             10225, 10230, 10233, 10711, 11617, 11780, 11788, 17165, 18443,\n",
              "             18774, 18783, 18791, 18897],\n",
              "            dtype='int64'),\n",
              " 1054.0: Int64Index([7489, 7495], dtype='int64'),\n",
              " 1055.0: Int64Index([1953], dtype='int64'),\n",
              " 1059.0: Int64Index([12876], dtype='int64'),\n",
              " 1060.0: Int64Index([1537, 11047, 14921, 18740, 19159], dtype='int64'),\n",
              " 1064.0: Int64Index([19037], dtype='int64'),\n",
              " 1065.0: Int64Index([3141, 9240], dtype='int64'),\n",
              " 1069.0: Int64Index([4443], dtype='int64'),\n",
              " 1070.0: Int64Index([16779], dtype='int64'),\n",
              " 1075.0: Int64Index([6378, 8652, 8709, 14935, 14937, 15953], dtype='int64'),\n",
              " 1076.0: Int64Index([14708, 15393, 15400], dtype='int64'),\n",
              " 1079.0: Int64Index([8183, 10040, 14474], dtype='int64'),\n",
              " 1080.0: Int64Index([ 2768,  5578,  5904,  6213,  6215,  6380,  6483,  6909,  7171,\n",
              "              7197,  7391, 10240, 16834, 17217, 19814, 19817, 19821, 19904,\n",
              "             19916, 19924, 19955, 19981],\n",
              "            dtype='int64'),\n",
              " 1085.0: Int64Index([16053], dtype='int64'),\n",
              " 1089.0: Int64Index([420, 5278], dtype='int64'),\n",
              " 1090.0: Int64Index([1330, 5206, 9074, 14957, 15488, 17664, 18798], dtype='int64'),\n",
              " 1095.0: Int64Index([   93,   147,   226,   261,   846,   847,  3430,  8332,  8570,\n",
              "              8961,  9466,  9757, 11009, 11387, 11738, 11836, 11860, 11934,\n",
              "             11960, 12412, 12550, 12767, 18008, 18122],\n",
              "            dtype='int64'),\n",
              " 1098.0: Int64Index([8174], dtype='int64'),\n",
              " 1099.0: Int64Index([   94,   100,   129,   335,   476,   570,   576,   642,   664,\n",
              "               850,\n",
              "             ...\n",
              "             19563, 19620, 19635, 19647, 19719, 19779, 19903, 19936, 19941,\n",
              "             19976],\n",
              "            dtype='int64', length=311),\n",
              " 1100.0: Int64Index([  215,   460,   885,  1309,  1312,  1527,  1570,  1868,  2275,\n",
              "              2530,  2672,  2734,  2736,  2753,  3402,  3843,  4252,  4764,\n",
              "              4869,  4926,  5554,  5649,  6114,  6163,  6310,  6523,  6591,\n",
              "              6789,  6930,  6946,  7100,  7207,  7210,  7312,  7350,  7620,\n",
              "              7624,  7626,  7634,  7635,  7638,  7640,  8124,  8127,  8184,\n",
              "              8358,  9490,  9494, 10010, 10206, 10330, 10706, 11069, 11372,\n",
              "             12364, 12713, 12853, 14577, 15287, 15384, 15464, 15907, 15955,\n",
              "             16778, 17094, 17209, 17739, 17969, 18218, 18861, 18891],\n",
              "            dtype='int64'),\n",
              " 1107.0: Int64Index([4393, 4471, 5184], dtype='int64'),\n",
              " 1109.0: Int64Index([12439], dtype='int64'),\n",
              " 1110.0: Int64Index([4947, 5800, 6138, 6667, 15167, 15187], dtype='int64'),\n",
              " 1114.0: Int64Index([13587, 17540], dtype='int64'),\n",
              " 1115.0: Int64Index([7903], dtype='int64'),\n",
              " 1118.0: Int64Index([3794, 17534, 17568, 17992], dtype='int64'),\n",
              " 1119.0: Int64Index([7900, 7937], dtype='int64'),\n",
              " 1120.0: Int64Index([123, 5058, 6139, 7374, 18012, 18371, 19834, 19844, 19871, 19883,\n",
              "             19895, 19923],\n",
              "            dtype='int64'),\n",
              " 1125.0: Int64Index([8728], dtype='int64'),\n",
              " 1129.0: Int64Index([1617, 4679], dtype='int64'),\n",
              " 1130.0: Int64Index([7011, 19086], dtype='int64'),\n",
              " 1134.0: Int64Index([4950], dtype='int64'),\n",
              " 1135.0: Int64Index([541, 542, 3798], dtype='int64'),\n",
              " 1137.0: Int64Index([15388], dtype='int64'),\n",
              " 1139.0: Int64Index([16108], dtype='int64'),\n",
              " 1140.0: Int64Index([2260, 2600, 4953, 7380, 8180, 15191, 19342], dtype='int64'),\n",
              " 1143.0: Int64Index([14673], dtype='int64'),\n",
              " 1145.0: Int64Index([7737, 8099, 12522, 17308, 18923, 18926, 18928, 18940], dtype='int64'),\n",
              " 1146.0: Int64Index([7966], dtype='int64'),\n",
              " 1147.0: Int64Index([11616, 16573], dtype='int64'),\n",
              " 1148.0: Int64Index([18578], dtype='int64'),\n",
              " 1149.0: Int64Index([ 1458,  1599,  1643,  2550,  3335,  3346,  3358,  8075,  8217,\n",
              "              9209,  9382,  9499,  9501,  9502,  9503,  9504,  9505,  9538,\n",
              "              9539,  9632, 11564, 11841, 11944, 18098, 19661],\n",
              "            dtype='int64'),\n",
              " 1150.0: Int64Index([ 3118,  3127,  3182,  3255,  5700,  6870,  8512,  9190,  9447,\n",
              "              9473,  9785, 12283, 12430, 16054, 17007, 17280, 18617, 19737],\n",
              "            dtype='int64'),\n",
              " 1154.0: Int64Index([12424], dtype='int64'),\n",
              " 1155.0: Int64Index([4883, 4941, 15026, 16550], dtype='int64'),\n",
              " 1156.0: Int64Index([8930, 8954], dtype='int64'),\n",
              " 1160.0: Int64Index([317, 8958, 9285], dtype='int64'),\n",
              " 1164.0: Int64Index([7979, 7986], dtype='int64'),\n",
              " 1165.0: Int64Index([9316, 13110], dtype='int64'),\n",
              " 1170.0: Int64Index([2421, 2791, 5920, 6098], dtype='int64'),\n",
              " 1173.0: Int64Index([1513], dtype='int64'),\n",
              " 1175.0: Int64Index([8671, 11882], dtype='int64'),\n",
              " 1176.0: Int64Index([7962], dtype='int64'),\n",
              " 1179.0: Int64Index([18737], dtype='int64'),\n",
              " 1180.0: Int64Index([4797, 5185, 5879], dtype='int64'),\n",
              " 1183.0: Int64Index([11212], dtype='int64'),\n",
              " 1185.0: Int64Index([11955, 12244], dtype='int64'),\n",
              " 1186.0: Int64Index([6217, 6551], dtype='int64'),\n",
              " 1188.0: Int64Index([7950], dtype='int64'),\n",
              " 1190.0: Int64Index([517, 3710, 15683, 19948], dtype='int64'),\n",
              " 1191.0: Int64Index([11167], dtype='int64'),\n",
              " 1195.0: Int64Index([  296,   297,   298,   299,   566,  1432,  3311,  3337,  3372,\n",
              "              7892, 12279, 12312, 12472, 12639, 13752, 16219, 16257, 16539,\n",
              "             17306, 17430, 17809, 18264],\n",
              "            dtype='int64'),\n",
              " 1196.0: Int64Index([8928, 15018], dtype='int64'),\n",
              " 1198.0: Int64Index([ 2023,  2803,  7960,  8330, 10024, 10059, 13838, 13849, 13930,\n",
              "             13971, 14124, 14287, 14369, 15882, 15986, 15992, 17784, 18071,\n",
              "             18204, 18377, 18551, 18779, 18781],\n",
              "            dtype='int64'),\n",
              " 1199.0: Int64Index([    6,     9,   114,   117,   144,   360,   361,   431,   432,\n",
              "               462,\n",
              "             ...\n",
              "             19602, 19648, 19658, 19670, 19691, 19728, 19752, 19761, 19768,\n",
              "             19794],\n",
              "            dtype='int64', length=325),\n",
              " 1200.0: Int64Index([   35,   137,   160,   216,   260,   464,   673,   748,   849,\n",
              "               889,\n",
              "             ...\n",
              "             18451, 18523, 18718, 18725, 18776, 18997, 19058, 19646, 19678,\n",
              "             19759],\n",
              "            dtype='int64', length=181),\n",
              " 1203.0: Int64Index([18750], dtype='int64'),\n",
              " 1205.0: Int64Index([377], dtype='int64'),\n",
              " 1208.0: Int64Index([1052, 1053, 14674], dtype='int64'),\n",
              " 1215.0: Int64Index([6698], dtype='int64'),\n",
              " 1220.0: Int64Index([9506, 19808, 19859, 19868, 19869, 19891, 19980, 19986, 19991], dtype='int64'),\n",
              " 1224.0: Int64Index([19517, 19682], dtype='int64'),\n",
              " 1225.0: Int64Index([3239, 4801, 8059, 13435, 18301], dtype='int64'),\n",
              " 1230.0: Int64Index([5531, 13811], dtype='int64'),\n",
              " 1232.0: Int64Index([357, 9688], dtype='int64'),\n",
              " 1235.0: Int64Index([291, 5262], dtype='int64'),\n",
              " 1239.0: Int64Index([11886, 12414], dtype='int64'),\n",
              " 1240.0: Int64Index([4829, 5159, 10596, 14769], dtype='int64'),\n",
              " 1245.0: Int64Index([926, 1380, 3291, 4961, 11968, 12637, 17844], dtype='int64'),\n",
              " 1249.0: Int64Index([  886,   887,  1641,  5698,  5933,  7154,  8945,  9007,  9358,\n",
              "              9373,  9375, 13934, 14265, 16412, 16661, 18374, 19075, 19421,\n",
              "             19643],\n",
              "            dtype='int64'),\n",
              " 1250.0: Int64Index([  219,   359,  2408,  3010,  3885,  4406,  5029,  5674,  6262,\n",
              "              8488,  8578,  8662,  9571,  9606, 10307, 10321, 10329, 10332,\n",
              "             11927, 12257, 12885, 13796, 14711, 14760, 14761, 15819, 16133,\n",
              "             17096, 17102, 17177, 18169, 18216, 18804, 18857, 19029, 19535,\n",
              "             19536, 19560, 19669],\n",
              "            dtype='int64'),\n",
              " 1255.0: Int64Index([15192], dtype='int64'),\n",
              " 1259.0: Int64Index([3789, 4101, 10248], dtype='int64'),\n",
              " 1260.0: Int64Index([1042, 5155, 17972], dtype='int64'),\n",
              " 1261.0: Int64Index([18788], dtype='int64'),\n",
              " 1269.0: Int64Index([14923], dtype='int64'),\n",
              " 1270.0: Int64Index([12129], dtype='int64'),\n",
              " 1275.0: Int64Index([599, 3914, 15910], dtype='int64'),\n",
              " 1280.0: Int64Index([5140, 12735, 12737, 18610, 19907], dtype='int64'),\n",
              " 1283.0: Int64Index([7919], dtype='int64'),\n",
              " 1284.0: Int64Index([8090], dtype='int64'),\n",
              " 1285.0: Int64Index([4102], dtype='int64'),\n",
              " 1290.0: Int64Index([553, 872, 4987, 10341, 13595, 14899, 15076, 18057, 18099, 18263], dtype='int64'),\n",
              " 1293.0: Int64Index([11435, 11483], dtype='int64'),\n",
              " 1295.0: Int64Index([  465,  3270,  8564,  8590, 10238, 10904, 11119, 11132, 11396,\n",
              "             11536, 12047, 12131, 12743, 13430, 13601, 13790, 13891, 14119,\n",
              "             14190, 14595, 15015, 15022, 15028, 16541, 16592, 17913, 19481,\n",
              "             19624],\n",
              "            dtype='int64'),\n",
              " 1297.0: Int64Index([11971, 16687], dtype='int64'),\n",
              " 1298.0: Int64Index([3759, 3910, 4654, 5157, 12660, 18702], dtype='int64'),\n",
              " 1299.0: Int64Index([   25,    51,    87,   152,   170,   193,   239,   258,   270,\n",
              "               275,\n",
              "             ...\n",
              "             19885, 19917, 19922, 19935, 19944, 19964, 19984, 19990, 19993,\n",
              "             19997],\n",
              "            dtype='int64', length=558),\n",
              " 1300.0: Int64Index([ 1401,  1991,  2905,  3328,  3373,  5172,  5529,  6797,  7250,\n",
              "              7450,  7843,  8357,  8385,  8787, 10336, 10342, 10803, 11585,\n",
              "             12245, 12246, 12280, 12366, 13295, 14108, 14143, 14502, 14729,\n",
              "             17333, 18962, 18963, 18966, 19827, 19835, 19838, 19845, 19874,\n",
              "             19875, 19879, 19889, 19918, 19943, 19946, 19949, 19988],\n",
              "            dtype='int64'),\n",
              " 1310.0: Int64Index([9552, 12168, 15213, 18130], dtype='int64'),\n",
              " 1315.0: Int64Index([10749], dtype='int64'),\n",
              " 1318.0: Int64Index([1015, 11304], dtype='int64'),\n",
              " 1319.0: Int64Index([12570], dtype='int64'),\n",
              " 1320.0: Int64Index([6423, 8479, 9426], dtype='int64'),\n",
              " 1321.0: Int64Index([11973, 17714], dtype='int64'),\n",
              " 1325.0: Int64Index([5243, 8624], dtype='int64'),\n",
              " 1326.0: Int64Index([892], dtype='int64'),\n",
              " 1329.0: Int64Index([14925, 18728], dtype='int64'),\n",
              " 1330.0: Int64Index([3813, 9884], dtype='int64'),\n",
              " 1331.0: Int64Index([19813, 19849, 19975], dtype='int64'),\n",
              " 1332.0: Int64Index([13423, 17531], dtype='int64'),\n",
              " 1333.0: Int64Index([4767, 10764], dtype='int64'),\n",
              " 1339.0: Int64Index([11469], dtype='int64'),\n",
              " 1340.0: Int64Index([5007, 13097, 17685, 17702, 17760, 17794, 17824], dtype='int64'),\n",
              " 1345.0: Int64Index([14863], dtype='int64'),\n",
              " 1347.0: Int64Index([10642, 10687, 10710, 10720, 19060], dtype='int64'),\n",
              " 1348.0: Int64Index([12576, 12597], dtype='int64'),\n",
              " 1349.0: Int64Index([ 2000,  3251,  3397,  8640,  9540,  9766, 12715, 13326, 17372,\n",
              "             17373, 18908, 18910, 18915, 18918, 19445],\n",
              "            dtype='int64'),\n",
              " 1350.0: Int64Index([  204,   221,   789,  1712,  1947,  2195,  4661,  8197,  8201,\n",
              "              8253,  8348,  8668,  8853,  9120,  9192,  9205,  9206,  9517,\n",
              "             10526, 11419, 12790, 13072, 13228, 13382, 14702, 14779, 15280,\n",
              "             16461, 19368],\n",
              "            dtype='int64'),\n",
              " 1355.0: Int64Index([1215], dtype='int64'),\n",
              " 1356.0: Int64Index([5762], dtype='int64'),\n",
              " 1359.0: Int64Index([1481], dtype='int64'),\n",
              " 1360.0: Int64Index([862, 871, 5926, 6041, 6862, 8140, 11675, 14657, 19442, 19824,\n",
              "             19873],\n",
              "            dtype='int64'),\n",
              " 1370.0: Int64Index([9762], dtype='int64'),\n",
              " 1375.0: Int64Index([507, 9558, 16134, 17712], dtype='int64'),\n",
              " 1378.0: Int64Index([11986, 12026, 12029, 12626, 12634], dtype='int64'),\n",
              " 1380.0: Int64Index([859, 12125, 12546, 15264, 15304, 15311], dtype='int64'),\n",
              " 1385.0: Int64Index([4872], dtype='int64'),\n",
              " 1388.0: Int64Index([19559], dtype='int64'),\n",
              " 1390.0: Int64Index([413, 867, 5203, 9537, 14994, 18483], dtype='int64'),\n",
              " 1394.0: Int64Index([12264], dtype='int64'),\n",
              " 1395.0: Int64Index([179, 510, 3422, 5499, 9556, 11472, 17769, 17994, 18719], dtype='int64'),\n",
              " 1397.0: Int64Index([12188, 12594, 12714], dtype='int64'),\n",
              " 1398.0: Int64Index([3059, 3071, 3319, 11789, 16636, 17627, 17633, 18536, 18548, 18743,\n",
              "             19041],\n",
              "            dtype='int64'),\n",
              " 1399.0: Int64Index([   49,    57,    58,    59,    62,   276,   307,   382,   550,\n",
              "               557,\n",
              "             ...\n",
              "             19627, 19637, 19640, 19649, 19709, 19716, 19757, 19783, 19820,\n",
              "             19822],\n",
              "            dtype='int64', length=228),\n",
              " 1400.0: Int64Index([  639,   640,   643,   663,   670,   674,   903,  1265,  1266,\n",
              "              1268,  1269,  1272,  1273,  1274,  1275,  1276,  1277,  1278,\n",
              "              1279,  1280,  1282,  1283,  1285,  1287,  1288,  1289,  1290,\n",
              "              1291,  1294,  1295,  1296,  1302,  1963,  2001,  2065,  2159,\n",
              "              3713,  3816,  4759,  6373,  7694,  7840,  7846,  7860,  8234,\n",
              "              8299,  8301,  8390,  8434,  8501,  8647,  8851,  8901,  9140,\n",
              "              9145,  9336,  9344,  9372,  9639,  9689,  9692,  9712,  9715,\n",
              "              9929, 10363, 10370, 11070, 11534, 11734, 12293, 13372, 14836,\n",
              "             15054, 16294, 16738, 17212, 17216, 17344, 17345, 18104, 18766,\n",
              "             19516, 19721],\n",
              "            dtype='int64'),\n",
              " 1407.0: Int64Index([2756, 2824], dtype='int64'),\n",
              " 1414.0: Int64Index([18608], dtype='int64'),\n",
              " 1415.0: Int64Index([99], dtype='int64'),\n",
              " 1418.0: Int64Index([4834, 4996, 5087], dtype='int64'),\n",
              " 1419.0: Int64Index([422], dtype='int64'),\n",
              " 1420.0: Int64Index([3142, 5289, 8310, 15302], dtype='int64'),\n",
              " 1425.0: Int64Index([552, 15873, 18325], dtype='int64'),\n",
              " 1429.0: Int64Index([3344, 15130, 19798, 19809, 19909, 19939, 19963, 19973, 19977,\n",
              "             19996],\n",
              "            dtype='int64'),\n",
              " 1430.0: Int64Index([18714], dtype='int64'),\n",
              " 1433.0: Int64Index([9739], dtype='int64'),\n",
              " 1437.0: Int64Index([19049], dtype='int64'),\n",
              " 1439.0: Int64Index([1526, 17371], dtype='int64'),\n",
              " 1440.0: Int64Index([1058, 10052, 12649, 19506], dtype='int64'),\n",
              " 1445.0: Int64Index([869, 8170, 9754, 10529], dtype='int64'),\n",
              " 1447.0: Int64Index([14933], dtype='int64'),\n",
              " 1448.0: Int64Index([12670], dtype='int64'),\n",
              " 1449.0: Int64Index([  817,   818,   819,  2071,  2558,  3423,  4582,  5079,  5934,\n",
              "              7025,  7711, 10146, 10202, 11634, 14637, 14690, 16402, 19507,\n",
              "             19533, 19540],\n",
              "            dtype='int64'),\n",
              " 1450.0: Int64Index([  521,   525,  1681,  3814,  3925,  4442,  4796,  5011,  5241,\n",
              "              5251,  5280,  5610,  7342, 10289, 10378, 15832, 16069, 17279,\n",
              "             19180, 19454],\n",
              "            dtype='int64'),\n",
              " 1454.0: Int64Index([19339], dtype='int64'),\n",
              " 1455.0: Int64Index([1608, 12947], dtype='int64'),\n",
              " 1460.0: Int64Index([5063, 15129, 19087], dtype='int64'),\n",
              " 1467.0: Int64Index([15319], dtype='int64'),\n",
              " 1470.0: Int64Index([3281, 9134], dtype='int64'),\n",
              " 1475.0: Int64Index([3957, 4523, 4660, 16153, 16701, 16755], dtype='int64'),\n",
              " 1480.0: Int64Index([12635, 15297, 19828, 19846, 19856, 19862, 19927, 19972], dtype='int64'),\n",
              " 1484.0: Int64Index([858], dtype='int64'),\n",
              " 1485.0: Int64Index([753, 10005, 10013, 18291, 18825], dtype='int64'),\n",
              " 1490.0: Int64Index([ 1388,  3169,  4672,  5136,  9267,  9804,  9974, 10019, 10328,\n",
              "             11845, 13610, 14992, 15000, 15105, 15128, 15545, 15970, 16221,\n",
              "             16554],\n",
              "            dtype='int64'),\n",
              " 1491.0: Int64Index([11884, 11939, 12327, 12348], dtype='int64'),\n",
              " 1493.0: Int64Index([10739], dtype='int64'),\n",
              " 1494.0: Int64Index([7535, 15373], dtype='int64'),\n",
              " 1495.0: Int64Index([   68,   259,   324,   595,  1841,  4514,  8172,  9326,  9758,\n",
              "             11358, 11864, 13862, 13916, 14217, 15598, 15637, 15938, 16528,\n",
              "             16542, 16603, 17309, 17310, 18490, 18491, 18497, 19446],\n",
              "            dtype='int64'),\n",
              " 1496.0: Int64Index([2939], dtype='int64'),\n",
              " 1497.0: Int64Index([7683, 10940, 11004, 11230, 11237], dtype='int64'),\n",
              " 1498.0: Int64Index([1144, 5460, 8364, 11514, 16841], dtype='int64'),\n",
              " 1499.0: Int64Index([   41,    79,   110,   173,   224,   265,   278,   293,   389,\n",
              "               472,\n",
              "             ...\n",
              "             19755, 19766, 19777, 19787, 19792, 19797, 19842, 19945, 19998,\n",
              "             19999],\n",
              "            dtype='int64', length=483),\n",
              " 1500.0: Int64Index([   23,   251,   451,   452,   860,  1141,  1143,  1145,  1152,\n",
              "              1156,\n",
              "             ...\n",
              "             19801, 19807, 19818, 19850, 19886, 19911, 19959, 19960, 19978,\n",
              "             19995],\n",
              "            dtype='int64', length=131),\n",
              " 1505.0: Int64Index([19160], dtype='int64'),\n",
              " 1510.0: Int64Index([3126, 4838, 4994, 5016, 15251], dtype='int64'),\n",
              " 1520.0: Int64Index([3148, 4082, 7871, 11551, 16548, 16736, 16754], dtype='int64'),\n",
              " 1525.0: Int64Index([5069, 11496], dtype='int64'),\n",
              " 1526.0: Int64Index([7337], dtype='int64'),\n",
              " 1530.0: Int64Index([1019, 9321, 12716, 17883], dtype='int64'),\n",
              " 1535.0: Int64Index([16518, 16523], dtype='int64'),\n",
              " 1538.0: Int64Index([1590, 9195], dtype='int64'),\n",
              " 1539.0: Int64Index([12580], dtype='int64'),\n",
              " 1540.0: Int64Index([1260, 11672], dtype='int64'),\n",
              " 1545.0: Int64Index([9734, 9755, 10421, 11494, 11754, 19016], dtype='int64'),\n",
              " 1548.0: Int64Index([3882], dtype='int64'),\n",
              " 1549.0: Int64Index([820, 821, 9744, 15821, 18499, 19497, 19558, 19772], dtype='int64'),\n",
              " 1550.0: Int64Index([  138,   635,   636,   637,   638,   697,   698,   699,   700,\n",
              "               701,   702,   703,   704,   705,   706,   707,   708,   732,\n",
              "               733,   739,   741,   742,   743,   745,   746,   747,   774,\n",
              "               775,   778,   780,   783,  1034,  3152,  5475, 11770, 12369,\n",
              "             15358, 19447],\n",
              "            dtype='int64'),\n",
              " 1552.0: Int64Index([8111, 10479], dtype='int64'),\n",
              " 1555.0: Int64Index([7934], dtype='int64'),\n",
              " 1560.0: Int64Index([9549, 9550, 9557, 14776, 15139], dtype='int64'),\n",
              " 1563.0: Int64Index([12109, 12200, 12385], dtype='int64'),\n",
              " 1565.0: Int64Index([868], dtype='int64'),\n",
              " 1566.0: Int64Index([1627], dtype='int64'),\n",
              " 1567.0: Int64Index([6235], dtype='int64'),\n",
              " 1568.0: Int64Index([5274], dtype='int64'),\n",
              " 1569.0: Int64Index([19587, 19657, 19720], dtype='int64'),\n",
              " 1570.0: Int64Index([1431, 10786], dtype='int64'),\n",
              " 1572.0: Int64Index([5588], dtype='int64'),\n",
              " 1575.0: Int64Index([2960, 9463, 10420, 15568, 15767], dtype='int64'),\n",
              " 1580.0: Int64Index([16043, 19298], dtype='int64'),\n",
              " 1585.0: Int64Index([12080, 12392, 12531], dtype='int64'),\n",
              " 1586.0: Int64Index([4631], dtype='int64'),\n",
              " 1590.0: Int64Index([1394, 1549, 1680, 1820, 3374, 6579, 8002, 10016, 16386, 17660,\n",
              "             17974, 18002],\n",
              "            dtype='int64'),\n",
              " 1595.0: Int64Index([  455,  1107,  7684,  9756,  9878, 11278, 11376, 11382, 11707,\n",
              "             11911, 14787, 15137, 16524, 16883, 16885, 16886, 17516, 17679,\n",
              "             18484, 18485],\n",
              "            dtype='int64'),\n",
              " 1596.0: Int64Index([12444], dtype='int64'),\n",
              " 1597.0: Int64Index([1314, 12155, 17460], dtype='int64'),\n",
              " 1598.0: Int64Index([9518, 9522, 10427, 10430, 10432, 10435, 16014, 18805], dtype='int64'),\n",
              " 1599.0: Int64Index([  127,   209,   340,   349,   454,   499,   587,   616,   685,\n",
              "               687,\n",
              "             ...\n",
              "             19608, 19623, 19629, 19630, 19655, 19714, 19718, 19746, 19749,\n",
              "             19894],\n",
              "            dtype='int64', length=268),\n",
              " 1600.0: Int64Index([   84,   801,  1555,  1559,  1576,  1629,  1950,  2367,  2487,\n",
              "              3042,  3244,  3332,  4129,  5252,  6002,  7572,  7776,  7792,\n",
              "              7800,  7814,  7819,  7827,  7833,  7835,  7847,  7870,  7874,\n",
              "              8773,  8814,  8830, 10753, 10802, 11575, 11578, 11594, 11947,\n",
              "             12004, 13077, 13103, 13527, 14958, 14960, 15202, 18106, 18368,\n",
              "             18713, 19816, 19888, 19921, 19926],\n",
              "            dtype='int64'),\n",
              " 1605.0: Int64Index([3992, 18729], dtype='int64'),\n",
              " 1619.0: Int64Index([12516, 12717], dtype='int64'),\n",
              " 1620.0: Int64Index([7984, 11060, 19457], dtype='int64'),\n",
              " 1624.0: Int64Index([4346], dtype='int64'),\n",
              " 1625.0: Int64Index([8033, 8034, 8037, 10188], dtype='int64'),\n",
              " 1629.0: Int64Index([8296, 16975], dtype='int64'),\n",
              " 1630.0: Int64Index([5187, 11601, 11889, 12061, 12146], dtype='int64'),\n",
              " 1633.0: Int64Index([10851, 10853], dtype='int64'),\n",
              " 1637.0: Int64Index([356], dtype='int64'),\n",
              " 1640.0: Int64Index([9197, 18044], dtype='int64'),\n",
              " 1645.0: Int64Index([268, 634, 17002, 18949], dtype='int64'),\n",
              " 1648.0: Int64Index([19652], dtype='int64'),\n",
              " 1649.0: Int64Index([61, 2330, 10508, 15827, 16639, 17805, 19139], dtype='int64'),\n",
              " 1650.0: Int64Index([786, 1571, 4085, 4860, 5226, 10313, 10356, 12098, 14666, 16141,\n",
              "             19881],\n",
              "            dtype='int64'),\n",
              " 1655.0: Int64Index([11983, 17381, 19110], dtype='int64'),\n",
              " 1656.0: Int64Index([439], dtype='int64'),\n",
              " 1658.0: Int64Index([1531], dtype='int64'),\n",
              " 1660.0: Int64Index([16262], dtype='int64'),\n",
              " 1662.0: Int64Index([12681, 17100], dtype='int64'),\n",
              " 1664.0: Int64Index([383, 17544], dtype='int64'),\n",
              " 1665.0: Int64Index([5498], dtype='int64'),\n",
              " 1670.0: Int64Index([8707], dtype='int64'),\n",
              " 1672.0: Int64Index([10848], dtype='int64'),\n",
              " 1674.0: Int64Index([19414], dtype='int64'),\n",
              " 1675.0: Int64Index([3862, 4620, 15867, 16540], dtype='int64'),\n",
              " 1676.0: Int64Index([4690], dtype='int64'),\n",
              " 1679.0: Int64Index([8856, 16497], dtype='int64'),\n",
              " 1680.0: Int64Index([8001, 10399, 12375], dtype='int64'),\n",
              " 1682.0: Int64Index([977], dtype='int64'),\n",
              " 1683.0: Int64Index([10887], dtype='int64'),\n",
              " 1685.0: Int64Index([504], dtype='int64'),\n",
              " 1687.0: Int64Index([9430], dtype='int64'),\n",
              " 1688.0: Int64Index([7920], dtype='int64'),\n",
              " 1690.0: Int64Index([1185, 3128, 3314, 3357, 9055, 11511, 14897, 14898, 16284, 18006,\n",
              "             18068, 18197],\n",
              "            dtype='int64'),\n",
              " 1695.0: Int64Index([ 1544,  3425,  3426,  3431,  8759,  9633, 15133, 15547, 16465,\n",
              "             16760, 17508, 17973, 18298, 18299, 18303, 18310, 18320, 18322,\n",
              "             18326, 18331, 18971],\n",
              "            dtype='int64'),\n",
              " 1698.0: Int64Index([7679], dtype='int64'),\n",
              " 1699.0: Int64Index([  126,   362,   418,   426,   438,   469,   492,   502,   581,\n",
              "               612,\n",
              "             ...\n",
              "             19039, 19451, 19487, 19490, 19491, 19525, 19549, 19585, 19628,\n",
              "             19744],\n",
              "            dtype='int64', length=143),\n",
              " 1700.0: Int64Index([  861,   865,  2012,  2089,  2152,  2511,  2515,  2561,  2602,\n",
              "              2751,  2849,  2893,  2909,  6238,  7831,  8013,  8499,  9118,\n",
              "             10772, 10777, 10808, 10814, 10815, 10829, 10836, 10838, 12816,\n",
              "             15402, 15789, 15841, 15899, 15941, 16018, 16055, 18131, 18171,\n",
              "             18727],\n",
              "            dtype='int64'),\n",
              " 1704.0: Int64Index([4144, 4712, 10982], dtype='int64'),\n",
              " 1710.0: Int64Index([1575, 15850, 19459], dtype='int64'),\n",
              " 1722.0: Int64Index([11849, 12560], dtype='int64'),\n",
              " 1724.0: Int64Index([10], dtype='int64'),\n",
              " 1725.0: Int64Index([11455, 11484, 11491, 11883, 12240, 19625], dtype='int64'),\n",
              " 1728.0: Int64Index([12583], dtype='int64'),\n",
              " 1729.0: Int64Index([17380, 17382], dtype='int64'),\n",
              " 1730.0: Int64Index([9290, 11628, 12173, 18611, 18614], dtype='int64'),\n",
              " 1733.0: Int64Index([354], dtype='int64'),\n",
              " 1736.0: Int64Index([4463], dtype='int64'),\n",
              " 1738.0: Int64Index([10518, 10541], dtype='int64'),\n",
              " 1740.0: Int64Index([1512, 8429, 19138, 19650], dtype='int64'),\n",
              " 1742.0: Int64Index([19557], dtype='int64'),\n",
              " 1743.0: Int64Index([457], dtype='int64'),\n",
              " 1745.0: Int64Index([11874, 11975, 12706], dtype='int64'),\n",
              " 1747.0: Int64Index([2117], dtype='int64'),\n",
              " 1748.0: Int64Index([11648, 11652, 11690], dtype='int64'),\n",
              " 1749.0: Int64Index([ 1358,  2535,  2616,  9148, 10174, 10175, 10195, 10211, 10226,\n",
              "             10232, 11739, 11764, 11765, 12536, 14706, 15672, 16499, 16513,\n",
              "             16531, 16665, 16747, 19568],\n",
              "            dtype='int64'),\n",
              " 1750.0: Int64Index([ 1565,  8400,  8957,  9523, 12666, 15125, 16480, 16601, 16678,\n",
              "             17715, 19035, 19036, 19450, 19597, 19663],\n",
              "            dtype='int64'),\n",
              " 1755.0: Int64Index([15148, 15692, 15787], dtype='int64'),\n",
              " 1759.0: Int64Index([12460, 12658], dtype='int64'),\n",
              " 1760.0: Int64Index([4914, 14663], dtype='int64'),\n",
              " 1763.0: Int64Index([12011, 12016, 12304, 12668], dtype='int64'),\n",
              " 1765.0: Int64Index([1624], dtype='int64'),\n",
              " 1770.0: Int64Index([16445, 19711], dtype='int64'),\n",
              " 1774.0: Int64Index([12137], dtype='int64'),\n",
              " 1775.0: Int64Index([308], dtype='int64'),\n",
              " 1780.0: Int64Index([2331, 2584, 9850, 10326], dtype='int64'),\n",
              " 1784.0: Int64Index([11029], dtype='int64'),\n",
              " 1789.0: Int64Index([16520, 16825], dtype='int64'),\n",
              " 1790.0: Int64Index([ 1183,  1926,  3362,  4991,  7583, 15103, 15107, 15108, 15115,\n",
              "             15124, 15376, 16360, 18028, 19769],\n",
              "            dtype='int64'),\n",
              " 1795.0: Int64Index([159, 788, 3320, 3395, 9910, 11082, 11742, 15085, 15356, 17719], dtype='int64'),\n",
              " 1796.0: Int64Index([17394], dtype='int64'),\n",
              " 1797.0: Int64Index([ 1517, 10293, 11837, 12070, 12269, 12346, 12365, 12459, 12705,\n",
              "             18086, 18207, 18219],\n",
              "            dtype='int64'),\n",
              " 1798.0: Int64Index([9561, 9775], dtype='int64'),\n",
              " 1799.0: Int64Index([   98,   151,   201,   222,   283,   303,   372,   509,   567,\n",
              "               611,\n",
              "             ...\n",
              "             19654, 19656, 19680, 19684, 19708, 19754, 19763, 19764, 19784,\n",
              "             19962],\n",
              "            dtype='int64', length=134),\n",
              " 1800.0: Int64Index([  252,  1054,  1216,  1256,  1307,  1548,  1554,  2043,  2166,\n",
              "              2341,  2394,  2724,  2779,  3378,  3380,  3436,  4046,  4150,\n",
              "              4169,  4885,  4905,  4910,  5156,  5342,  5504,  5584,  5646,\n",
              "              6352,  7785,  7839,  7845,  7877,  8043,  8045,  8189,  8264,\n",
              "              8485,  8685,  8857,  9478,  9514,  9640,  9674, 10252, 10382,\n",
              "             10416, 11473, 11945, 13457, 15395, 18225, 18696, 18981, 19038,\n",
              "             19683],\n",
              "            dtype='int64'),\n",
              " 1815.0: Int64Index([10309, 10349], dtype='int64'),\n",
              " 1816.0: Int64Index([10941], dtype='int64'),\n",
              " 1817.0: Int64Index([10476], dtype='int64'),\n",
              " 1818.0: Int64Index([16813], dtype='int64'),\n",
              " 1820.0: Int64Index([234, 4338], dtype='int64'),\n",
              " 1825.0: Int64Index([352, 11877, 11892, 15929, 16552], dtype='int64'),\n",
              " 1829.0: Int64Index([12485], dtype='int64'),\n",
              " 1838.0: Int64Index([11522], dtype='int64'),\n",
              " 1839.0: Int64Index([19790, 19831, 19872, 19876, 19898, 19899, 19969, 19987], dtype='int64'),\n",
              " 1848.0: Int64Index([4453], dtype='int64'),\n",
              " 1849.0: Int64Index([65, 8066, 9498, 10856, 14698, 15570], dtype='int64'),\n",
              " 1850.0: Int64Index([1396, 1616, 8791, 14768, 16974, 18170], dtype='int64'),\n",
              " 1854.0: Int64Index([15199], dtype='int64'),\n",
              " 1857.0: Int64Index([7970], dtype='int64'),\n",
              " 1859.0: Int64Index([3318], dtype='int64'),\n",
              " 1860.0: Int64Index([11847, 19762], dtype='int64'),\n",
              " 1863.0: Int64Index([12243, 12344, 12359], dtype='int64'),\n",
              " 1865.0: Int64Index([3348], dtype='int64'),\n",
              " 1866.0: Int64Index([4008, 5676, 6342, 6356, 7403, 7427, 12313], dtype='int64'),\n",
              " 1869.0: Int64Index([14835], dtype='int64'),\n",
              " 1871.0: Int64Index([12742], dtype='int64'),\n",
              " 1872.0: Int64Index([16816], dtype='int64'),\n",
              " 1875.0: Int64Index([7622, 7637], dtype='int64'),\n",
              " 1879.0: Int64Index([8039], dtype='int64'),\n",
              " 1880.0: Int64Index([17163], dtype='int64'),\n",
              " 1881.0: Int64Index([4786], dtype='int64'),\n",
              " 1885.0: Int64Index([4798], dtype='int64'),\n",
              " 1888.0: Int64Index([9812], dtype='int64'),\n",
              " 1889.0: Int64Index([1023], dtype='int64'),\n",
              " 1890.0: Int64Index([3412, 3424, 11437, 11438, 15113, 15766, 18341, 18820, 18831, 18846,\n",
              "             19613],\n",
              "            dtype='int64'),\n",
              " 1895.0: Int64Index([ 1421,  7911,  9834,  9968, 11369, 11747, 11819, 14902, 15751,\n",
              "             15761, 16094, 16179, 16888],\n",
              "            dtype='int64'),\n",
              " 1898.0: Int64Index([14271, 16061, 19586], dtype='int64'),\n",
              " 1899.0: Int64Index([   71,   199,   329,   337,   343,   346,   348,   353,   474,\n",
              "               475,\n",
              "             ...\n",
              "             19528, 19571, 19575, 19618, 19702, 19735, 19743, 19775, 19776,\n",
              "             19901],\n",
              "            dtype='int64', length=112),\n",
              " 1900.0: Int64Index([ 1386,  1446,  1610,  6324,  7996,  8751,  9259,  9720, 12284,\n",
              "             12285, 12286, 12287, 13378, 14940, 15100, 15249, 15481, 16585,\n",
              "             16775, 17396, 17499, 17677, 18085, 18694, 18810],\n",
              "            dtype='int64'),\n",
              " 1911.0: Int64Index([12135], dtype='int64'),\n",
              " 1912.0: Int64Index([14859], dtype='int64'),\n",
              " 1915.0: Int64Index([5461, 10132], dtype='int64'),\n",
              " 1918.0: Int64Index([7916], dtype='int64'),\n",
              " 1920.0: Int64Index([14788, 17724], dtype='int64'),\n",
              " 1925.0: Int64Index([166, 7987], dtype='int64'),\n",
              " 1929.0: Int64Index([16774], dtype='int64'),\n",
              " 1930.0: Int64Index([12097, 18808], dtype='int64'),\n",
              " 1933.0: Int64Index([12101], dtype='int64'),\n",
              " 1937.0: Int64Index([365], dtype='int64'),\n",
              " 1940.0: Int64Index([7851, 9597, 17580], dtype='int64'),\n",
              " 1942.0: Int64Index([5465], dtype='int64'),\n",
              " 1945.0: Int64Index([3296, 3308], dtype='int64'),\n",
              " 1947.0: Int64Index([4189], dtype='int64'),\n",
              " 1949.0: Int64Index([5052, 16716, 17405, 17895, 18376], dtype='int64'),\n",
              " 1950.0: Int64Index([ 1540,  4718,  5545,  8032,  9839, 11728, 12798, 15047, 15121,\n",
              "             15122, 15728, 16628, 19697],\n",
              "            dtype='int64'),\n",
              " 1954.0: Int64Index([8003], dtype='int64'),\n",
              " 1957.0: Int64Index([14854, 14861, 14867], dtype='int64'),\n",
              " 1958.0: Int64Index([16452, 19804, 19811, 19840, 19852, 19929, 19930, 19947], dtype='int64'),\n",
              " 1964.0: Int64Index([15398], dtype='int64'),\n",
              " 1965.0: Int64Index([9553, 9554], dtype='int64'),\n",
              " 1969.0: Int64Index([5135], dtype='int64'),\n",
              " 1973.0: Int64Index([5613], dtype='int64'),\n",
              " 1975.0: Int64Index([7940], dtype='int64'),\n",
              " 1978.0: Int64Index([14747], dtype='int64'),\n",
              " 1980.0: Int64Index([1633, 4048, 4124, 4321, 4455, 4640, 5045, 5261, 7517, 15328, 18794,\n",
              "             19773],\n",
              "            dtype='int64'),\n",
              " 1988.0: Int64Index([15780], dtype='int64'),\n",
              " 1989.0: Int64Index([3748], dtype='int64'),\n",
              " 1990.0: Int64Index([   72,   248,   645,  1806,  7051, 10407, 10747, 14669, 14997,\n",
              "             15036, 15110, 15140, 15543, 16083, 16177, 18004, 18029, 18048,\n",
              "             18134, 18205, 19500, 19541, 19553, 19580, 19644],\n",
              "            dtype='int64'),\n",
              " 1991.0: Int64Index([10731], dtype='int64'),\n",
              " 1995.0: Int64Index([  200,   652,   653,   941,   960,   980,   983,  1604,  1657,\n",
              "              3034,  3284,  3411,  6990,  7381,  7779, 11485, 11881, 11943,\n",
              "             12679, 15656, 15711, 17311, 19472, 19480, 19576, 19592, 19606,\n",
              "             19668, 19724, 19733, 19740, 19753],\n",
              "            dtype='int64'),\n",
              " 1996.0: Int64Index([17220], dtype='int64'),\n",
              " 1998.0: Int64Index([  575,   577,   580,   582,   584,   586,   604,  1583,  1598,\n",
              "             14503, 15641, 15879, 15989, 16798, 19538],\n",
              "            dtype='int64'),\n",
              " 1999.0: Int64Index([   40,    78,   122,   220,   233,   238,   254,   269,   446,\n",
              "               473,\n",
              "             ...\n",
              "             19048, 19061, 19324, 19377, 19522, 19617, 19641, 19690, 19726,\n",
              "             19863],\n",
              "            dtype='int64', length=537),\n",
              " 2000.0: Int64Index([  119,   319,   414,   445,   825,  1007,  1204,  1247,  1328,\n",
              "              1339,\n",
              "             ...\n",
              "             17948, 18039, 18083, 18118, 18142, 18350, 18747, 19347, 19440,\n",
              "             19488],\n",
              "            dtype='int64', length=123),\n",
              " 2004.0: Int64Index([9340], dtype='int64'),\n",
              " 2009.0: Int64Index([18563], dtype='int64'),\n",
              " 2010.0: Int64Index([16854, 18944], dtype='int64'),\n",
              " 2020.0: Int64Index([15757, 15759], dtype='int64'),\n",
              " 2025.0: Int64Index([14858, 14860], dtype='int64'),\n",
              " 2029.0: Int64Index([16811], dtype='int64'),\n",
              " 2036.0: Int64Index([5687], dtype='int64'),\n",
              " 2045.0: Int64Index([11474], dtype='int64'),\n",
              " 2049.0: Int64Index([1902, 9819, 9820, 9821, 10194, 10850, 13709, 16396], dtype='int64'),\n",
              " 2050.0: Int64Index([15615, 15736, 16852, 18487], dtype='int64'),\n",
              " 2055.0: Int64Index([649, 18031], dtype='int64'),\n",
              " 2058.0: Int64Index([19819, 19843, 19882, 19925, 19933, 19957, 19968], dtype='int64'),\n",
              " 2059.0: Int64Index([17463], dtype='int64'),\n",
              " 2070.0: Int64Index([646, 15127], dtype='int64'),\n",
              " 2075.0: Int64Index([18274], dtype='int64'),\n",
              " 2079.0: Int64Index([7551], dtype='int64'),\n",
              " 2080.0: Int64Index([8756, 16536], dtype='int64'),\n",
              " 2081.0: Int64Index([920], dtype='int64'),\n",
              " 2089.0: Int64Index([11879, 12003], dtype='int64'),\n",
              " 2090.0: Int64Index([11665, 18682], dtype='int64'),\n",
              " 2095.0: Int64Index([101, 240, 596], dtype='int64'),\n",
              " 2097.0: Int64Index([3052, 13753, 17630, 17631], dtype='int64'),\n",
              " 2098.0: Int64Index([13899, 13919, 14079], dtype='int64'),\n",
              " 2099.0: Int64Index([   46,   197,   373,   503,   545,   773,  1117,  1374,  3027,\n",
              "              4982,  9292,  9348,  9374,  9887, 10463, 10485, 11051, 13660,\n",
              "             14655, 14778, 14906, 15484, 15610, 15652, 15657, 15768, 15797,\n",
              "             15825, 16065, 16670, 16694, 16733, 16756, 16822, 17457, 18641,\n",
              "             19796],\n",
              "            dtype='int64'),\n",
              " 2100.0: Int64Index([ 1119,  1429,  1455,  1808,  4044,  4133,  4210,  4277,  4567,\n",
              "              4634,  5126,  5472,  6570,  9900, 10388, 10397, 10402, 10409,\n",
              "             10413, 11430, 11902, 12049, 12509, 14953, 14968, 14973, 15422,\n",
              "             15643, 15744, 15790, 16145, 16681, 16718, 16728, 17484, 17485,\n",
              "             17486, 17487, 17490, 18388, 18398, 18408, 18428, 18429, 18435,\n",
              "             18457, 18460, 18465, 18468, 18475, 18479, 18785, 18789, 19501,\n",
              "             19542, 19662],\n",
              "            dtype='int64'),\n",
              " 2106.0: Int64Index([11662], dtype='int64'),\n",
              " 2110.0: Int64Index([17383], dtype='int64'),\n",
              " 2114.0: Int64Index([18262], dtype='int64'),\n",
              " 2120.0: Int64Index([648], dtype='int64'),\n",
              " 2124.0: Int64Index([18275], dtype='int64'),\n",
              " 2125.0: Int64Index([10227], dtype='int64'),\n",
              " 2138.0: Int64Index([14846, 14849, 14852, 14857, 14866, 15769], dtype='int64'),\n",
              " 2142.0: Int64Index([19424], dtype='int64'),\n",
              " 2145.0: Int64Index([4804, 9138, 10478, 18959], dtype='int64'),\n",
              " 2149.0: Int64Index([ 7904,  8042, 10854, 14696, 14700, 14704, 14985, 14987, 14988,\n",
              "             14990, 14991, 15155, 15523, 15581, 16075],\n",
              "            dtype='int64'),\n",
              " 2150.0: Int64Index([264, 900, 1344, 8056, 10424, 11532, 16839, 19155, 19611], dtype='int64'),\n",
              " 2158.0: Int64Index([19793], dtype='int64'),\n",
              " 2160.0: Int64Index([16087, 18508], dtype='int64'),\n",
              " 2163.0: Int64Index([11479], dtype='int64'),\n",
              " 2164.0: Int64Index([554], dtype='int64'),\n",
              " 2165.0: Int64Index([14808], dtype='int64'),\n",
              " 2170.0: Int64Index([8708, 11595], dtype='int64'),\n",
              " 2175.0: Int64Index([1558], dtype='int64'),\n",
              " 2179.0: Int64Index([17553], dtype='int64'),\n",
              " 2186.0: Int64Index([19153], dtype='int64'),\n",
              " 2188.0: Int64Index([15739], dtype='int64'),\n",
              " 2190.0: Int64Index([11588, 11593, 11678, 11691, 18953, 19489, 19569], dtype='int64'),\n",
              " 2195.0: Int64Index([287, 9174, 14984, 14986, 15475], dtype='int64'),\n",
              " 2198.0: Int64Index([14183], dtype='int64'),\n",
              " 2199.0: Int64Index([   29,   136,   145,   182,   247,   274,   301,   305,   306,\n",
              "               312,\n",
              "             ...\n",
              "             17574, 17799, 18030, 18056, 18093, 18163, 18681, 18732, 19689,\n",
              "             19751],\n",
              "            dtype='int64', length=307),\n",
              " 2200.0: Int64Index([  676,  2998,  5307,  5747,  5962,  6253,  8228,  9236,  9254,\n",
              "              9871, 11344, 12998, 13226, 14938, 14965, 15666, 15808, 16460,\n",
              "             17488, 17578, 17918, 17930, 18625, 18738, 18986, 19090, 19393],\n",
              "            dtype='int64'),\n",
              " 2220.0: Int64Index([16469], dtype='int64'),\n",
              " 2222.0: Int64Index([17733], dtype='int64'),\n",
              " 2229.0: Int64Index([7945], dtype='int64'),\n",
              " 2230.0: Int64Index([647], dtype='int64'),\n",
              " 2235.0: Int64Index([3855], dtype='int64'),\n",
              " 2240.0: Int64Index([4794], dtype='int64'),\n",
              " 2245.0: Int64Index([1574, 4495, 16215], dtype='int64'),\n",
              " 2248.0: Int64Index([11548, 11753], dtype='int64'),\n",
              " 2249.0: Int64Index([19131, 19448, 19645, 19717], dtype='int64'),\n",
              " 2250.0: Int64Index([ 3812,  3838,  3849,  3865,  3871,  3904,  3906,  3929,  4159,\n",
              "              4214,  4479,  5022,  5030,  5132,  5193,  5260,  5850,  6125,\n",
              "              6405,  7431,  7787,  9826, 14667, 16068, 16714, 16726, 17584,\n",
              "             18945, 19504],\n",
              "            dtype='int64'),\n",
              " 2257.0: Int64Index([11254], dtype='int64'),\n",
              " 2260.0: Int64Index([18501], dtype='int64'),\n",
              " 2267.0: Int64Index([10750], dtype='int64'),\n",
              " 2271.0: Int64Index([8014], dtype='int64'),\n",
              " 2275.0: Int64Index([15911, 17708], dtype='int64'),\n",
              " 2277.0: Int64Index([1572], dtype='int64'),\n",
              " 2279.0: Int64Index([8015], dtype='int64'),\n",
              " 2280.0: Int64Index([19704], dtype='int64'),\n",
              " 2288.0: Int64Index([15675, 15679, 15681, 15813, 15824, 15837], dtype='int64'),\n",
              " 2290.0: Int64Index([5523, 15654, 19512], dtype='int64'),\n",
              " 2295.0: Int64Index([  194,  3131,  3138,  3352,  3356,  7733,  7956,  9555, 11151,\n",
              "             11717, 13320, 15674, 15688, 15725, 15817, 17962],\n",
              "            dtype='int64'),\n",
              " 2296.0: Int64Index([18607], dtype='int64'),\n",
              " 2298.0: Int64Index([13845, 14162], dtype='int64'),\n",
              " 2299.0: Int64Index([   11,    43,   107,   121,   140,   142,   157,   282,   290,\n",
              "               321,   484,   485,   486,   487,   490,   730,   800,  1415,\n",
              "              1461,  1524,  7367,  8750, 10235, 10236, 10562, 10955, 11745,\n",
              "             11750, 11759, 11763, 11766, 11773, 11774, 11918, 12872, 13413,\n",
              "             13795, 13802, 14656, 14665, 14688, 14905, 15474, 15732, 15742,\n",
              "             15816, 15930, 16033, 16646, 16750, 16772, 17703, 17782, 17803,\n",
              "             17857, 17860, 17864, 18691, 18724, 19729],\n",
              "            dtype='int64'),\n",
              " 2300.0: Int64Index([358, 962, 1584, 3754, 4992, 5717, 6022, 7004, 13352, 15112, 18234], dtype='int64'),\n",
              " 2305.0: Int64Index([15366], dtype='int64'),\n",
              " 2309.0: Int64Index([1000, 15492], dtype='int64'),\n",
              " 2310.0: Int64Index([5073, 6045, 11234], dtype='int64'),\n",
              " 2320.0: Int64Index([10575], dtype='int64'),\n",
              " 2322.0: Int64Index([5458], dtype='int64'),\n",
              " 2325.0: Int64Index([441], dtype='int64'),\n",
              " 2330.0: Int64Index([14707], dtype='int64'),\n",
              " 2334.0: Int64Index([16817], dtype='int64'),\n",
              " 2338.0: Int64Index([9471], dtype='int64'),\n",
              " 2340.0: Int64Index([9278, 10577, 16001], dtype='int64'),\n",
              " 2345.0: Int64Index([198, 19055], dtype='int64'),\n",
              " 2349.0: Int64Index([15505, 15569], dtype='int64'),\n",
              " 2350.0: Int64Index([5582, 15803, 17596, 18074, 19462], dtype='int64'),\n",
              " 2352.0: Int64Index([4328], dtype='int64'),\n",
              " 2358.0: Int64Index([8011], dtype='int64'),\n",
              " 2362.0: Int64Index([14864, 14865], dtype='int64'),\n",
              " 2367.0: Int64Index([12170], dtype='int64'),\n",
              " 2370.0: Int64Index([15411], dtype='int64'),\n",
              " 2375.0: Int64Index([8523, 10053], dtype='int64'),\n",
              " 2376.0: Int64Index([6878], dtype='int64'),\n",
              " 2389.0: Int64Index([18905], dtype='int64'),\n",
              " 2390.0: Int64Index([18392], dtype='int64'),\n",
              " 2393.0: Int64Index([18872], dtype='int64'),\n",
              " 2394.0: Int64Index([508, 17368, 17370], dtype='int64'),\n",
              " 2395.0: Int64Index([9797], dtype='int64'),\n",
              " 2398.0: Int64Index([1137, 7629, 10548, 10549, 10553, 10555, 13761, 13767, 14293], dtype='int64'),\n",
              " 2399.0: Int64Index([  281,  1086,  1102,  1105,  1106,  1112,  3938,  4600,  6229,\n",
              "              6846,  7003,  7608,  7715,  7722,  7730,  7731,  7751,  7760,\n",
              "              7769,  7924,  8029,  9899, 10219, 10241, 11898, 12302, 12803,\n",
              "             13213, 13216, 13445, 13566, 14782, 15477, 15506, 15564, 15660,\n",
              "             15708, 15734, 15810, 15975, 16023, 16100, 16451, 17234, 17758,\n",
              "             17964, 18064, 18821, 18833, 18838, 18993, 19065, 19066, 19068,\n",
              "             19544, 19610, 19676, 19692, 19699, 19781],\n",
              "            dtype='int64'),\n",
              " 2400.0: Int64Index([   22,   433,   516,  1050,  1710,  2974,  3275,  3919,  3926,\n",
              "              5179,  8206,  9188,  9282,  9716,  9721, 12954, 14934, 14939,\n",
              "             14942, 14943, 14949, 15056, 15424, 16144, 18753, 19767],\n",
              "            dtype='int64'),\n",
              " 2417.0: Int64Index([18265], dtype='int64'),\n",
              " 2418.0: Int64Index([16810], dtype='int64'),\n",
              " 2419.0: Int64Index([15525, 15528], dtype='int64'),\n",
              " 2425.0: Int64Index([15942], dtype='int64'),\n",
              " 2434.0: Int64Index([18877], dtype='int64'),\n",
              " 2443.0: Int64Index([1486], dtype='int64'),\n",
              " 2445.0: Int64Index([10290, 10298], dtype='int64'),\n",
              " 2448.0: Int64Index([4243, 12986], dtype='int64'),\n",
              " 2449.0: Int64Index([4971, 5115, 5233, 5925], dtype='int64'),\n",
              " 2450.0: Int64Index([ 3731,  3774,  3792,  3821,  3863,  3867,  3868,  3924,  3939,\n",
              "              3958,  3978,  4014,  4045,  4112,  4125,  4229,  4238,  4322,\n",
              "              4325,  4343,  4356,  4400,  4501,  4591,  4693,  4780,  4836,\n",
              "              4839,  4861,  4868,  4934,  7117,  7152, 11869, 14770, 16856],\n",
              "            dtype='int64'),\n",
              " 2455.0: Int64Index([651], dtype='int64'),\n",
              " 2470.0: Int64Index([16577, 17651], dtype='int64'),\n",
              " 2475.0: Int64Index([11446, 11490, 11495], dtype='int64'),\n",
              " 2477.0: Int64Index([12909, 13577], dtype='int64'),\n",
              " 2480.0: Int64Index([15288], dtype='int64'),\n",
              " 2485.0: Int64Index([15764], dtype='int64'),\n",
              " 2488.0: Int64Index([3290, 15701, 15778, 15804, 15829, 17779, 17867], dtype='int64'),\n",
              " 2490.0: Int64Index([ 1845,  5577, 11105, 11465, 14976, 15544, 16240, 18323, 18330,\n",
              "             18824, 18826, 18834],\n",
              "            dtype='int64'),\n",
              " 2495.0: Int64Index([  235,   286,   939,   966,   968,  1539,  4203,  4585,  4745,\n",
              "              7702,  7859,  9677, 11600, 11622, 12110, 12387, 13084, 13298,\n",
              "             13805, 15648, 16225, 16529, 16533, 16534, 16535, 16547, 17771,\n",
              "             19318],\n",
              "            dtype='int64'),\n",
              " 2498.0: Int64Index([11329, 13104, 13331], dtype='int64'),\n",
              " 2499.0: Int64Index([   18,    96,   105,   155,   163,   177,   183,   185,   191,\n",
              "               192,\n",
              "             ...\n",
              "             19664, 19679, 19681, 19687, 19695, 19705, 19715, 19722, 19758,\n",
              "             19785],\n",
              "            dtype='int64', length=190),\n",
              " 2500.0: Int64Index([  443,   463,  1410,  1466,  1485,  1581,  1687,  1689,  1863,\n",
              "              3892,\n",
              "             ...\n",
              "             18258, 18260, 18954, 18967, 19172, 19200, 19285, 19341, 19390,\n",
              "             19418],\n",
              "            dtype='int64', length=102),\n",
              " 2520.0: Int64Index([9827], dtype='int64'),\n",
              " 2525.0: Int64Index([9465], dtype='int64'),\n",
              " 2529.0: Int64Index([15495, 16809], dtype='int64'),\n",
              " 2537.0: Int64Index([12951], dtype='int64'),\n",
              " 2540.0: Int64Index([16059], dtype='int64'),\n",
              " 2545.0: Int64Index([16357], dtype='int64'),\n",
              " 2549.0: Int64Index([4710, 4985, 10490], dtype='int64'),\n",
              " 2550.0: Int64Index([442, 8959], dtype='int64'),\n",
              " 2560.0: Int64Index([9801], dtype='int64'),\n",
              " 2568.0: Int64Index([5420], dtype='int64'),\n",
              " 2570.0: Int64Index([8317], dtype='int64'),\n",
              " 2575.0: Int64Index([19748], dtype='int64'),\n",
              " 2580.0: Int64Index([3350, 10401], dtype='int64'),\n",
              " 2582.0: Int64Index([10470], dtype='int64'),\n",
              " 2585.0: Int64Index([7855], dtype='int64'),\n",
              " 2588.0: Int64Index([7938], dtype='int64'),\n",
              " 2589.0: Int64Index([9448], dtype='int64'),\n",
              " 2590.0: Int64Index([9829, 11673, 17762], dtype='int64'),\n",
              " 2595.0: Int64Index([9885], dtype='int64'),\n",
              " 2598.0: Int64Index([8186, 8409, 8452, 8511, 8604, 8739, 15645, 15886, 15984, 15988,\n",
              "             16021],\n",
              "            dtype='int64'),\n",
              " 2599.0: Int64Index([   80,    82,   483,   988,  1504,  1545,  3104,  4231,  6149,\n",
              "              6218,  6825,  8546,  9596,  9961, 10457, 10736, 10744, 10754,\n",
              "             10759, 13197, 13337, 13711, 13730, 13882, 14325, 14597, 14648,\n",
              "             14904, 15387, 15706, 15795, 16057, 16521, 16643, 16647, 16648,\n",
              "             16667, 16789, 16820, 16821, 17231, 17735, 18043, 18292, 18633,\n",
              "             19521, 19570, 19659, 19953],\n",
              "            dtype='int64'),\n",
              " 2600.0: Int64Index([  573,  3872,  3983,  4132,  4431,  4777,  6119,  7801,  9247,\n",
              "              9718,  9802,  9872, 10201, 10563, 11524, 11798, 16361, 19438],\n",
              "            dtype='int64'),\n",
              " 2609.0: Int64Index([727, 16808], dtype='int64'),\n",
              " 2613.0: Int64Index([18267], dtype='int64'),\n",
              " 2620.0: Int64Index([9232], dtype='int64'),\n",
              " 2624.0: Int64Index([989], dtype='int64'),\n",
              " 2625.0: Int64Index([7781], dtype='int64'),\n",
              " 2630.0: Int64Index([650], dtype='int64'),\n",
              " 2635.0: Int64Index([14862], dtype='int64'),\n",
              " 2639.0: Int64Index([7893], dtype='int64'),\n",
              " 2645.0: Int64Index([971], dtype='int64'),\n",
              " 2647.0: Int64Index([14328, 14511], dtype='int64'),\n",
              " 2649.0: Int64Index([5327, 5405, 15572], dtype='int64'),\n",
              " 2650.0: Int64Index([249, 4757, 16660, 18448], dtype='int64'),\n",
              " 2666.0: Int64Index([3293], dtype='int64'),\n",
              " 2690.0: Int64Index([10392, 19698], dtype='int64'),\n",
              " 2695.0: Int64Index([3082, 7901, 9634, 15702, 17801], dtype='int64'),\n",
              " 2696.0: Int64Index([937], dtype='int64'),\n",
              " 2697.0: Int64Index([17458], dtype='int64'),\n",
              " 2698.0: Int64Index([13970], dtype='int64'),\n",
              " 2699.0: Int64Index([   77,   168,  1068,  1070,  3408,  4695,  5014,  5148,  5267,\n",
              "              6231,  8307,  8465,  8468,  8470,  8603,  8608,  9360,  9779,\n",
              "             10738, 13237, 14907, 15680, 15685, 15729, 15773, 16397, 16413,\n",
              "             16842, 18674, 18712, 19478, 19741],\n",
              "            dtype='int64'),\n",
              " 2700.0: Int64Index([  444,   816,  1317,  1321,  1342,  1543,  1631,  6355,  8882,\n",
              "              9828, 11803, 16020, 17027, 17477, 18717],\n",
              "            dtype='int64'),\n",
              " 2712.0: Int64Index([944], dtype='int64'),\n",
              " 2730.0: Int64Index([7190], dtype='int64'),\n",
              " 2733.0: Int64Index([769], dtype='int64'),\n",
              " ...}"
            ]
          },
          "metadata": {
            "tags": []
          },
          "execution_count": 5
        }
      ]
    },
    {
      "cell_type": "code",
      "metadata": {
        "id": "CAwI-cry9y0_",
        "colab_type": "code",
        "outputId": "9097356b-6277-4910-ce4b-f73106d14beb",
        "colab": {
          "base_uri": "https://localhost:8080/",
          "height": 439
        }
      },
      "source": [
        "#prints whether value is there or not in data\n",
        "a.isna()"
      ],
      "execution_count": 0,
      "outputs": [
        {
          "output_type": "execute_result",
          "data": {
            "text/html": [
              "<div>\n",
              "<style scoped>\n",
              "    .dataframe tbody tr th:only-of-type {\n",
              "        vertical-align: middle;\n",
              "    }\n",
              "\n",
              "    .dataframe tbody tr th {\n",
              "        vertical-align: top;\n",
              "    }\n",
              "\n",
              "    .dataframe thead th {\n",
              "        text-align: right;\n",
              "    }\n",
              "</style>\n",
              "<table border=\"1\" class=\"dataframe\">\n",
              "  <thead>\n",
              "    <tr style=\"text-align: right;\">\n",
              "      <th></th>\n",
              "      <th>uniq_id</th>\n",
              "      <th>crawl_timestamp</th>\n",
              "      <th>product_url</th>\n",
              "      <th>product_name</th>\n",
              "      <th>product_category_tree</th>\n",
              "      <th>pid</th>\n",
              "      <th>retail_price</th>\n",
              "      <th>discounted_price</th>\n",
              "      <th>image</th>\n",
              "      <th>is_FK_Advantage_product</th>\n",
              "      <th>description</th>\n",
              "      <th>product_rating</th>\n",
              "      <th>overall_rating</th>\n",
              "      <th>brand</th>\n",
              "      <th>product_specifications</th>\n",
              "    </tr>\n",
              "  </thead>\n",
              "  <tbody>\n",
              "    <tr>\n",
              "      <th>0</th>\n",
              "      <td>False</td>\n",
              "      <td>False</td>\n",
              "      <td>False</td>\n",
              "      <td>False</td>\n",
              "      <td>False</td>\n",
              "      <td>False</td>\n",
              "      <td>False</td>\n",
              "      <td>False</td>\n",
              "      <td>False</td>\n",
              "      <td>False</td>\n",
              "      <td>False</td>\n",
              "      <td>False</td>\n",
              "      <td>False</td>\n",
              "      <td>False</td>\n",
              "      <td>False</td>\n",
              "    </tr>\n",
              "    <tr>\n",
              "      <th>1</th>\n",
              "      <td>False</td>\n",
              "      <td>False</td>\n",
              "      <td>False</td>\n",
              "      <td>False</td>\n",
              "      <td>False</td>\n",
              "      <td>False</td>\n",
              "      <td>False</td>\n",
              "      <td>False</td>\n",
              "      <td>False</td>\n",
              "      <td>False</td>\n",
              "      <td>False</td>\n",
              "      <td>False</td>\n",
              "      <td>False</td>\n",
              "      <td>False</td>\n",
              "      <td>False</td>\n",
              "    </tr>\n",
              "    <tr>\n",
              "      <th>2</th>\n",
              "      <td>False</td>\n",
              "      <td>False</td>\n",
              "      <td>False</td>\n",
              "      <td>False</td>\n",
              "      <td>False</td>\n",
              "      <td>False</td>\n",
              "      <td>False</td>\n",
              "      <td>False</td>\n",
              "      <td>False</td>\n",
              "      <td>False</td>\n",
              "      <td>False</td>\n",
              "      <td>False</td>\n",
              "      <td>False</td>\n",
              "      <td>False</td>\n",
              "      <td>False</td>\n",
              "    </tr>\n",
              "    <tr>\n",
              "      <th>3</th>\n",
              "      <td>False</td>\n",
              "      <td>False</td>\n",
              "      <td>False</td>\n",
              "      <td>False</td>\n",
              "      <td>False</td>\n",
              "      <td>False</td>\n",
              "      <td>False</td>\n",
              "      <td>False</td>\n",
              "      <td>False</td>\n",
              "      <td>False</td>\n",
              "      <td>False</td>\n",
              "      <td>False</td>\n",
              "      <td>False</td>\n",
              "      <td>False</td>\n",
              "      <td>False</td>\n",
              "    </tr>\n",
              "    <tr>\n",
              "      <th>4</th>\n",
              "      <td>False</td>\n",
              "      <td>False</td>\n",
              "      <td>False</td>\n",
              "      <td>False</td>\n",
              "      <td>False</td>\n",
              "      <td>False</td>\n",
              "      <td>False</td>\n",
              "      <td>False</td>\n",
              "      <td>False</td>\n",
              "      <td>False</td>\n",
              "      <td>False</td>\n",
              "      <td>False</td>\n",
              "      <td>False</td>\n",
              "      <td>False</td>\n",
              "      <td>False</td>\n",
              "    </tr>\n",
              "    <tr>\n",
              "      <th>...</th>\n",
              "      <td>...</td>\n",
              "      <td>...</td>\n",
              "      <td>...</td>\n",
              "      <td>...</td>\n",
              "      <td>...</td>\n",
              "      <td>...</td>\n",
              "      <td>...</td>\n",
              "      <td>...</td>\n",
              "      <td>...</td>\n",
              "      <td>...</td>\n",
              "      <td>...</td>\n",
              "      <td>...</td>\n",
              "      <td>...</td>\n",
              "      <td>...</td>\n",
              "      <td>...</td>\n",
              "    </tr>\n",
              "    <tr>\n",
              "      <th>19995</th>\n",
              "      <td>False</td>\n",
              "      <td>False</td>\n",
              "      <td>False</td>\n",
              "      <td>False</td>\n",
              "      <td>False</td>\n",
              "      <td>False</td>\n",
              "      <td>False</td>\n",
              "      <td>False</td>\n",
              "      <td>False</td>\n",
              "      <td>False</td>\n",
              "      <td>False</td>\n",
              "      <td>False</td>\n",
              "      <td>False</td>\n",
              "      <td>False</td>\n",
              "      <td>False</td>\n",
              "    </tr>\n",
              "    <tr>\n",
              "      <th>19996</th>\n",
              "      <td>False</td>\n",
              "      <td>False</td>\n",
              "      <td>False</td>\n",
              "      <td>False</td>\n",
              "      <td>False</td>\n",
              "      <td>False</td>\n",
              "      <td>False</td>\n",
              "      <td>False</td>\n",
              "      <td>False</td>\n",
              "      <td>False</td>\n",
              "      <td>False</td>\n",
              "      <td>False</td>\n",
              "      <td>False</td>\n",
              "      <td>False</td>\n",
              "      <td>False</td>\n",
              "    </tr>\n",
              "    <tr>\n",
              "      <th>19997</th>\n",
              "      <td>False</td>\n",
              "      <td>False</td>\n",
              "      <td>False</td>\n",
              "      <td>False</td>\n",
              "      <td>False</td>\n",
              "      <td>False</td>\n",
              "      <td>False</td>\n",
              "      <td>False</td>\n",
              "      <td>False</td>\n",
              "      <td>False</td>\n",
              "      <td>False</td>\n",
              "      <td>False</td>\n",
              "      <td>False</td>\n",
              "      <td>False</td>\n",
              "      <td>False</td>\n",
              "    </tr>\n",
              "    <tr>\n",
              "      <th>19998</th>\n",
              "      <td>False</td>\n",
              "      <td>False</td>\n",
              "      <td>False</td>\n",
              "      <td>False</td>\n",
              "      <td>False</td>\n",
              "      <td>False</td>\n",
              "      <td>False</td>\n",
              "      <td>False</td>\n",
              "      <td>False</td>\n",
              "      <td>False</td>\n",
              "      <td>False</td>\n",
              "      <td>False</td>\n",
              "      <td>False</td>\n",
              "      <td>False</td>\n",
              "      <td>False</td>\n",
              "    </tr>\n",
              "    <tr>\n",
              "      <th>19999</th>\n",
              "      <td>False</td>\n",
              "      <td>False</td>\n",
              "      <td>False</td>\n",
              "      <td>False</td>\n",
              "      <td>False</td>\n",
              "      <td>False</td>\n",
              "      <td>False</td>\n",
              "      <td>False</td>\n",
              "      <td>False</td>\n",
              "      <td>False</td>\n",
              "      <td>False</td>\n",
              "      <td>False</td>\n",
              "      <td>False</td>\n",
              "      <td>False</td>\n",
              "      <td>False</td>\n",
              "    </tr>\n",
              "  </tbody>\n",
              "</table>\n",
              "<p>20000 rows × 15 columns</p>\n",
              "</div>"
            ],
            "text/plain": [
              "       uniq_id  crawl_timestamp  ...  brand  product_specifications\n",
              "0        False            False  ...  False                   False\n",
              "1        False            False  ...  False                   False\n",
              "2        False            False  ...  False                   False\n",
              "3        False            False  ...  False                   False\n",
              "4        False            False  ...  False                   False\n",
              "...        ...              ...  ...    ...                     ...\n",
              "19995    False            False  ...  False                   False\n",
              "19996    False            False  ...  False                   False\n",
              "19997    False            False  ...  False                   False\n",
              "19998    False            False  ...  False                   False\n",
              "19999    False            False  ...  False                   False\n",
              "\n",
              "[20000 rows x 15 columns]"
            ]
          },
          "metadata": {
            "tags": []
          },
          "execution_count": 6
        }
      ]
    },
    {
      "cell_type": "code",
      "metadata": {
        "id": "a2AXHJd2kV8T",
        "colab_type": "code",
        "outputId": "362b3442-24a7-485a-f4d0-c0bfd7c2294d",
        "colab": {
          "base_uri": "https://localhost:8080/",
          "height": 34
        }
      },
      "source": [
        "#1\n",
        "a['retail_price'].max()#prints maximum value of the row"
      ],
      "execution_count": 0,
      "outputs": [
        {
          "output_type": "execute_result",
          "data": {
            "text/plain": [
              "571230.0"
            ]
          },
          "metadata": {
            "tags": []
          },
          "execution_count": 24
        }
      ]
    },
    {
      "cell_type": "code",
      "metadata": {
        "id": "ZVDF8ncqkoh0",
        "colab_type": "code",
        "outputId": "d600a1f2-e5be-4eb7-d609-3c304f02a2ab",
        "colab": {
          "base_uri": "https://localhost:8080/",
          "height": 34
        }
      },
      "source": [
        "#2\n",
        "a['discounted_price'].max()"
      ],
      "execution_count": 0,
      "outputs": [
        {
          "output_type": "execute_result",
          "data": {
            "text/plain": [
              "571230.0"
            ]
          },
          "metadata": {
            "tags": []
          },
          "execution_count": 25
        }
      ]
    },
    {
      "cell_type": "code",
      "metadata": {
        "id": "HAQIJG1dk4WA",
        "colab_type": "code",
        "outputId": "47977118-08c3-426d-edcb-a1a934abfa4c",
        "colab": {
          "base_uri": "https://localhost:8080/",
          "height": 51
        }
      },
      "source": [
        "#3\n",
        "a['product_rating'].mode()"
      ],
      "execution_count": 0,
      "outputs": [
        {
          "output_type": "execute_result",
          "data": {
            "text/plain": [
              "0    No rating available\n",
              "dtype: object"
            ]
          },
          "metadata": {
            "tags": []
          },
          "execution_count": 9
        }
      ]
    },
    {
      "cell_type": "code",
      "metadata": {
        "id": "CRFUueATlG3U",
        "colab_type": "code",
        "outputId": "e0d1b0ce-4976-44ba-afba-3973fbb29c05",
        "colab": {
          "base_uri": "https://localhost:8080/",
          "height": 34
        }
      },
      "source": [
        "#4\n",
        "a['is_FK_Advantage_product'].max()"
      ],
      "execution_count": 0,
      "outputs": [
        {
          "output_type": "execute_result",
          "data": {
            "text/plain": [
              "True"
            ]
          },
          "metadata": {
            "tags": []
          },
          "execution_count": 78
        }
      ]
    },
    {
      "cell_type": "code",
      "metadata": {
        "id": "KtI_6sBtleHM",
        "colab_type": "code",
        "outputId": "d9344020-af65-407d-afe3-d8f64569d10a",
        "colab": {
          "base_uri": "https://localhost:8080/",
          "height": 51
        }
      },
      "source": [
        "#5\n",
        "a['product_name'].mode()"
      ],
      "execution_count": 0,
      "outputs": [
        {
          "output_type": "execute_result",
          "data": {
            "text/plain": [
              "0    TheLostPuppy Back Cover for Apple iPad Air\n",
              "dtype: object"
            ]
          },
          "metadata": {
            "tags": []
          },
          "execution_count": 31
        }
      ]
    },
    {
      "cell_type": "code",
      "metadata": {
        "id": "U40sVco9lt_y",
        "colab_type": "code",
        "outputId": "e251c866-abb2-4c73-8977-1ec46103f839",
        "colab": {
          "base_uri": "https://localhost:8080/",
          "height": 51
        }
      },
      "source": [
        "#6\n",
        "a['brand'].mode()"
      ],
      "execution_count": 0,
      "outputs": [
        {
          "output_type": "execute_result",
          "data": {
            "text/plain": [
              "0    Allure Auto\n",
              "dtype: object"
            ]
          },
          "metadata": {
            "tags": []
          },
          "execution_count": 34
        }
      ]
    },
    {
      "cell_type": "code",
      "metadata": {
        "id": "L6916gmrKizT",
        "colab_type": "code",
        "outputId": "f1fb5aae-c462-4e37-e849-ac2a62472637",
        "colab": {
          "base_uri": "https://localhost:8080/",
          "height": 51
        }
      },
      "source": [
        "#7\n",
        "a['crawl_timestamp'].mode()"
      ],
      "execution_count": 0,
      "outputs": [
        {
          "output_type": "execute_result",
          "data": {
            "text/plain": [
              "0    2015-12-01 12:40:44 +0000\n",
              "dtype: object"
            ]
          },
          "metadata": {
            "tags": []
          },
          "execution_count": 4
        }
      ]
    },
    {
      "cell_type": "code",
      "metadata": {
        "id": "3V8xWgl3K41Y",
        "colab_type": "code",
        "outputId": "9228a2a1-4f16-4082-fe8d-9adcb7dfbd6b",
        "colab": {
          "base_uri": "https://localhost:8080/",
          "height": 51
        }
      },
      "source": [
        "#8\n",
        "a['product_specifications'].mode()"
      ],
      "execution_count": 0,
      "outputs": [
        {
          "output_type": "execute_result",
          "data": {
            "text/plain": [
              "0    {\"product_specification\"=>[{\"key\"=>\"Type\", \"va...\n",
              "dtype: object"
            ]
          },
          "metadata": {
            "tags": []
          },
          "execution_count": 5
        }
      ]
    },
    {
      "cell_type": "code",
      "metadata": {
        "id": "kmVf2mUFLjA7",
        "colab_type": "code",
        "outputId": "ae400fbb-ea59-4af9-99c9-c7771c5538d6",
        "colab": {
          "base_uri": "https://localhost:8080/",
          "height": 34
        }
      },
      "source": [
        "#9\n",
        "a['overall_rating'].min()"
      ],
      "execution_count": 0,
      "outputs": [
        {
          "output_type": "execute_result",
          "data": {
            "text/plain": [
              "'1'"
            ]
          },
          "metadata": {
            "tags": []
          },
          "execution_count": 6
        }
      ]
    },
    {
      "cell_type": "code",
      "metadata": {
        "id": "Mh-Dkj66Lr1Y",
        "colab_type": "code",
        "outputId": "09727934-5835-4aed-cc86-6b87aece097a",
        "colab": {
          "base_uri": "https://localhost:8080/",
          "height": 34
        }
      },
      "source": [
        "#10\n",
        "a['pid'].max()"
      ],
      "execution_count": 0,
      "outputs": [
        {
          "output_type": "execute_result",
          "data": {
            "text/plain": [
              "'YSPEGGA5JKZFHP97'"
            ]
          },
          "metadata": {
            "tags": []
          },
          "execution_count": 8
        }
      ]
    },
    {
      "cell_type": "code",
      "metadata": {
        "id": "a4bVhYUHq4j3",
        "colab_type": "code",
        "outputId": "abca5777-9b33-474d-d8eb-6ff0bcca5e06",
        "colab": {
          "base_uri": "https://localhost:8080/",
          "height": 295
        }
      },
      "source": [
        "#line plot\n",
        "b=a['retail_price']\n",
        "c=a['discounted_price']\n",
        "plt.plot(b,c,color='r',marker='o',markerfacecolor='r')\n",
        "plt.xlabel('xaxis')\n",
        "plt.ylabel('yaxis')\n",
        "plt.title('line plot')\n",
        "plt.grid(True,linestyle='-.',color='k')\n",
        "plt.show()"
      ],
      "execution_count": 0,
      "outputs": [
        {
          "output_type": "display_data",
          "data": {
            "image/png": "[encoded data removed]",
            "text/plain": [
              "<Figure size 432x288 with 1 Axes>"
            ]
          },
          "metadata": {
            "tags": []
          }
        }
      ]
    },
    {
      "cell_type": "code",
      "metadata": {
        "id": "zMna6UNhuUnK",
        "colab_type": "code",
        "outputId": "9b75cbe4-f65d-42b7-eb04-96fc0d7583ce",
        "colab": {
          "base_uri": "https://localhost:8080/",
          "height": 295
        }
      },
      "source": [
        "#scatter plot\n",
        "b=a['retail_price']\n",
        "c=a['discounted_price']\n",
        "plt.scatter(b,c,color='r',marker='o')\n",
        "plt.xlabel('xaxis')\n",
        "plt.ylabel('yaxis')\n",
        "plt.title('scatter plot')\n",
        "plt.grid(True,color='g',linestyle='-.')\n",
        "plt.show()"
      ],
      "execution_count": 0,
      "outputs": [
        {
          "output_type": "display_data",
          "data": {
            "image/png": "[encoded data removed]",
            "text/plain": [
              "<Figure size 432x288 with 1 Axes>"
            ]
          },
          "metadata": {
            "tags": []
          }
        }
      ]
    },
    {
      "cell_type": "code",
      "metadata": {
        "id": "VOMqLbrDvBYE",
        "colab_type": "code",
        "outputId": "f5390b27-46fe-4507-d61a-3eb9aadd0e55",
        "colab": {
          "base_uri": "https://localhost:8080/",
          "height": 295
        }
      },
      "source": [
        "#histogram\n",
        "f=a['discounted_price']\n",
        "g=range(1,100)\n",
        "plt.hist(f,g,histtype='bar',rwidth=0.8,label='discounted_price')\n",
        "plt.legend(loc='upper right')\n",
        "plt.xlabel('xaxis')\n",
        "plt.ylabel('yaxis')\n",
        "plt.title('histogram')\n",
        "plt.show()\n",
        "\n"
      ],
      "execution_count": 0,
      "outputs": [
        {
          "output_type": "display_data",
          "data": {
            "image/png": "[encoded data removed]",
            "text/plain": [
              "<Figure size 432x288 with 1 Axes>"
            ]
          },
          "metadata": {
            "tags": []
          }
        }
      ]
    },
    {
      "cell_type": "code",
      "metadata": {
        "id": "Zs6CJOcjwJxa",
        "colab_type": "code",
        "colab": {}
      },
      "source": [
        ""
      ],
      "execution_count": 0,
      "outputs": []
    },
    {
      "cell_type": "code",
      "metadata": {
        "id": "BD0FsYYczDg_",
        "colab_type": "code",
        "colab": {}
      },
      "source": [
        ""
      ],
      "execution_count": 0,
      "outputs": []
    },
    {
      "cell_type": "code",
      "metadata": {
        "id": "4uyROWiq1gKb",
        "colab_type": "code",
        "outputId": "e36b1db0-719b-4873-c15e-c44ba8f98b51",
        "colab": {
          "base_uri": "https://localhost:8080/",
          "height": 295
        }
      },
      "source": [
        "#double line plot\n",
        "o=a['discounted_price']\n",
        "y=a['is_FK_Advantage_product']\n",
        "plt.plot(o,'r',label='line one',marker='o',markerfacecolor='r')\n",
        "plt.plot(y,'g',label='line two',marker='o',markerfacecolor='g')\n",
        "plt.xlabel('xaxis')\n",
        "plt.ylabel('yaxis')\n",
        "plt.title('double line plot')\n",
        "plt.legend(loc='upper right')\n",
        "plt.grid(True,linestyle='--',color='k')\n",
        "plt.show()"
      ],
      "execution_count": 0,
      "outputs": [
        {
          "output_type": "display_data",
          "data": {
            "image/png": "[encoded data removed]",
            "text/plain": [
              "<Figure size 432x288 with 1 Axes>"
            ]
          },
          "metadata": {
            "tags": []
          }
        }
      ]
    },
    {
      "cell_type": "markdown",
      "metadata": {
        "id": "-MAcXe6B4kVM",
        "colab_type": "text"
      },
      "source": [
        "# Group Members Are:\n",
        "\n",
        "\n",
        "*  CH.BALA MAHESH \n",
        "*  CH.VARA PRASAD\n",
        "* I.MANI KUMAR  \n",
        "*  G.RAM REDDY\n",
        "\n",
        "\n",
        "\n",
        "\n",
        "\n",
        "\n",
        "\n",
        "\n",
        "\n",
        "\n",
        "\n"
      ]
    },
    {
      "cell_type": "markdown",
      "metadata": {
        "id": "zOBxIiBb6dMU",
        "colab_type": "text"
      },
      "source": [
        "\n",
        "\n",
        "* From this assignment we learn about the libraries of python like numpy,pandas and matplotlib.\n",
        "* From this we got a idea about pandas and matplotlib.\n",
        "* we learned how to use github and google colab from this project\n",
        "#                      Thank you          \n",
        "\n",
        "\n",
        "\n",
        "\n",
        "\n"
      ]
    }
  ]
}